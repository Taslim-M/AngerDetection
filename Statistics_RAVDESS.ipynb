{
 "cells": [
  {
   "cell_type": "code",
   "execution_count": 1,
   "metadata": {},
   "outputs": [],
   "source": [
    "#Emotion (01 = neutral, 02 = calm, 03 = happy, 04 = sad, 05 = angry, 06 = fearful, 07 = disgust, 08 = surprised)."
   ]
  },
  {
   "cell_type": "code",
   "execution_count": 4,
   "metadata": {},
   "outputs": [],
   "source": [
    "import librosa\n",
    "import librosa.display\n",
    "import matplotlib.pyplot as plt\n",
    "import numpy as np\n",
    "from os import listdir\n",
    "from os.path import isfile, join\n",
    "import os\n",
    "import scipy \n",
    "import pandas as pd\n",
    "import shutil"
   ]
  },
  {
   "cell_type": "code",
   "execution_count": 30,
   "metadata": {},
   "outputs": [],
   "source": [
    "def getEmotion(x):\n",
    "    part = x.split('-')\n",
    "    if part[2] == '01':\n",
    "        return 'neutral'\n",
    "    elif part[2] == '02':\n",
    "        return 'calm'\n",
    "    elif part[2] == '03':\n",
    "        return 'happy'\n",
    "    elif part[2] == '04':\n",
    "        return 'sad'\n",
    "    elif part[2] == '05':\n",
    "        return 'angry'\n",
    "    elif part[2] == '06':\n",
    "        return 'fearful'\n",
    "    elif part[2] == '07':\n",
    "        return 'disgust'\n",
    "    elif part[2] == '08':\n",
    "        return 'surprised'\n",
    "    else:\n",
    "        return 'Unknown'"
   ]
  },
  {
   "cell_type": "code",
   "execution_count": 7,
   "metadata": {},
   "outputs": [],
   "source": [
    "root = r\"data/RAVEDESS/Audio_Speech_Actors_01-24\""
   ]
  },
  {
   "cell_type": "code",
   "execution_count": 9,
   "metadata": {},
   "outputs": [
    {
     "data": {
      "text/plain": [
       "24"
      ]
     },
     "execution_count": 9,
     "metadata": {},
     "output_type": "execute_result"
    }
   ],
   "source": [
    "folders = listdir(root)\n",
    "len(folders)"
   ]
  },
  {
   "cell_type": "code",
   "execution_count": 15,
   "metadata": {},
   "outputs": [],
   "source": [
    "file_names = []\n",
    "lenghts = []\n",
    "for folder in folders:\n",
    "    curr_dir = join(root,folder)\n",
    "    files = listdir(curr_dir)\n",
    "    for file in files:\n",
    "        file_names.append(file)\n",
    "        lenghts.append(librosa.get_duration(filename= join(root,folder,file)))"
   ]
  },
  {
   "cell_type": "code",
   "execution_count": 20,
   "metadata": {},
   "outputs": [
    {
     "data": {
      "text/html": [
       "<div>\n",
       "<style scoped>\n",
       "    .dataframe tbody tr th:only-of-type {\n",
       "        vertical-align: middle;\n",
       "    }\n",
       "\n",
       "    .dataframe tbody tr th {\n",
       "        vertical-align: top;\n",
       "    }\n",
       "\n",
       "    .dataframe thead th {\n",
       "        text-align: right;\n",
       "    }\n",
       "</style>\n",
       "<table border=\"1\" class=\"dataframe\">\n",
       "  <thead>\n",
       "    <tr style=\"text-align: right;\">\n",
       "      <th></th>\n",
       "      <th>Filename</th>\n",
       "    </tr>\n",
       "  </thead>\n",
       "  <tbody>\n",
       "    <tr>\n",
       "      <th>0</th>\n",
       "      <td>03-01-01-01-01-01-01.wav</td>\n",
       "    </tr>\n",
       "    <tr>\n",
       "      <th>1</th>\n",
       "      <td>03-01-01-01-01-02-01.wav</td>\n",
       "    </tr>\n",
       "    <tr>\n",
       "      <th>2</th>\n",
       "      <td>03-01-01-01-02-01-01.wav</td>\n",
       "    </tr>\n",
       "    <tr>\n",
       "      <th>3</th>\n",
       "      <td>03-01-01-01-02-02-01.wav</td>\n",
       "    </tr>\n",
       "    <tr>\n",
       "      <th>4</th>\n",
       "      <td>03-01-02-01-01-01-01.wav</td>\n",
       "    </tr>\n",
       "  </tbody>\n",
       "</table>\n",
       "</div>"
      ],
      "text/plain": [
       "                   Filename\n",
       "0  03-01-01-01-01-01-01.wav\n",
       "1  03-01-01-01-01-02-01.wav\n",
       "2  03-01-01-01-02-01-01.wav\n",
       "3  03-01-01-01-02-02-01.wav\n",
       "4  03-01-02-01-01-01-01.wav"
      ]
     },
     "execution_count": 20,
     "metadata": {},
     "output_type": "execute_result"
    }
   ],
   "source": [
    "df = pd.DataFrame(file_names,columns=['Filename'])\n",
    "df.head()"
   ]
  },
  {
   "cell_type": "code",
   "execution_count": 22,
   "metadata": {},
   "outputs": [
    {
     "data": {
      "text/html": [
       "<div>\n",
       "<style scoped>\n",
       "    .dataframe tbody tr th:only-of-type {\n",
       "        vertical-align: middle;\n",
       "    }\n",
       "\n",
       "    .dataframe tbody tr th {\n",
       "        vertical-align: top;\n",
       "    }\n",
       "\n",
       "    .dataframe thead th {\n",
       "        text-align: right;\n",
       "    }\n",
       "</style>\n",
       "<table border=\"1\" class=\"dataframe\">\n",
       "  <thead>\n",
       "    <tr style=\"text-align: right;\">\n",
       "      <th></th>\n",
       "      <th>Filename</th>\n",
       "      <th>Length</th>\n",
       "    </tr>\n",
       "  </thead>\n",
       "  <tbody>\n",
       "    <tr>\n",
       "      <th>0</th>\n",
       "      <td>03-01-01-01-01-01-01.wav</td>\n",
       "      <td>3.303292</td>\n",
       "    </tr>\n",
       "    <tr>\n",
       "      <th>1</th>\n",
       "      <td>03-01-01-01-01-02-01.wav</td>\n",
       "      <td>3.336667</td>\n",
       "    </tr>\n",
       "    <tr>\n",
       "      <th>2</th>\n",
       "      <td>03-01-01-01-02-01-01.wav</td>\n",
       "      <td>3.269917</td>\n",
       "    </tr>\n",
       "    <tr>\n",
       "      <th>3</th>\n",
       "      <td>03-01-01-01-02-02-01.wav</td>\n",
       "      <td>3.169833</td>\n",
       "    </tr>\n",
       "    <tr>\n",
       "      <th>4</th>\n",
       "      <td>03-01-02-01-01-01-01.wav</td>\n",
       "      <td>3.536854</td>\n",
       "    </tr>\n",
       "  </tbody>\n",
       "</table>\n",
       "</div>"
      ],
      "text/plain": [
       "                   Filename    Length\n",
       "0  03-01-01-01-01-01-01.wav  3.303292\n",
       "1  03-01-01-01-01-02-01.wav  3.336667\n",
       "2  03-01-01-01-02-01-01.wav  3.269917\n",
       "3  03-01-01-01-02-02-01.wav  3.169833\n",
       "4  03-01-02-01-01-01-01.wav  3.536854"
      ]
     },
     "execution_count": 22,
     "metadata": {},
     "output_type": "execute_result"
    }
   ],
   "source": [
    "df['Length'] = lenghts\n",
    "df.head()"
   ]
  },
  {
   "cell_type": "code",
   "execution_count": 33,
   "metadata": {},
   "outputs": [
    {
     "data": {
      "text/plain": [
       "fearful      192\n",
       "angry        192\n",
       "calm         192\n",
       "surprised    192\n",
       "sad          192\n",
       "happy        192\n",
       "disgust      192\n",
       "neutral       96\n",
       "Name: Emotion, dtype: int64"
      ]
     },
     "execution_count": 33,
     "metadata": {},
     "output_type": "execute_result"
    }
   ],
   "source": [
    "df['Emotion'] = df['Filename'].apply(getEmotion)\n",
    "\n",
    "df.Emotion.value_counts()"
   ]
  },
  {
   "cell_type": "code",
   "execution_count": 35,
   "metadata": {},
   "outputs": [
    {
     "data": {
      "text/html": [
       "<div>\n",
       "<style scoped>\n",
       "    .dataframe tbody tr th:only-of-type {\n",
       "        vertical-align: middle;\n",
       "    }\n",
       "\n",
       "    .dataframe tbody tr th {\n",
       "        vertical-align: top;\n",
       "    }\n",
       "\n",
       "    .dataframe thead th {\n",
       "        text-align: right;\n",
       "    }\n",
       "</style>\n",
       "<table border=\"1\" class=\"dataframe\">\n",
       "  <thead>\n",
       "    <tr style=\"text-align: right;\">\n",
       "      <th></th>\n",
       "      <th>Length</th>\n",
       "    </tr>\n",
       "    <tr>\n",
       "      <th>Emotion</th>\n",
       "      <th></th>\n",
       "    </tr>\n",
       "  </thead>\n",
       "  <tbody>\n",
       "    <tr>\n",
       "      <th>angry</th>\n",
       "      <td>3.871404</td>\n",
       "    </tr>\n",
       "    <tr>\n",
       "      <th>calm</th>\n",
       "      <td>3.795806</td>\n",
       "    </tr>\n",
       "    <tr>\n",
       "      <th>disgust</th>\n",
       "      <td>3.941785</td>\n",
       "    </tr>\n",
       "    <tr>\n",
       "      <th>fearful</th>\n",
       "      <td>3.574231</td>\n",
       "    </tr>\n",
       "    <tr>\n",
       "      <th>happy</th>\n",
       "      <td>3.638183</td>\n",
       "    </tr>\n",
       "    <tr>\n",
       "      <th>neutral</th>\n",
       "      <td>3.503153</td>\n",
       "    </tr>\n",
       "    <tr>\n",
       "      <th>sad</th>\n",
       "      <td>3.694490</td>\n",
       "    </tr>\n",
       "    <tr>\n",
       "      <th>surprised</th>\n",
       "      <td>3.487512</td>\n",
       "    </tr>\n",
       "  </tbody>\n",
       "</table>\n",
       "</div>"
      ],
      "text/plain": [
       "             Length\n",
       "Emotion            \n",
       "angry      3.871404\n",
       "calm       3.795806\n",
       "disgust    3.941785\n",
       "fearful    3.574231\n",
       "happy      3.638183\n",
       "neutral    3.503153\n",
       "sad        3.694490\n",
       "surprised  3.487512"
      ]
     },
     "execution_count": 35,
     "metadata": {},
     "output_type": "execute_result"
    }
   ],
   "source": [
    "df.groupby(['Emotion']).mean()"
   ]
  },
  {
   "cell_type": "code",
   "execution_count": 36,
   "metadata": {},
   "outputs": [
    {
     "data": {
      "text/html": [
       "<div>\n",
       "<style scoped>\n",
       "    .dataframe tbody tr th:only-of-type {\n",
       "        vertical-align: middle;\n",
       "    }\n",
       "\n",
       "    .dataframe tbody tr th {\n",
       "        vertical-align: top;\n",
       "    }\n",
       "\n",
       "    .dataframe thead th {\n",
       "        text-align: right;\n",
       "    }\n",
       "</style>\n",
       "<table border=\"1\" class=\"dataframe\">\n",
       "  <thead>\n",
       "    <tr style=\"text-align: right;\">\n",
       "      <th></th>\n",
       "      <th>Filename</th>\n",
       "      <th>Length</th>\n",
       "    </tr>\n",
       "    <tr>\n",
       "      <th>Emotion</th>\n",
       "      <th></th>\n",
       "      <th></th>\n",
       "    </tr>\n",
       "  </thead>\n",
       "  <tbody>\n",
       "    <tr>\n",
       "      <th>angry</th>\n",
       "      <td>03-01-05-01-01-01-01.wav</td>\n",
       "      <td>3.236562</td>\n",
       "    </tr>\n",
       "    <tr>\n",
       "      <th>calm</th>\n",
       "      <td>03-01-02-01-01-01-01.wav</td>\n",
       "      <td>2.936271</td>\n",
       "    </tr>\n",
       "    <tr>\n",
       "      <th>disgust</th>\n",
       "      <td>03-01-07-01-01-01-01.wav</td>\n",
       "      <td>3.136458</td>\n",
       "    </tr>\n",
       "    <tr>\n",
       "      <th>fearful</th>\n",
       "      <td>03-01-06-01-01-01-01.wav</td>\n",
       "      <td>3.069729</td>\n",
       "    </tr>\n",
       "    <tr>\n",
       "      <th>happy</th>\n",
       "      <td>03-01-03-01-01-01-01.wav</td>\n",
       "      <td>3.103104</td>\n",
       "    </tr>\n",
       "    <tr>\n",
       "      <th>neutral</th>\n",
       "      <td>03-01-01-01-01-01-01.wav</td>\n",
       "      <td>3.069729</td>\n",
       "    </tr>\n",
       "    <tr>\n",
       "      <th>sad</th>\n",
       "      <td>03-01-04-01-01-01-01.wav</td>\n",
       "      <td>3.103104</td>\n",
       "    </tr>\n",
       "    <tr>\n",
       "      <th>surprised</th>\n",
       "      <td>03-01-08-01-01-01-01.wav</td>\n",
       "      <td>2.969625</td>\n",
       "    </tr>\n",
       "  </tbody>\n",
       "</table>\n",
       "</div>"
      ],
      "text/plain": [
       "                           Filename    Length\n",
       "Emotion                                      \n",
       "angry      03-01-05-01-01-01-01.wav  3.236562\n",
       "calm       03-01-02-01-01-01-01.wav  2.936271\n",
       "disgust    03-01-07-01-01-01-01.wav  3.136458\n",
       "fearful    03-01-06-01-01-01-01.wav  3.069729\n",
       "happy      03-01-03-01-01-01-01.wav  3.103104\n",
       "neutral    03-01-01-01-01-01-01.wav  3.069729\n",
       "sad        03-01-04-01-01-01-01.wav  3.103104\n",
       "surprised  03-01-08-01-01-01-01.wav  2.969625"
      ]
     },
     "execution_count": 36,
     "metadata": {},
     "output_type": "execute_result"
    }
   ],
   "source": [
    "df.groupby(['Emotion']).min()"
   ]
  },
  {
   "cell_type": "code",
   "execution_count": 37,
   "metadata": {},
   "outputs": [
    {
     "data": {
      "text/html": [
       "<div>\n",
       "<style scoped>\n",
       "    .dataframe tbody tr th:only-of-type {\n",
       "        vertical-align: middle;\n",
       "    }\n",
       "\n",
       "    .dataframe tbody tr th {\n",
       "        vertical-align: top;\n",
       "    }\n",
       "\n",
       "    .dataframe thead th {\n",
       "        text-align: right;\n",
       "    }\n",
       "</style>\n",
       "<table border=\"1\" class=\"dataframe\">\n",
       "  <thead>\n",
       "    <tr style=\"text-align: right;\">\n",
       "      <th></th>\n",
       "      <th>Filename</th>\n",
       "      <th>Length</th>\n",
       "    </tr>\n",
       "    <tr>\n",
       "      <th>Emotion</th>\n",
       "      <th></th>\n",
       "      <th></th>\n",
       "    </tr>\n",
       "  </thead>\n",
       "  <tbody>\n",
       "    <tr>\n",
       "      <th>angry</th>\n",
       "      <td>03-01-05-02-02-02-24.wav</td>\n",
       "      <td>5.105104</td>\n",
       "    </tr>\n",
       "    <tr>\n",
       "      <th>calm</th>\n",
       "      <td>03-01-02-02-02-02-24.wav</td>\n",
       "      <td>4.771438</td>\n",
       "    </tr>\n",
       "    <tr>\n",
       "      <th>disgust</th>\n",
       "      <td>03-01-07-02-02-02-24.wav</td>\n",
       "      <td>5.271937</td>\n",
       "    </tr>\n",
       "    <tr>\n",
       "      <th>fearful</th>\n",
       "      <td>03-01-06-02-02-02-24.wav</td>\n",
       "      <td>5.005000</td>\n",
       "    </tr>\n",
       "    <tr>\n",
       "      <th>happy</th>\n",
       "      <td>03-01-03-02-02-02-24.wav</td>\n",
       "      <td>4.404396</td>\n",
       "    </tr>\n",
       "    <tr>\n",
       "      <th>neutral</th>\n",
       "      <td>03-01-01-01-02-02-24.wav</td>\n",
       "      <td>4.137458</td>\n",
       "    </tr>\n",
       "    <tr>\n",
       "      <th>sad</th>\n",
       "      <td>03-01-04-02-02-02-24.wav</td>\n",
       "      <td>4.738062</td>\n",
       "    </tr>\n",
       "    <tr>\n",
       "      <th>surprised</th>\n",
       "      <td>03-01-08-02-02-02-24.wav</td>\n",
       "      <td>4.637979</td>\n",
       "    </tr>\n",
       "  </tbody>\n",
       "</table>\n",
       "</div>"
      ],
      "text/plain": [
       "                           Filename    Length\n",
       "Emotion                                      \n",
       "angry      03-01-05-02-02-02-24.wav  5.105104\n",
       "calm       03-01-02-02-02-02-24.wav  4.771438\n",
       "disgust    03-01-07-02-02-02-24.wav  5.271937\n",
       "fearful    03-01-06-02-02-02-24.wav  5.005000\n",
       "happy      03-01-03-02-02-02-24.wav  4.404396\n",
       "neutral    03-01-01-01-02-02-24.wav  4.137458\n",
       "sad        03-01-04-02-02-02-24.wav  4.738062\n",
       "surprised  03-01-08-02-02-02-24.wav  4.637979"
      ]
     },
     "execution_count": 37,
     "metadata": {},
     "output_type": "execute_result"
    }
   ],
   "source": [
    "df.groupby(['Emotion']).max()"
   ]
  },
  {
   "cell_type": "code",
   "execution_count": null,
   "metadata": {},
   "outputs": [],
   "source": []
  }
 ],
 "metadata": {
  "kernelspec": {
   "display_name": "Python 3",
   "language": "python",
   "name": "python3"
  },
  "language_info": {
   "codemirror_mode": {
    "name": "ipython",
    "version": 3
   },
   "file_extension": ".py",
   "mimetype": "text/x-python",
   "name": "python",
   "nbconvert_exporter": "python",
   "pygments_lexer": "ipython3",
   "version": "3.6.10"
  }
 },
 "nbformat": 4,
 "nbformat_minor": 2
}

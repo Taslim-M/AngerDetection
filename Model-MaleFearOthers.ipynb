{
 "cells": [
  {
   "cell_type": "markdown",
   "metadata": {},
   "source": [
    "<h1>Model: Male Fear vs. Others</h1>"
   ]
  },
  {
   "cell_type": "code",
   "execution_count": 1,
   "metadata": {
    "scrolled": true
   },
   "outputs": [
    {
     "name": "stderr",
     "output_type": "stream",
     "text": [
      "/home/team3/anaconda3/envs/gpu/lib/python3.7/site-packages/tensorflow/python/framework/dtypes.py:516: FutureWarning: Passing (type, 1) or '1type' as a synonym of type is deprecated; in a future version of numpy, it will be understood as (type, (1,)) / '(1,)type'.\n",
      "  _np_qint8 = np.dtype([(\"qint8\", np.int8, 1)])\n",
      "/home/team3/anaconda3/envs/gpu/lib/python3.7/site-packages/tensorflow/python/framework/dtypes.py:517: FutureWarning: Passing (type, 1) or '1type' as a synonym of type is deprecated; in a future version of numpy, it will be understood as (type, (1,)) / '(1,)type'.\n",
      "  _np_quint8 = np.dtype([(\"quint8\", np.uint8, 1)])\n",
      "/home/team3/anaconda3/envs/gpu/lib/python3.7/site-packages/tensorflow/python/framework/dtypes.py:518: FutureWarning: Passing (type, 1) or '1type' as a synonym of type is deprecated; in a future version of numpy, it will be understood as (type, (1,)) / '(1,)type'.\n",
      "  _np_qint16 = np.dtype([(\"qint16\", np.int16, 1)])\n",
      "/home/team3/anaconda3/envs/gpu/lib/python3.7/site-packages/tensorflow/python/framework/dtypes.py:519: FutureWarning: Passing (type, 1) or '1type' as a synonym of type is deprecated; in a future version of numpy, it will be understood as (type, (1,)) / '(1,)type'.\n",
      "  _np_quint16 = np.dtype([(\"quint16\", np.uint16, 1)])\n",
      "/home/team3/anaconda3/envs/gpu/lib/python3.7/site-packages/tensorflow/python/framework/dtypes.py:520: FutureWarning: Passing (type, 1) or '1type' as a synonym of type is deprecated; in a future version of numpy, it will be understood as (type, (1,)) / '(1,)type'.\n",
      "  _np_qint32 = np.dtype([(\"qint32\", np.int32, 1)])\n",
      "/home/team3/anaconda3/envs/gpu/lib/python3.7/site-packages/tensorflow/python/framework/dtypes.py:525: FutureWarning: Passing (type, 1) or '1type' as a synonym of type is deprecated; in a future version of numpy, it will be understood as (type, (1,)) / '(1,)type'.\n",
      "  np_resource = np.dtype([(\"resource\", np.ubyte, 1)])\n",
      "/home/team3/anaconda3/envs/gpu/lib/python3.7/site-packages/tensorboard/compat/tensorflow_stub/dtypes.py:541: FutureWarning: Passing (type, 1) or '1type' as a synonym of type is deprecated; in a future version of numpy, it will be understood as (type, (1,)) / '(1,)type'.\n",
      "  _np_qint8 = np.dtype([(\"qint8\", np.int8, 1)])\n",
      "/home/team3/anaconda3/envs/gpu/lib/python3.7/site-packages/tensorboard/compat/tensorflow_stub/dtypes.py:542: FutureWarning: Passing (type, 1) or '1type' as a synonym of type is deprecated; in a future version of numpy, it will be understood as (type, (1,)) / '(1,)type'.\n",
      "  _np_quint8 = np.dtype([(\"quint8\", np.uint8, 1)])\n",
      "/home/team3/anaconda3/envs/gpu/lib/python3.7/site-packages/tensorboard/compat/tensorflow_stub/dtypes.py:543: FutureWarning: Passing (type, 1) or '1type' as a synonym of type is deprecated; in a future version of numpy, it will be understood as (type, (1,)) / '(1,)type'.\n",
      "  _np_qint16 = np.dtype([(\"qint16\", np.int16, 1)])\n",
      "/home/team3/anaconda3/envs/gpu/lib/python3.7/site-packages/tensorboard/compat/tensorflow_stub/dtypes.py:544: FutureWarning: Passing (type, 1) or '1type' as a synonym of type is deprecated; in a future version of numpy, it will be understood as (type, (1,)) / '(1,)type'.\n",
      "  _np_quint16 = np.dtype([(\"quint16\", np.uint16, 1)])\n",
      "/home/team3/anaconda3/envs/gpu/lib/python3.7/site-packages/tensorboard/compat/tensorflow_stub/dtypes.py:545: FutureWarning: Passing (type, 1) or '1type' as a synonym of type is deprecated; in a future version of numpy, it will be understood as (type, (1,)) / '(1,)type'.\n",
      "  _np_qint32 = np.dtype([(\"qint32\", np.int32, 1)])\n",
      "/home/team3/anaconda3/envs/gpu/lib/python3.7/site-packages/tensorboard/compat/tensorflow_stub/dtypes.py:550: FutureWarning: Passing (type, 1) or '1type' as a synonym of type is deprecated; in a future version of numpy, it will be understood as (type, (1,)) / '(1,)type'.\n",
      "  np_resource = np.dtype([(\"resource\", np.ubyte, 1)])\n"
     ]
    }
   ],
   "source": [
    "import tensorflow as tf\n",
    "config = tf.ConfigProto()\n",
    "config.gpu_options.allow_growth = True\n",
    "session = tf.Session(config=config)"
   ]
  },
  {
   "cell_type": "code",
   "execution_count": 2,
   "metadata": {},
   "outputs": [
    {
     "name": "stderr",
     "output_type": "stream",
     "text": [
      "Using TensorFlow backend.\n"
     ]
    }
   ],
   "source": [
    "import keras\n",
    "import pandas as pd\n",
    "import tensorflow as tf\n",
    "\n",
    "import numpy as np\n",
    "# from keras.models import Sequential, Model\n",
    "# from keras.layers import Dense, Dropout, Activation, Flatten, Convolution2D, MaxPooling2D, GlobalAveragePooling2D\n",
    "from keras.utils import np_utils\n",
    "\n",
    "from tensorflow.keras.models import Sequential, Model\n",
    "from tensorflow.keras.layers import Dense, Dropout, Activation, Flatten, Convolution2D, MaxPooling2D, GlobalAveragePooling2D, Input,AveragePooling2D, BatchNormalization, LeakyReLU, SpatialDropout2D\n",
    "\n",
    "# from keras.applications import MobileNet\n",
    "# from keras.optimizers import Adam\n",
    "from tensorflow.keras.applications import MobileNetV2, InceptionV3\n",
    "from tensorflow.keras.optimizers import Adam\n",
    "\n",
    "from matplotlib import pyplot as plt\n",
    "import os\n",
    "from sklearn.model_selection import train_test_split\n",
    "\n",
    "import seaborn as sns\n",
    "from sklearn.metrics import recall_score\n",
    "from sklearn.metrics import precision_score\n",
    "from sklearn.model_selection import KFold\n",
    "\n",
    "from collections import defaultdict\n",
    "from PIL import Image"
   ]
  },
  {
   "cell_type": "markdown",
   "metadata": {},
   "source": [
    "<h2>Data Loading and Preparation</h2>"
   ]
  },
  {
   "cell_type": "code",
   "execution_count": 3,
   "metadata": {},
   "outputs": [],
   "source": [
    "def getEmotionCode(x):\n",
    "    part = x.split('_')\n",
    "    if part[3] == 'FEA':\n",
    "        return 1\n",
    "    else:\n",
    "        return 0\n",
    "\n",
    "def getEmotion(x):\n",
    "    if x == 1:\n",
    "        return 'FEA'\n",
    "    else:\n",
    "        return 'OTH'"
   ]
  },
  {
   "cell_type": "code",
   "execution_count": 4,
   "metadata": {
    "scrolled": true
   },
   "outputs": [],
   "source": [
    "X_all = []\n",
    "Y_all = []\n",
    "\n",
    "image_folder_path = 'cremad/SpectogramInitial'\n",
    "file_paths = [f for f in os.listdir(image_folder_path)]\n",
    "\n",
    "for file_name in file_paths:\n",
    "    split_file_name = file_name.split('_')\n",
    "    if split_file_name[0] == 'M':\n",
    "        spectrogram = Image.open(image_folder_path + '/' + file_name)\n",
    "        spectrogram = spectrogram.convert('RGB')\n",
    "        spectrogram = spectrogram.resize((341, 224))\n",
    "        spectrogram = np.array(spectrogram)\n",
    "#         spectrogram = np.expand_dims(spectrogram, axis=2)\n",
    "        X_all.append(spectrogram)\n",
    "        Y_all.append(getEmotionCode(file_name))\n",
    "    \n",
    "# print(X_all)\n",
    "# print(Y_all)\n"
   ]
  },
  {
   "cell_type": "code",
   "execution_count": 5,
   "metadata": {},
   "outputs": [
    {
     "data": {
      "text/plain": [
       "OTH    3259\n",
       "FEA     671\n",
       "Name: Emotion, dtype: int64"
      ]
     },
     "execution_count": 5,
     "metadata": {},
     "output_type": "execute_result"
    }
   ],
   "source": [
    "# print(\"Anger \"+ Y_all.count('0'))\n",
    "df=pd.DataFrame([getEmotion(f) for f in Y_all],columns=['Emotion'])\n",
    "df['Emotion'].value_counts()"
   ]
  },
  {
   "cell_type": "code",
   "execution_count": 6,
   "metadata": {},
   "outputs": [
    {
     "name": "stdout",
     "output_type": "stream",
     "text": [
      "(3930, 224, 341, 3)\n",
      "(3930,)\n"
     ]
    }
   ],
   "source": [
    "X_all = np.array(X_all)\n",
    "Y_all = np.array(Y_all)\n",
    "\n",
    "print(X_all.shape)\n",
    "print(Y_all.shape)\n",
    "\n",
    "X_all = X_all.astype('float32')\n",
    "X_all /= 255\n",
    "\n",
    "Y_all = np_utils.to_categorical(Y_all, num_classes=2)\n",
    "\n"
   ]
  },
  {
   "cell_type": "code",
   "execution_count": 7,
   "metadata": {},
   "outputs": [],
   "source": [
    "# train /test= 80/20% split\n",
    "# stratified\n",
    "X_train, X_test, Y_train, Y_test = train_test_split(X_all, Y_all, test_size=0.2, stratify=Y_all)\n",
    "\n"
   ]
  },
  {
   "cell_type": "markdown",
   "metadata": {},
   "source": [
    "<h2>Model Building</h2>"
   ]
  },
  {
   "cell_type": "code",
   "execution_count": 8,
   "metadata": {},
   "outputs": [],
   "source": [
    "def build_current_model():\n",
    "    inp = Input(shape=(224,341,3))\n",
    "    \n",
    "    lay = Convolution2D(filters=64,kernel_size=(5,5),strides=(2,2),padding='same')(inp)\n",
    "    lay = BatchNormalization()(lay)\n",
    "    lay = Activation('relu')(lay)\n",
    "    lay = SpatialDropout2D(0.1)(lay)    \n",
    "    lay = MaxPooling2D(pool_size=(2,2),strides=3,padding='same')(lay)\n",
    "    \n",
    "    lay = Convolution2D(filters=128,kernel_size=(3,3),strides=(2,2),padding='same')(lay)\n",
    "    lay = BatchNormalization()(lay)\n",
    "    lay = Activation('relu')(lay)\n",
    "    lay = SpatialDropout2D(0.15)(lay)    \n",
    "    lay = AveragePooling2D(pool_size=(2,2),strides=2,padding='same')(lay)\n",
    "    \n",
    "    lay = Convolution2D(filters=256,kernel_size=(3,3),strides=(2,2),padding='same')(lay)\n",
    "    lay = BatchNormalization()(lay)\n",
    "    lay = Activation('relu')(lay)\n",
    "    lay = SpatialDropout2D(0.2)(lay)    \n",
    "    lay = AveragePooling2D(pool_size=(2,2),strides=2,padding='same')(lay)\n",
    "    \n",
    "    lay = Convolution2D(filters=512,kernel_size=(5,5),strides=(2,2),padding='same')(lay)\n",
    "    lay = BatchNormalization()(lay)\n",
    "    lay = Activation('relu')(lay)\n",
    "    lay = SpatialDropout2D(0.25)(lay)\n",
    "    lay = AveragePooling2D(pool_size=(2,2),strides=2,padding='same')(lay)\n",
    "    \n",
    "    lay = Flatten()(lay)\n",
    "    \n",
    "    lay = Dense(128)(lay)\n",
    "    lay = BatchNormalization()(lay)\n",
    "    lay = Activation('tanh')(lay)\n",
    "    lay = Dropout(0.3)(lay)\n",
    "    \n",
    "    lay = Dense(512)(lay)\n",
    "    lay = BatchNormalization()(lay)\n",
    "    lay = Activation('tanh')(lay)\n",
    "    lay = Dropout(0.25)(lay)\n",
    "    \n",
    "    lay = Dense(1024)(lay)\n",
    "    lay = BatchNormalization()(lay)\n",
    "    lay = Activation('tanh')(lay)\n",
    "    lay = Dropout(0.1)(lay)\n",
    "\n",
    "    x_out = Dense(2, name='output', activation='softmax')(lay)\n",
    "    \n",
    "    model = Model(inputs=inp, outputs=x_out)\n",
    "    model.compile(optimizer=tf.keras.optimizers.Adam(lr=0.001), \n",
    "                  loss='categorical_crossentropy', \n",
    "                  metrics = ['accuracy'])\n",
    "    return model\n"
   ]
  },
  {
   "cell_type": "code",
   "execution_count": 9,
   "metadata": {
    "scrolled": true
   },
   "outputs": [
    {
     "name": "stdout",
     "output_type": "stream",
     "text": [
      "WARNING:tensorflow:From /home/team3/anaconda3/envs/gpu/lib/python3.7/site-packages/tensorflow/python/ops/init_ops.py:1251: calling VarianceScaling.__init__ (from tensorflow.python.ops.init_ops) with dtype is deprecated and will be removed in a future version.\n",
      "Instructions for updating:\n",
      "Call initializer instance with the dtype argument instead of passing it to the constructor\n",
      "Model: \"model\"\n",
      "_________________________________________________________________\n",
      "Layer (type)                 Output Shape              Param #   \n",
      "=================================================================\n",
      "input_1 (InputLayer)         [(None, 224, 341, 3)]     0         \n",
      "_________________________________________________________________\n",
      "conv2d (Conv2D)              (None, 112, 171, 64)      4864      \n",
      "_________________________________________________________________\n",
      "batch_normalization (BatchNo (None, 112, 171, 64)      256       \n",
      "_________________________________________________________________\n",
      "activation (Activation)      (None, 112, 171, 64)      0         \n",
      "_________________________________________________________________\n",
      "spatial_dropout2d (SpatialDr (None, 112, 171, 64)      0         \n",
      "_________________________________________________________________\n",
      "max_pooling2d (MaxPooling2D) (None, 38, 57, 64)        0         \n",
      "_________________________________________________________________\n",
      "conv2d_1 (Conv2D)            (None, 19, 29, 128)       73856     \n",
      "_________________________________________________________________\n",
      "batch_normalization_1 (Batch (None, 19, 29, 128)       512       \n",
      "_________________________________________________________________\n",
      "activation_1 (Activation)    (None, 19, 29, 128)       0         \n",
      "_________________________________________________________________\n",
      "spatial_dropout2d_1 (Spatial (None, 19, 29, 128)       0         \n",
      "_________________________________________________________________\n",
      "average_pooling2d (AveragePo (None, 10, 15, 128)       0         \n",
      "_________________________________________________________________\n",
      "conv2d_2 (Conv2D)            (None, 5, 8, 256)         295168    \n",
      "_________________________________________________________________\n",
      "batch_normalization_2 (Batch (None, 5, 8, 256)         1024      \n",
      "_________________________________________________________________\n",
      "activation_2 (Activation)    (None, 5, 8, 256)         0         \n",
      "_________________________________________________________________\n",
      "spatial_dropout2d_2 (Spatial (None, 5, 8, 256)         0         \n",
      "_________________________________________________________________\n",
      "average_pooling2d_1 (Average (None, 3, 4, 256)         0         \n",
      "_________________________________________________________________\n",
      "conv2d_3 (Conv2D)            (None, 2, 2, 512)         3277312   \n",
      "_________________________________________________________________\n",
      "batch_normalization_3 (Batch (None, 2, 2, 512)         2048      \n",
      "_________________________________________________________________\n",
      "activation_3 (Activation)    (None, 2, 2, 512)         0         \n",
      "_________________________________________________________________\n",
      "spatial_dropout2d_3 (Spatial (None, 2, 2, 512)         0         \n",
      "_________________________________________________________________\n",
      "average_pooling2d_2 (Average (None, 1, 1, 512)         0         \n",
      "_________________________________________________________________\n",
      "flatten (Flatten)            (None, 512)               0         \n",
      "_________________________________________________________________\n",
      "dense (Dense)                (None, 128)               65664     \n",
      "_________________________________________________________________\n",
      "batch_normalization_4 (Batch (None, 128)               512       \n",
      "_________________________________________________________________\n",
      "activation_4 (Activation)    (None, 128)               0         \n",
      "_________________________________________________________________\n",
      "dropout (Dropout)            (None, 128)               0         \n",
      "_________________________________________________________________\n",
      "dense_1 (Dense)              (None, 512)               66048     \n",
      "_________________________________________________________________\n",
      "batch_normalization_5 (Batch (None, 512)               2048      \n",
      "_________________________________________________________________\n",
      "activation_5 (Activation)    (None, 512)               0         \n",
      "_________________________________________________________________\n",
      "dropout_1 (Dropout)          (None, 512)               0         \n",
      "_________________________________________________________________\n",
      "dense_2 (Dense)              (None, 1024)              525312    \n",
      "_________________________________________________________________\n",
      "batch_normalization_6 (Batch (None, 1024)              4096      \n",
      "_________________________________________________________________\n",
      "activation_6 (Activation)    (None, 1024)              0         \n",
      "_________________________________________________________________\n",
      "dropout_2 (Dropout)          (None, 1024)              0         \n",
      "_________________________________________________________________\n",
      "output (Dense)               (None, 2)                 2050      \n",
      "=================================================================\n",
      "Total params: 4,320,770\n",
      "Trainable params: 4,315,522\n",
      "Non-trainable params: 5,248\n",
      "_________________________________________________________________\n"
     ]
    }
   ],
   "source": [
    "model = build_current_model()\n",
    "model.summary()"
   ]
  },
  {
   "cell_type": "code",
   "execution_count": 10,
   "metadata": {},
   "outputs": [],
   "source": [
    "#tf.keras.utils.plot_model(model, \"Model-Ref7Var.png\", show_shapes=True)"
   ]
  },
  {
   "cell_type": "code",
   "execution_count": 11,
   "metadata": {
    "scrolled": true
   },
   "outputs": [
    {
     "name": "stdout",
     "output_type": "stream",
     "text": [
      "Train on 2829 samples, validate on 315 samples\n",
      "Epoch 1/200\n",
      "2829/2829 [==============================] - 7s 3ms/sample - loss: 0.7222 - acc: 0.7105 - val_loss: 0.5639 - val_acc: 0.7587\n",
      "Epoch 2/200\n",
      "2829/2829 [==============================] - 6s 2ms/sample - loss: 0.5197 - acc: 0.7907 - val_loss: 1.0945 - val_acc: 0.1619\n",
      "Epoch 3/200\n",
      "2829/2829 [==============================] - 6s 2ms/sample - loss: 0.5166 - acc: 0.7922 - val_loss: 0.4945 - val_acc: 0.8032\n",
      "Epoch 4/200\n",
      "2829/2829 [==============================] - 6s 2ms/sample - loss: 0.5216 - acc: 0.7960 - val_loss: 0.7296 - val_acc: 0.5873\n",
      "Epoch 5/200\n",
      "2829/2829 [==============================] - 6s 2ms/sample - loss: 0.4957 - acc: 0.8070 - val_loss: 0.4469 - val_acc: 0.8444\n",
      "Epoch 6/200\n",
      "2829/2829 [==============================] - 6s 2ms/sample - loss: 0.4735 - acc: 0.8183 - val_loss: 0.4222 - val_acc: 0.8444\n",
      "Epoch 7/200\n",
      "2829/2829 [==============================] - 6s 2ms/sample - loss: 0.4890 - acc: 0.8105 - val_loss: 0.4851 - val_acc: 0.8444\n",
      "Epoch 8/200\n",
      "2829/2829 [==============================] - 6s 2ms/sample - loss: 0.4904 - acc: 0.8098 - val_loss: 0.6425 - val_acc: 0.5016\n",
      "Epoch 9/200\n",
      "2829/2829 [==============================] - 6s 2ms/sample - loss: 0.4711 - acc: 0.8197 - val_loss: 0.4216 - val_acc: 0.8159\n",
      "Epoch 10/200\n",
      "2829/2829 [==============================] - 6s 2ms/sample - loss: 0.4723 - acc: 0.8112 - val_loss: 0.4217 - val_acc: 0.8444\n",
      "Epoch 11/200\n",
      "2829/2829 [==============================] - 6s 2ms/sample - loss: 0.4727 - acc: 0.8148 - val_loss: 0.3996 - val_acc: 0.8444\n",
      "Epoch 12/200\n",
      "2829/2829 [==============================] - 6s 2ms/sample - loss: 0.4707 - acc: 0.8070 - val_loss: 0.4638 - val_acc: 0.8444\n",
      "Epoch 13/200\n",
      "2829/2829 [==============================] - 6s 2ms/sample - loss: 0.4602 - acc: 0.8155 - val_loss: 0.4641 - val_acc: 0.8444\n",
      "Epoch 14/200\n",
      "2829/2829 [==============================] - 6s 2ms/sample - loss: 0.4481 - acc: 0.8165 - val_loss: 0.4065 - val_acc: 0.8444\n",
      "Epoch 15/200\n",
      "2829/2829 [==============================] - 6s 2ms/sample - loss: 0.4570 - acc: 0.8172 - val_loss: 0.4468 - val_acc: 0.8444\n",
      "Epoch 16/200\n",
      "2829/2829 [==============================] - 6s 2ms/sample - loss: 0.4579 - acc: 0.8176 - val_loss: 0.3855 - val_acc: 0.8444\n",
      "Epoch 17/200\n",
      "2829/2829 [==============================] - 6s 2ms/sample - loss: 0.4592 - acc: 0.8102 - val_loss: 0.4872 - val_acc: 0.8444\n",
      "Epoch 18/200\n",
      "2829/2829 [==============================] - 6s 2ms/sample - loss: 0.4619 - acc: 0.8151 - val_loss: 0.3883 - val_acc: 0.8444\n",
      "Epoch 19/200\n",
      "2829/2829 [==============================] - 6s 2ms/sample - loss: 0.4479 - acc: 0.8204 - val_loss: 0.4211 - val_acc: 0.8444\n",
      "Epoch 20/200\n",
      "2829/2829 [==============================] - 6s 2ms/sample - loss: 0.4608 - acc: 0.8123 - val_loss: 0.4427 - val_acc: 0.8444\n",
      "Epoch 21/200\n",
      "2829/2829 [==============================] - 6s 2ms/sample - loss: 0.4443 - acc: 0.8229 - val_loss: 0.4119 - val_acc: 0.8444\n",
      "Epoch 22/200\n",
      "2829/2829 [==============================] - 6s 2ms/sample - loss: 0.4405 - acc: 0.8187 - val_loss: 0.3799 - val_acc: 0.8444\n",
      "Epoch 23/200\n",
      "2829/2829 [==============================] - 6s 2ms/sample - loss: 0.4307 - acc: 0.8155 - val_loss: 0.4103 - val_acc: 0.8444\n",
      "Epoch 24/200\n",
      "2829/2829 [==============================] - 6s 2ms/sample - loss: 0.4316 - acc: 0.8190 - val_loss: 0.4521 - val_acc: 0.8444\n",
      "Epoch 25/200\n",
      "2829/2829 [==============================] - 6s 2ms/sample - loss: 0.4284 - acc: 0.8137 - val_loss: 0.4246 - val_acc: 0.8444\n",
      "Epoch 26/200\n",
      "2829/2829 [==============================] - 6s 2ms/sample - loss: 0.4260 - acc: 0.8169 - val_loss: 0.4232 - val_acc: 0.8444\n",
      "Epoch 27/200\n",
      "2829/2829 [==============================] - 6s 2ms/sample - loss: 0.4169 - acc: 0.8257 - val_loss: 0.4544 - val_acc: 0.8444\n",
      "Epoch 28/200\n",
      "2829/2829 [==============================] - 6s 2ms/sample - loss: 0.4130 - acc: 0.8254 - val_loss: 0.5263 - val_acc: 0.7111\n",
      "Epoch 29/200\n",
      "2829/2829 [==============================] - 6s 2ms/sample - loss: 0.4117 - acc: 0.8275 - val_loss: 0.4229 - val_acc: 0.8444\n",
      "Epoch 30/200\n",
      "2829/2829 [==============================] - 6s 2ms/sample - loss: 0.4126 - acc: 0.8229 - val_loss: 0.3771 - val_acc: 0.8476\n",
      "Epoch 31/200\n",
      "2829/2829 [==============================] - 6s 2ms/sample - loss: 0.4059 - acc: 0.8275 - val_loss: 0.3730 - val_acc: 0.8444\n",
      "Epoch 32/200\n",
      "2829/2829 [==============================] - 6s 2ms/sample - loss: 0.4059 - acc: 0.8335 - val_loss: 0.3656 - val_acc: 0.8413\n",
      "Epoch 33/200\n",
      "2829/2829 [==============================] - 6s 2ms/sample - loss: 0.3975 - acc: 0.8271 - val_loss: 0.3774 - val_acc: 0.8444\n",
      "Epoch 34/200\n",
      "2829/2829 [==============================] - 6s 2ms/sample - loss: 0.3973 - acc: 0.8226 - val_loss: 0.4273 - val_acc: 0.8635\n",
      "Epoch 35/200\n",
      "2829/2829 [==============================] - 6s 2ms/sample - loss: 0.3873 - acc: 0.8356 - val_loss: 0.4055 - val_acc: 0.8381\n",
      "Epoch 36/200\n",
      "2829/2829 [==============================] - 6s 2ms/sample - loss: 0.3843 - acc: 0.8381 - val_loss: 0.3602 - val_acc: 0.8730\n",
      "Epoch 37/200\n",
      "2829/2829 [==============================] - 6s 2ms/sample - loss: 0.3888 - acc: 0.8356 - val_loss: 0.3501 - val_acc: 0.8444\n",
      "Epoch 38/200\n",
      "2829/2829 [==============================] - 6s 2ms/sample - loss: 0.3780 - acc: 0.8339 - val_loss: 0.3965 - val_acc: 0.8444\n",
      "Epoch 39/200\n",
      "2829/2829 [==============================] - 6s 2ms/sample - loss: 0.3745 - acc: 0.8370 - val_loss: 0.3789 - val_acc: 0.8571\n",
      "Epoch 40/200\n",
      "2829/2829 [==============================] - 6s 2ms/sample - loss: 0.3713 - acc: 0.8374 - val_loss: 0.3723 - val_acc: 0.8540\n",
      "Epoch 41/200\n",
      "2829/2829 [==============================] - 6s 2ms/sample - loss: 0.3652 - acc: 0.8448 - val_loss: 0.3826 - val_acc: 0.8508\n",
      "Epoch 42/200\n",
      "2829/2829 [==============================] - 6s 2ms/sample - loss: 0.3705 - acc: 0.8339 - val_loss: 0.3681 - val_acc: 0.8571\n",
      "Epoch 43/200\n",
      "2829/2829 [==============================] - 6s 2ms/sample - loss: 0.3684 - acc: 0.8353 - val_loss: 0.4694 - val_acc: 0.8444\n",
      "Epoch 44/200\n",
      "2829/2829 [==============================] - 6s 2ms/sample - loss: 0.3556 - acc: 0.8491 - val_loss: 0.3741 - val_acc: 0.8540\n",
      "Epoch 45/200\n",
      "2829/2829 [==============================] - 6s 2ms/sample - loss: 0.3493 - acc: 0.8473 - val_loss: 0.3671 - val_acc: 0.8762\n",
      "Epoch 46/200\n",
      "2829/2829 [==============================] - 6s 2ms/sample - loss: 0.3467 - acc: 0.8480 - val_loss: 0.4183 - val_acc: 0.8095\n",
      "Epoch 47/200\n",
      "2829/2829 [==============================] - 6s 2ms/sample - loss: 0.3469 - acc: 0.8554 - val_loss: 0.3673 - val_acc: 0.8603\n",
      "Epoch 48/200\n",
      "2829/2829 [==============================] - 6s 2ms/sample - loss: 0.3498 - acc: 0.8448 - val_loss: 0.3652 - val_acc: 0.8508\n",
      "Epoch 49/200\n",
      "2829/2829 [==============================] - 6s 2ms/sample - loss: 0.3447 - acc: 0.8561 - val_loss: 0.3816 - val_acc: 0.8413\n",
      "Epoch 50/200\n",
      "2829/2829 [==============================] - 6s 2ms/sample - loss: 0.3220 - acc: 0.8583 - val_loss: 0.4090 - val_acc: 0.8063\n",
      "Epoch 51/200\n",
      "2829/2829 [==============================] - 6s 2ms/sample - loss: 0.3329 - acc: 0.8508 - val_loss: 0.4581 - val_acc: 0.8571\n",
      "Epoch 52/200\n",
      "2816/2829 [============================>.] - ETA: 0s - loss: 0.3153 - acc: 0.8615Restoring model weights from the end of the best epoch.\n",
      "2829/2829 [==============================] - 6s 2ms/sample - loss: 0.3149 - acc: 0.8618 - val_loss: 0.3906 - val_acc: 0.8508\n",
      "Epoch 00052: early stopping\n"
     ]
    }
   ],
   "source": [
    "\n",
    "my_callbacks = [tf.keras.callbacks.EarlyStopping(monitor='val_loss',patience=15,verbose=1, mode='min',restore_best_weights=True)]\n",
    "\n",
    "history = model.fit(X_train, Y_train, \n",
    "              epochs = 200, \n",
    "              validation_split=0.1, \n",
    "              verbose=1, \n",
    "              batch_size = 8,\n",
    "            callbacks=my_callbacks)\n",
    "\n",
    "history_info = history.history"
   ]
  },
  {
   "cell_type": "code",
   "execution_count": null,
   "metadata": {},
   "outputs": [],
   "source": []
  },
  {
   "cell_type": "markdown",
   "metadata": {},
   "source": [
    "<h2>Evaluation (Basic)</h2>"
   ]
  },
  {
   "cell_type": "code",
   "execution_count": 12,
   "metadata": {
    "scrolled": true
   },
   "outputs": [
    {
     "data": {
      "text/plain": [
       "<matplotlib.axes._subplots.AxesSubplot at 0x7fdc200a1410>"
      ]
     },
     "execution_count": 12,
     "metadata": {},
     "output_type": "execute_result"
    },
    {
     "data": {
      "image/png": "[encoded data removed]",
      "text/plain": [
       "<Figure size 432x288 with 2 Axes>"
      ]
     },
     "metadata": {
      "needs_background": "light"
     },
     "output_type": "display_data"
    }
   ],
   "source": [
    "## Loss and accuracy history\n",
    "_, axs = plt.subplots(ncols=2)\n",
    "df_history_info = pd.DataFrame(history_info) \n",
    "\n",
    "\n",
    "sns.lineplot(data=df_history_info['loss'],ax=axs[0], label='Training Loss', legend='brief')\n",
    "sns.lineplot(data=df_history_info['val_loss'],ax=axs[0], label='Validation Loss', legend='brief')\n",
    "\n",
    "sns.lineplot(data=df_history_info['acc'],ax=axs[1], label='Training Accuracy', legend='brief')\n",
    "sns.lineplot(data=df_history_info['val_acc'],ax=axs[1], label='Validation Accuracy', legend='brief')"
   ]
  },
  {
   "cell_type": "code",
   "execution_count": 13,
   "metadata": {},
   "outputs": [],
   "source": [
    "def generate_actual_predicted(Y_pred, X_test, Y_test): \n",
    "    predicted = list()\n",
    "    for i in range(len(Y_pred)):\n",
    "        predicted.append(np.argmax(Y_pred[i]))\n",
    "        \n",
    "    actual = list()\n",
    "    for i in range(len(Y_test)):\n",
    "        actual.append(np.argmax(Y_test[i]))\n",
    "        \n",
    "    return actual, predicted"
   ]
  },
  {
   "cell_type": "code",
   "execution_count": 14,
   "metadata": {},
   "outputs": [
    {
     "name": "stdout",
     "output_type": "stream",
     "text": [
      "[[ 29 105]\n",
      " [ 26 626]]\n"
     ]
    },
    {
     "data": {
      "image/png": "[encoded data removed]",
      "text/plain": [
       "<Figure size 432x288 with 2 Axes>"
      ]
     },
     "metadata": {
      "needs_background": "light"
     },
     "output_type": "display_data"
    }
   ],
   "source": [
    "Y_pred = model.predict(X_test)\n",
    "actual, predicted = generate_actual_predicted(Y_pred, X_test, Y_test)\n",
    "\n",
    "##Confusion Matrix\n",
    "from sklearn.metrics import confusion_matrix\n",
    "actual_labeled = list()\n",
    "predict_labeled = list()\n",
    "for x,y in zip(actual,predicted):\n",
    "    actual_labeled.append(getEmotion(x))\n",
    "    predict_labeled.append(getEmotion(y))\n",
    "\n",
    "labels = ['FEA','OTH']\n",
    "cm=confusion_matrix(actual_labeled,predict_labeled,labels=labels)\n",
    "print(cm)\n",
    "\n",
    "ax= plt.subplot()\n",
    "sns.heatmap(cm, annot=True, ax = ax); #annot=True to annotate cells\n",
    "\n",
    "# labels, title and ticks\n",
    "ax.set_xlabel('Predicted labels');ax.set_ylabel('True labels'); \n",
    "ax.set_title('Confusion Matrix'); \n",
    "ax.xaxis.set_ticklabels(labels); ax.yaxis.set_ticklabels(labels);"
   ]
  },
  {
   "cell_type": "code",
   "execution_count": 15,
   "metadata": {},
   "outputs": [
    {
     "name": "stdout",
     "output_type": "stream",
     "text": [
      "accuracy 0.8333333333333334\n"
     ]
    }
   ],
   "source": [
    "## Test accuracy\n",
    "from sklearn.metrics import accuracy_score\n",
    "print('accuracy', accuracy_score(actual, predicted))\n"
   ]
  },
  {
   "cell_type": "code",
   "execution_count": 16,
   "metadata": {},
   "outputs": [
    {
     "name": "stdout",
     "output_type": "stream",
     "text": [
      "              precision    recall  f1-score   support\n",
      "\n",
      "         FEA       0.53      0.22      0.31       134\n",
      "         OTH       0.86      0.96      0.91       652\n",
      "\n",
      "    accuracy                           0.83       786\n",
      "   macro avg       0.69      0.59      0.61       786\n",
      "weighted avg       0.80      0.83      0.80       786\n",
      "\n"
     ]
    }
   ],
   "source": [
    "## Precision, Recall, F1, Support\n",
    "from sklearn.metrics import classification_report\n",
    "print(classification_report(actual_labeled, predict_labeled,labels=labels))"
   ]
  },
  {
   "cell_type": "code",
   "execution_count": 17,
   "metadata": {},
   "outputs": [],
   "source": [
    "##ROC AUC Scores\n",
    "#from sklearn.metrics import roc_auc_score\n",
    "#print('One-vs-One ROC AUC scores:')\n",
    "#print(roc_auc_score(actual, Y_pred, average='macro', multi_class='ovo'), '(macro)')\n",
    "#print(roc_auc_score(actual, Y_pred, average='weighted', multi_class='ovo'), '(weighted by prevalence)')\n",
    "\n",
    "\n",
    "#print()\n",
    "#print('One-vs-Rest ROC AUC scores:')\n",
    "#print(roc_auc_score(actual, Y_pred, average='macro', multi_class='ovr'), '(macro)')\n",
    "#print(roc_auc_score(actual, Y_pred, average='weighted', multi_class='ovr'), '(weighted by prevalence)')"
   ]
  },
  {
   "cell_type": "code",
   "execution_count": 18,
   "metadata": {},
   "outputs": [
    {
     "data": {
      "text/plain": [
       "[<matplotlib.lines.Line2D at 0x7f0d2c7b6110>]"
      ]
     },
     "execution_count": 18,
     "metadata": {},
     "output_type": "execute_result"
    },
    {
     "data": {
      "image/png": "[encoded data removed]",
      "text/plain": [
       "<Figure size 432x288 with 1 Axes>"
      ]
     },
     "metadata": {
      "needs_background": "light"
     },
     "output_type": "display_data"
    }
   ],
   "source": [
    "## ROC Curves\n",
    "from sklearn.metrics import roc_curve, auc\n",
    "import seaborn as sns\n",
    "from scipy import interp\n",
    "\n",
    "### The following curves are generated s.t each point is a model from differing thresholds\n",
    "\n",
    "_, axs = plt.subplots(ncols=1)\n",
    "axs.set(xlabel='False Positive Rate',ylabel='True Positive Rate', title='ROC Curve for Female Anger vs. Others')\n",
    "\n",
    "\n",
    "fpr, tpr, _ = roc_curve(Y_test[:,0], Y_pred[:,0])\n",
    "auc_val = auc(fpr, tpr)\n",
    "sns.lineplot(x=fpr,y=tpr,ax=axs, label='Area = ' + str(auc_val) + '', legend='brief')\n",
    "\n",
    "\n",
    "plt.plot([0, 1], [0, 1], 'k--', lw=2)"
   ]
  },
  {
   "cell_type": "code",
   "execution_count": 19,
   "metadata": {},
   "outputs": [
    {
     "data": {
      "text/plain": [
       "[<matplotlib.lines.Line2D at 0x7f0d2c6d8b50>]"
      ]
     },
     "execution_count": 19,
     "metadata": {},
     "output_type": "execute_result"
    },
    {
     "data": {
      "image/png": "[encoded data removed]",
      "text/plain": [
       "<Figure size 432x288 with 1 Axes>"
      ]
     },
     "metadata": {
      "needs_background": "light"
     },
     "output_type": "display_data"
    }
   ],
   "source": [
    "## Precision/Recall Curves per class\n",
    "### The following curves are generated s.t each point is a model from differing thresholds\n",
    "from sklearn.metrics import precision_recall_curve\n",
    "\n",
    "_, axs = plt.subplots(ncols=1)\n",
    "axs.set(xlabel='Recall',ylabel='Precision', title='Precision/Recall Curve for Female Fear vs. Others')\n",
    "\n",
    "prec, rec, _ = precision_recall_curve(Y_test[:,0], Y_pred[:,0])\n",
    "sns.lineplot(x=rec,y=prec,ax=axs)\n",
    "\n",
    "# Diagonal line for comparison\n",
    "plt.plot([1, 0], [0, 1], 'k--', lw=2)"
   ]
  },
  {
   "cell_type": "markdown",
   "metadata": {},
   "source": [
    "<h2>K-Fold Training and Evaluation</h2>"
   ]
  },
  {
   "cell_type": "code",
   "execution_count": 20,
   "metadata": {},
   "outputs": [],
   "source": [
    "#Precision Mean and Standard Deviation\n",
    "#Recall Mean and Standard Deviation\n",
    "#F1 Measure Mean and Standard Deviation\n",
    "#True Positive Rate. Mean and Standard Deviation\n",
    "#False Negative Rate Mean and Standard Deviation\n",
    "#Best/Worst ROC\n",
    "#Best/Worst Precision/Recall\n",
    "#Accuracy Mean and Standard Deviation"
   ]
  },
  {
   "cell_type": "code",
   "execution_count": 21,
   "metadata": {},
   "outputs": [
    {
     "name": "stdout",
     "output_type": "stream",
     "text": [
      "Train on 2358 samples, validate on 262 samples\n",
      "Epoch 1/30\n",
      "2358/2358 [==============================] - 5s 2ms/sample - loss: 1.0594 - acc: 0.6569 - val_loss: 0.6497 - val_acc: 0.7099\n",
      "Epoch 2/30\n",
      "2358/2358 [==============================] - 5s 2ms/sample - loss: 0.5987 - acc: 0.7413 - val_loss: 0.4526 - val_acc: 0.8702\n",
      "Epoch 3/30\n",
      "2358/2358 [==============================] - 5s 2ms/sample - loss: 0.5380 - acc: 0.7799 - val_loss: 0.5195 - val_acc: 0.8359\n",
      "Epoch 4/30\n",
      "2358/2358 [==============================] - 5s 2ms/sample - loss: 0.5555 - acc: 0.7735 - val_loss: 0.4154 - val_acc: 0.8702\n",
      "Epoch 5/30\n",
      "2358/2358 [==============================] - 5s 2ms/sample - loss: 0.5228 - acc: 0.7829 - val_loss: 0.4408 - val_acc: 0.8702\n",
      "Epoch 6/30\n",
      "2358/2358 [==============================] - 5s 2ms/sample - loss: 0.5424 - acc: 0.7807 - val_loss: 0.4228 - val_acc: 0.8702\n",
      "Epoch 7/30\n",
      "1560/2358 [==================>...........] - ETA: 1s - loss: 0.5290 - acc: 0.7763"
     ]
    },
    {
     "ename": "KeyboardInterrupt",
     "evalue": "",
     "output_type": "error",
     "traceback": [
      "\u001b[0;31m---------------------------------------------------------------------------\u001b[0m",
      "\u001b[0;31mKeyboardInterrupt\u001b[0m                         Traceback (most recent call last)",
      "\u001b[0;32m<ipython-input-21-e40caed53d77>\u001b[0m in \u001b[0;36m<module>\u001b[0;34m\u001b[0m\n\u001b[1;32m     31\u001b[0m               \u001b[0mepochs\u001b[0m\u001b[0;34m=\u001b[0m\u001b[0;36m30\u001b[0m\u001b[0;34m,\u001b[0m\u001b[0;34m\u001b[0m\u001b[0;34m\u001b[0m\u001b[0m\n\u001b[1;32m     32\u001b[0m               \u001b[0mvalidation_split\u001b[0m\u001b[0;34m=\u001b[0m\u001b[0;36m0.1\u001b[0m\u001b[0;34m,\u001b[0m\u001b[0;34m\u001b[0m\u001b[0;34m\u001b[0m\u001b[0m\n\u001b[0;32m---> 33\u001b[0;31m               verbose=1)\n\u001b[0m\u001b[1;32m     34\u001b[0m \u001b[0;34m\u001b[0m\u001b[0m\n\u001b[1;32m     35\u001b[0m     \u001b[0;31m#generate predictions\u001b[0m\u001b[0;34m\u001b[0m\u001b[0;34m\u001b[0m\u001b[0;34m\u001b[0m\u001b[0m\n",
      "\u001b[0;32m~/anaconda3/envs/gpu/lib/python3.7/site-packages/tensorflow/python/keras/engine/training.py\u001b[0m in \u001b[0;36mfit\u001b[0;34m(self, x, y, batch_size, epochs, verbose, callbacks, validation_split, validation_data, shuffle, class_weight, sample_weight, initial_epoch, steps_per_epoch, validation_steps, validation_freq, max_queue_size, workers, use_multiprocessing, **kwargs)\u001b[0m\n\u001b[1;32m    778\u001b[0m           \u001b[0mvalidation_steps\u001b[0m\u001b[0;34m=\u001b[0m\u001b[0mvalidation_steps\u001b[0m\u001b[0;34m,\u001b[0m\u001b[0;34m\u001b[0m\u001b[0;34m\u001b[0m\u001b[0m\n\u001b[1;32m    779\u001b[0m           \u001b[0mvalidation_freq\u001b[0m\u001b[0;34m=\u001b[0m\u001b[0mvalidation_freq\u001b[0m\u001b[0;34m,\u001b[0m\u001b[0;34m\u001b[0m\u001b[0;34m\u001b[0m\u001b[0m\n\u001b[0;32m--> 780\u001b[0;31m           steps_name='steps_per_epoch')\n\u001b[0m\u001b[1;32m    781\u001b[0m \u001b[0;34m\u001b[0m\u001b[0m\n\u001b[1;32m    782\u001b[0m   def evaluate(self,\n",
      "\u001b[0;32m~/anaconda3/envs/gpu/lib/python3.7/site-packages/tensorflow/python/keras/engine/training_arrays.py\u001b[0m in \u001b[0;36mmodel_iteration\u001b[0;34m(model, inputs, targets, sample_weights, batch_size, epochs, verbose, callbacks, val_inputs, val_targets, val_sample_weights, shuffle, initial_epoch, steps_per_epoch, validation_steps, validation_freq, mode, validation_in_fit, prepared_feed_values_from_dataset, steps_name, **kwargs)\u001b[0m\n\u001b[1;32m    361\u001b[0m \u001b[0;34m\u001b[0m\u001b[0m\n\u001b[1;32m    362\u001b[0m         \u001b[0;31m# Get outputs.\u001b[0m\u001b[0;34m\u001b[0m\u001b[0;34m\u001b[0m\u001b[0;34m\u001b[0m\u001b[0m\n\u001b[0;32m--> 363\u001b[0;31m         \u001b[0mbatch_outs\u001b[0m \u001b[0;34m=\u001b[0m \u001b[0mf\u001b[0m\u001b[0;34m(\u001b[0m\u001b[0mins_batch\u001b[0m\u001b[0;34m)\u001b[0m\u001b[0;34m\u001b[0m\u001b[0;34m\u001b[0m\u001b[0m\n\u001b[0m\u001b[1;32m    364\u001b[0m         \u001b[0;32mif\u001b[0m \u001b[0;32mnot\u001b[0m \u001b[0misinstance\u001b[0m\u001b[0;34m(\u001b[0m\u001b[0mbatch_outs\u001b[0m\u001b[0;34m,\u001b[0m \u001b[0mlist\u001b[0m\u001b[0;34m)\u001b[0m\u001b[0;34m:\u001b[0m\u001b[0;34m\u001b[0m\u001b[0;34m\u001b[0m\u001b[0m\n\u001b[1;32m    365\u001b[0m           \u001b[0mbatch_outs\u001b[0m \u001b[0;34m=\u001b[0m \u001b[0;34m[\u001b[0m\u001b[0mbatch_outs\u001b[0m\u001b[0;34m]\u001b[0m\u001b[0;34m\u001b[0m\u001b[0;34m\u001b[0m\u001b[0m\n",
      "\u001b[0;32m~/anaconda3/envs/gpu/lib/python3.7/site-packages/tensorflow/python/keras/backend.py\u001b[0m in \u001b[0;36m__call__\u001b[0;34m(self, inputs)\u001b[0m\n\u001b[1;32m   3290\u001b[0m \u001b[0;34m\u001b[0m\u001b[0m\n\u001b[1;32m   3291\u001b[0m     fetched = self._callable_fn(*array_vals,\n\u001b[0;32m-> 3292\u001b[0;31m                                 run_metadata=self.run_metadata)\n\u001b[0m\u001b[1;32m   3293\u001b[0m     \u001b[0mself\u001b[0m\u001b[0;34m.\u001b[0m\u001b[0m_call_fetch_callbacks\u001b[0m\u001b[0;34m(\u001b[0m\u001b[0mfetched\u001b[0m\u001b[0;34m[\u001b[0m\u001b[0;34m-\u001b[0m\u001b[0mlen\u001b[0m\u001b[0;34m(\u001b[0m\u001b[0mself\u001b[0m\u001b[0;34m.\u001b[0m\u001b[0m_fetches\u001b[0m\u001b[0;34m)\u001b[0m\u001b[0;34m:\u001b[0m\u001b[0;34m]\u001b[0m\u001b[0;34m)\u001b[0m\u001b[0;34m\u001b[0m\u001b[0;34m\u001b[0m\u001b[0m\n\u001b[1;32m   3294\u001b[0m     output_structure = nest.pack_sequence_as(\n",
      "\u001b[0;32m~/anaconda3/envs/gpu/lib/python3.7/site-packages/tensorflow/python/client/session.py\u001b[0m in \u001b[0;36m__call__\u001b[0;34m(self, *args, **kwargs)\u001b[0m\n\u001b[1;32m   1456\u001b[0m         ret = tf_session.TF_SessionRunCallable(self._session._session,\n\u001b[1;32m   1457\u001b[0m                                                \u001b[0mself\u001b[0m\u001b[0;34m.\u001b[0m\u001b[0m_handle\u001b[0m\u001b[0;34m,\u001b[0m \u001b[0margs\u001b[0m\u001b[0;34m,\u001b[0m\u001b[0;34m\u001b[0m\u001b[0;34m\u001b[0m\u001b[0m\n\u001b[0;32m-> 1458\u001b[0;31m                                                run_metadata_ptr)\n\u001b[0m\u001b[1;32m   1459\u001b[0m         \u001b[0;32mif\u001b[0m \u001b[0mrun_metadata\u001b[0m\u001b[0;34m:\u001b[0m\u001b[0;34m\u001b[0m\u001b[0;34m\u001b[0m\u001b[0m\n\u001b[1;32m   1460\u001b[0m           \u001b[0mproto_data\u001b[0m \u001b[0;34m=\u001b[0m \u001b[0mtf_session\u001b[0m\u001b[0;34m.\u001b[0m\u001b[0mTF_GetBuffer\u001b[0m\u001b[0;34m(\u001b[0m\u001b[0mrun_metadata_ptr\u001b[0m\u001b[0;34m)\u001b[0m\u001b[0;34m\u001b[0m\u001b[0;34m\u001b[0m\u001b[0m\n",
      "\u001b[0;31mKeyboardInterrupt\u001b[0m: "
     ]
    }
   ],
   "source": [
    "from sklearn.metrics import precision_recall_fscore_support\n",
    "from sklearn.model_selection import KFold\n",
    "from sklearn.metrics import accuracy_score, precision_score, recall_score, f1_score, roc_auc_score, roc_curve, auc, precision_recall_curve\n",
    "\n",
    "all_base_precision = list()\n",
    "all_base_recall = list()\n",
    "all_macro_precision = list()\n",
    "all_macro_recall = list()\n",
    "all_f1 = list()\n",
    "all_macro_f1 = list()\n",
    "\n",
    "\n",
    "all_tpr = list()\n",
    "all_fpr = list()\n",
    "all_precision = list()\n",
    "all_recall = list()\n",
    "\n",
    "all_accuracy = list()\n",
    "\n",
    "\n",
    "n_split=3\n",
    "for train_index,test_index in KFold(n_split).split(X_all):  \n",
    "    # use the index to generate training an testing sets\n",
    "    x_train,x_test=X_all[train_index],X_all[test_index]\n",
    "    y_train,y_test=Y_all[train_index],Y_all[test_index]\n",
    "\n",
    "    # create and fit the model\n",
    "    cv_model=build_current_model()\n",
    "    history = cv_model.fit(x_train, y_train,\n",
    "              batch_size=8,\n",
    "              epochs=30,\n",
    "              validation_split=0.1,\n",
    "              verbose=1)\n",
    "    \n",
    "    #generate predictions\n",
    "    y_pred = cv_model.predict(x_test)\n",
    "    actual, predicted = generate_actual_predicted(y_pred, x_test, y_test)\n",
    "    \n",
    "    #calc metrics\n",
    "    curr_base_prec, curr_base_rec, curr_f1, _ = precision_recall_fscore_support(actual, predicted)\n",
    "    curr_macro_prec = precision_score(actual, predicted,average='macro')\n",
    "    curr_macro_rec = recall_score(actual, predicted,average='macro')\n",
    "    curr_macro_f1 = f1_score(actual, predicted,average='macro')\n",
    "\n",
    "    \n",
    "    curr_fpr = [0] * 6\n",
    "    curr_tpr = [0] * 6\n",
    "    for i in range(6):\n",
    "        curr_fpr[i], curr_tpr[i], _ = roc_curve(y_test[:,i], y_pred[:,i])\n",
    "        \n",
    "    curr_prec = [0] * 6\n",
    "    curr_rec = [0] * 6\n",
    "    for i in range(6):\n",
    "        curr_prec[i], curr_rec[i], _ = precision_recall_curve(y_test[:,i], y_pred[:,i])\n",
    "\n",
    "        \n",
    "    curr_accuracy = accuracy_score(actual, predicted)\n",
    "    \n",
    "    #add to lists\n",
    "    all_base_precision.append(curr_base_prec)\n",
    "    all_base_recall.append(curr_base_rec)\n",
    "    all_macro_precision.append(curr_macro_prec)\n",
    "    all_macro_recall.append(curr_macro_rec)\n",
    "    \n",
    "    all_f1.append(curr_f1)\n",
    "    all_macro_f1.append(curr_macro_f1)\n",
    "    \n",
    "    all_accuracy.append(curr_accuracy)\n",
    "\n",
    "    \n",
    "    all_fpr.append(curr_fpr)\n",
    "    all_tpr.append(curr_tpr)\n",
    "    all_precision.append(curr_prec)\n",
    "    all_recall.append(curr_rec)\n",
    "    \n",
    "    \n"
   ]
  },
  {
   "cell_type": "code",
   "execution_count": null,
   "metadata": {},
   "outputs": [],
   "source": [
    "print('precision mean by class', np.array(all_base_precision).mean(axis=0))\n",
    "print('precision sdev by class', np.array(all_base_precision).std(axis=0))\n",
    "\n",
    "print('macro precision mean', np.array(all_macro_precision).mean())\n",
    "print('macro precision sdev', np.array(all_macro_precision).std())\n",
    "\n",
    "\n",
    "print('recall mean', np.array(all_base_recall).mean(axis=0))\n",
    "print('recall sdev', np.array(all_base_recall).std(axis=0))\n",
    "\n",
    "print('macro recall mean', np.array(all_macro_recall).mean())\n",
    "print('macro recall sdev', np.array(all_macro_recall).std())\n",
    "\n",
    "print('f1 mean', np.array(all_f1).mean(axis=0))\n",
    "print('f1 sdev', np.array(all_f1).std(axis=0))\n",
    "\n",
    "print('macro f1 mean', np.array(all_macro_f1).mean())\n",
    "print('macro f1 sdev', np.array(all_macro_f1).std())\n",
    "\n",
    "print('accuracy mean', np.array(all_accuracy).mean())\n",
    "print('accuracy sdev', np.array(all_accuracy).std())\n",
    "\n"
   ]
  },
  {
   "cell_type": "code",
   "execution_count": null,
   "metadata": {},
   "outputs": [],
   "source": [
    "# Plot all K-Fold ROC curves\n",
    "for i in range(3):\n",
    "    _, axs = plt.subplots(ncols=1)\n",
    "    axs.set(xlabel='False Positive Rate',ylabel='True Positive Rate', title='ROC Curve K-Fold#'+str(i+1))\n",
    "    for j in range(6):\n",
    "        auc_val = auc(all_fpr[i][j], all_tpr[i][j])\n",
    "        sns.lineplot(x=all_fpr[i][j],y=all_tpr[i][j],ax=axs, label='Class '+ getEmotion(j) +' (area = ' + str(auc_val) + ')', legend='brief')\n",
    "        "
   ]
  },
  {
   "cell_type": "code",
   "execution_count": null,
   "metadata": {},
   "outputs": [],
   "source": [
    "#Plot all K-Fold Precision/Recall curves\n",
    "for i in range(3):\n",
    "    _, axs = plt.subplots(ncols=1)\n",
    "    axs.set(xlabel='Recall',ylabel='Precision', title='Precision/Recall Curve K-Fold#'+str(i+1))\n",
    "    for j in range(6):\n",
    "        sns.lineplot(x=all_recall[i][j],y=all_precision[i][j],ax=axs, label='Class '+ getEmotion(j), legend='brief')"
   ]
  },
  {
   "cell_type": "markdown",
   "metadata": {},
   "source": [
    "<h2>Storing/Loading history and model to file</h2>"
   ]
  },
  {
   "cell_type": "code",
   "execution_count": null,
   "metadata": {},
   "outputs": [],
   "source": [
    "#Store History\n",
    "hist_df = pd.DataFrame(history.history) \n",
    "hist_json_file = 'ref7varhistory.json' \n",
    "with open(hist_json_file, mode='w') as f:\n",
    "    hist_df.to_json(f)"
   ]
  },
  {
   "cell_type": "code",
   "execution_count": null,
   "metadata": {},
   "outputs": [],
   "source": [
    "#Load History \n",
    "history_info = pd.read_json('history.json')"
   ]
  },
  {
   "cell_type": "code",
   "execution_count": null,
   "metadata": {},
   "outputs": [],
   "source": [
    "##Save Model\n",
    "model.save('ref7var_trained.model') #Save the model"
   ]
  },
  {
   "cell_type": "code",
   "execution_count": null,
   "metadata": {},
   "outputs": [],
   "source": [
    "## Load Model\n",
    "model = tf.keras.models.load_model('mobile_net_trained.model') #Re load model"
   ]
  }
 ],
 "metadata": {
  "kernelspec": {
   "display_name": "Python 3",
   "language": "python",
   "name": "python3"
  },
  "language_info": {
   "codemirror_mode": {
    "name": "ipython",
    "version": 3
   },
   "file_extension": ".py",
   "mimetype": "text/x-python",
   "name": "python",
   "nbconvert_exporter": "python",
   "pygments_lexer": "ipython3",
   "version": "3.7.7"
  }
 },
 "nbformat": 4,
 "nbformat_minor": 4
}

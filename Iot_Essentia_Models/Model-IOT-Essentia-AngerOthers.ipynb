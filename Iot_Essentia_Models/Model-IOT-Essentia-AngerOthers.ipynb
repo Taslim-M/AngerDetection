{
 "cells": [
  {
   "cell_type": "markdown",
   "metadata": {},
   "source": [
    "<h1>Model: Female Anger vs. Others</h1>"
   ]
  },
  {
   "cell_type": "code",
   "execution_count": 1,
   "metadata": {},
   "outputs": [],
   "source": [
    "import tensorflow as tf\n",
    "config = tf.compat.v1.ConfigProto()\n",
    "config.gpu_options.allow_growth = True\n",
    "session = tf.compat.v1.Session(config=config)"
   ]
  },
  {
   "cell_type": "code",
   "execution_count": 2,
   "metadata": {},
   "outputs": [],
   "source": [
    "import keras\n",
    "import pandas as pd\n",
    "import tensorflow as tf\n",
    "\n",
    "import numpy as np\n",
    "# from keras.models import Sequential, Model\n",
    "# from keras.layers import Dense, Dropout, Activation, Flatten, Convolution2D, MaxPooling2D, GlobalAveragePooling2D\n",
    "from keras.utils import np_utils\n",
    "\n",
    "from tensorflow.keras.models import Sequential, Model\n",
    "from tensorflow.keras.layers import Dense, Dropout, Activation, Flatten, Convolution2D, MaxPooling2D, GlobalAveragePooling2D, Input,AveragePooling2D, BatchNormalization, LeakyReLU\n",
    "\n",
    "# from keras.applications import MobileNet\n",
    "# from keras.optimizers import Adam\n",
    "from tensorflow.keras.applications import MobileNetV2, InceptionV3\n",
    "from tensorflow.keras.optimizers import Adam\n",
    "\n",
    "from matplotlib import pyplot as plt\n",
    "import os\n",
    "from sklearn.model_selection import train_test_split\n",
    "\n",
    "import seaborn as sns\n",
    "from sklearn.metrics import recall_score\n",
    "from sklearn.metrics import precision_score\n",
    "from sklearn.model_selection import KFold\n",
    "\n",
    "from collections import defaultdict\n"
   ]
  },
  {
   "cell_type": "markdown",
   "metadata": {},
   "source": [
    "<h2>Data Loading and Preparation</h2>"
   ]
  },
  {
   "cell_type": "code",
   "execution_count": 3,
   "metadata": {},
   "outputs": [],
   "source": [
    "def getEmotionCode(x):\n",
    "    part = x.split('_')\n",
    "    if part[1] == 'ANG':\n",
    "        return 1\n",
    "    else:\n",
    "        return 0\n",
    "\n",
    "def getEmotion(x):\n",
    "    if x == 1:\n",
    "        return 'ANG'\n",
    "    else:\n",
    "        return 'OTH'"
   ]
  },
  {
   "cell_type": "code",
   "execution_count": 4,
   "metadata": {},
   "outputs": [],
   "source": [
    "X_all = np.load('../data/Ess_Mel_1_5_NMP/Ess_Mel_1_5_NMP_X.npy', allow_pickle= True)\n",
    "Y_all = np.load('../data/Ess_Mel_1_5_NMP/Ess_Mel_1_5_NMP_Y.npy', allow_pickle= True)"
   ]
  },
  {
   "cell_type": "code",
   "execution_count": 5,
   "metadata": {},
   "outputs": [],
   "source": [
    "X_all = X_all.astype('float32')"
   ]
  },
  {
   "cell_type": "code",
   "execution_count": 6,
   "metadata": {},
   "outputs": [],
   "source": [
    "for i in range(Y_all.shape[0]):\n",
    "    Y_all[i] = getEmotionCode(Y_all[i])\n"
   ]
  },
  {
   "cell_type": "code",
   "execution_count": 8,
   "metadata": {},
   "outputs": [],
   "source": [
    "for i in range(X_all.shape[0]):\n",
    "    X_all[i] = (X_all[i] - X_all[i].mean()) / X_all[i].std()\n",
    "    \n",
    "#for i in range(X_all.shape[0]):\n",
    "#    X_all[i] = (X_all[i] - X_all[i].min()) / (X_all[i].max() -  X_all[i].min())"
   ]
  },
  {
   "cell_type": "code",
   "execution_count": 9,
   "metadata": {},
   "outputs": [],
   "source": [
    "Y_all = np_utils.to_categorical(Y_all, num_classes=2) "
   ]
  },
  {
   "cell_type": "code",
   "execution_count": 10,
   "metadata": {},
   "outputs": [],
   "source": [
    "# train /test= 80/20% split\n",
    "# stratified\n",
    "X_train, X_test, Y_train, Y_test = train_test_split(X_all, Y_all, test_size=0.2, random_state = 123, stratify=Y_all)\n",
    "\n"
   ]
  },
  {
   "cell_type": "markdown",
   "metadata": {},
   "source": [
    "<h2>Model Building</h2>"
   ]
  },
  {
   "cell_type": "code",
   "execution_count": 11,
   "metadata": {},
   "outputs": [],
   "source": [
    "def build_current_model():\n",
    "    inp = Input(shape=(128, 151,1))\n",
    "    \n",
    "    lay = Convolution2D(filters=128,kernel_size=(5,5),strides=(2,2),padding='same')(inp)\n",
    "    lay = BatchNormalization()(lay)\n",
    "    lay = Activation('relu')(lay)\n",
    "    lay = MaxPooling2D(pool_size=(2,2),strides=2,padding='same')(lay)\n",
    "    lay = Dropout(0.2)(lay)\n",
    "\n",
    "    \n",
    "    lay = Convolution2D(filters=256,kernel_size=(3,3),strides=(2,2),padding='same')(lay)\n",
    "    lay = BatchNormalization()(lay)\n",
    "    lay = Activation('relu')(lay)\n",
    "    lay = AveragePooling2D(pool_size=(2,2),strides=2,padding='same')(lay)\n",
    "    lay = Dropout(0.3)(lay)\n",
    "    \n",
    "    lay = Convolution2D(filters=256,kernel_size=(3,3),strides=(1,1),padding='same')(lay)\n",
    "    lay = BatchNormalization()(lay)\n",
    "    lay = Activation('relu')(lay)\n",
    "    lay = AveragePooling2D(pool_size=(2,2),strides=2,padding='same')(lay)\n",
    "    lay = Dropout(0.3)(lay)\n",
    "    \n",
    "    lay = Convolution2D(filters=512,kernel_size=(3,3),strides=(1,1),padding='same')(lay)\n",
    "    lay = BatchNormalization()(lay)\n",
    "    lay = Activation('relu')(lay)\n",
    "    lay = AveragePooling2D(pool_size=(2,2),strides=2,padding='same')(lay)\n",
    "    lay = Dropout(0.4)(lay)\n",
    "    \n",
    "    lay = Flatten()(lay)\n",
    "    \n",
    "    lay = Dense(256)(lay)\n",
    "    lay = BatchNormalization()(lay)\n",
    "    lay = Activation('elu')(lay)\n",
    "    lay = Dropout(0.3)(lay)\n",
    "    \n",
    "    lay = Dense(64)(lay)\n",
    "    lay = BatchNormalization()(lay)\n",
    "    lay = Activation('elu')(lay)\n",
    "    lay = Dropout(0.2)(lay)\n",
    "\n",
    "\n",
    "    x_out = Dense(2, name='output', activation='softmax')(lay)\n",
    "    \n",
    "    model = Model(inputs=inp, outputs=x_out)\n",
    "    model.compile(optimizer=Adam(lr=0.001), \n",
    "                  loss='categorical_crossentropy', \n",
    "                  metrics = ['accuracy'])\n",
    "    return model\n"
   ]
  },
  {
   "cell_type": "code",
   "execution_count": 12,
   "metadata": {},
   "outputs": [
    {
     "name": "stdout",
     "output_type": "stream",
     "text": [
      "Model: \"model\"\n",
      "_________________________________________________________________\n",
      "Layer (type)                 Output Shape              Param #   \n",
      "=================================================================\n",
      "input_1 (InputLayer)         [(None, 128, 151, 1)]     0         \n",
      "_________________________________________________________________\n",
      "conv2d (Conv2D)              (None, 64, 76, 128)       3328      \n",
      "_________________________________________________________________\n",
      "batch_normalization (BatchNo (None, 64, 76, 128)       512       \n",
      "_________________________________________________________________\n",
      "activation (Activation)      (None, 64, 76, 128)       0         \n",
      "_________________________________________________________________\n",
      "max_pooling2d (MaxPooling2D) (None, 32, 38, 128)       0         \n",
      "_________________________________________________________________\n",
      "dropout (Dropout)            (None, 32, 38, 128)       0         \n",
      "_________________________________________________________________\n",
      "conv2d_1 (Conv2D)            (None, 16, 19, 256)       295168    \n",
      "_________________________________________________________________\n",
      "batch_normalization_1 (Batch (None, 16, 19, 256)       1024      \n",
      "_________________________________________________________________\n",
      "activation_1 (Activation)    (None, 16, 19, 256)       0         \n",
      "_________________________________________________________________\n",
      "average_pooling2d (AveragePo (None, 8, 10, 256)        0         \n",
      "_________________________________________________________________\n",
      "dropout_1 (Dropout)          (None, 8, 10, 256)        0         \n",
      "_________________________________________________________________\n",
      "conv2d_2 (Conv2D)            (None, 8, 10, 256)        590080    \n",
      "_________________________________________________________________\n",
      "batch_normalization_2 (Batch (None, 8, 10, 256)        1024      \n",
      "_________________________________________________________________\n",
      "activation_2 (Activation)    (None, 8, 10, 256)        0         \n",
      "_________________________________________________________________\n",
      "average_pooling2d_1 (Average (None, 4, 5, 256)         0         \n",
      "_________________________________________________________________\n",
      "dropout_2 (Dropout)          (None, 4, 5, 256)         0         \n",
      "_________________________________________________________________\n",
      "conv2d_3 (Conv2D)            (None, 4, 5, 512)         1180160   \n",
      "_________________________________________________________________\n",
      "batch_normalization_3 (Batch (None, 4, 5, 512)         2048      \n",
      "_________________________________________________________________\n",
      "activation_3 (Activation)    (None, 4, 5, 512)         0         \n",
      "_________________________________________________________________\n",
      "average_pooling2d_2 (Average (None, 2, 3, 512)         0         \n",
      "_________________________________________________________________\n",
      "dropout_3 (Dropout)          (None, 2, 3, 512)         0         \n",
      "_________________________________________________________________\n",
      "flatten (Flatten)            (None, 3072)              0         \n",
      "_________________________________________________________________\n",
      "dense (Dense)                (None, 256)               786688    \n",
      "_________________________________________________________________\n",
      "batch_normalization_4 (Batch (None, 256)               1024      \n",
      "_________________________________________________________________\n",
      "activation_4 (Activation)    (None, 256)               0         \n",
      "_________________________________________________________________\n",
      "dropout_4 (Dropout)          (None, 256)               0         \n",
      "_________________________________________________________________\n",
      "dense_1 (Dense)              (None, 64)                16448     \n",
      "_________________________________________________________________\n",
      "batch_normalization_5 (Batch (None, 64)                256       \n",
      "_________________________________________________________________\n",
      "activation_5 (Activation)    (None, 64)                0         \n",
      "_________________________________________________________________\n",
      "dropout_5 (Dropout)          (None, 64)                0         \n",
      "_________________________________________________________________\n",
      "output (Dense)               (None, 2)                 130       \n",
      "=================================================================\n",
      "Total params: 2,877,890\n",
      "Trainable params: 2,874,946\n",
      "Non-trainable params: 2,944\n",
      "_________________________________________________________________\n"
     ]
    }
   ],
   "source": [
    "model = build_current_model()\n",
    "model.summary()"
   ]
  },
  {
   "cell_type": "code",
   "execution_count": null,
   "metadata": {},
   "outputs": [],
   "source": [
    "#tf.keras.utils.plot_model(model, \"Model-Ref7Var.png\", show_shapes=True)"
   ]
  },
  {
   "cell_type": "code",
   "execution_count": 13,
   "metadata": {},
   "outputs": [
    {
     "name": "stdout",
     "output_type": "stream",
     "text": [
      "Epoch 1/50\n",
      "263/263 [==============================] - 2s 9ms/step - loss: 0.5128 - accuracy: 0.7631 - val_loss: 0.4018 - val_accuracy: 0.8632\n",
      "Epoch 2/50\n",
      "263/263 [==============================] - 2s 8ms/step - loss: 0.4022 - accuracy: 0.8541 - val_loss: 0.5304 - val_accuracy: 0.7650\n",
      "Epoch 3/50\n",
      "263/263 [==============================] - 2s 8ms/step - loss: 0.3857 - accuracy: 0.8589 - val_loss: 0.5779 - val_accuracy: 0.6581\n",
      "Epoch 4/50\n",
      "263/263 [==============================] - 2s 9ms/step - loss: 0.3642 - accuracy: 0.8656 - val_loss: 0.7668 - val_accuracy: 0.5342\n",
      "Epoch 5/50\n",
      "263/263 [==============================] - 3s 10ms/step - loss: 0.3469 - accuracy: 0.8713 - val_loss: 0.3259 - val_accuracy: 0.8590\n",
      "Epoch 6/50\n",
      "263/263 [==============================] - 2s 8ms/step - loss: 0.3471 - accuracy: 0.8670 - val_loss: 0.3348 - val_accuracy: 0.8803\n",
      "Epoch 7/50\n",
      "263/263 [==============================] - 3s 10ms/step - loss: 0.3331 - accuracy: 0.8718 - val_loss: 0.3752 - val_accuracy: 0.8632\n",
      "Epoch 8/50\n",
      "263/263 [==============================] - 3s 10ms/step - loss: 0.3213 - accuracy: 0.8765 - val_loss: 0.4940 - val_accuracy: 0.6795\n",
      "Epoch 9/50\n",
      "263/263 [==============================] - 3s 10ms/step - loss: 0.3177 - accuracy: 0.8704 - val_loss: 0.3128 - val_accuracy: 0.8761\n",
      "Epoch 10/50\n",
      "263/263 [==============================] - 2s 7ms/step - loss: 0.2931 - accuracy: 0.8823 - val_loss: 0.3338 - val_accuracy: 0.8675\n",
      "Epoch 11/50\n",
      "263/263 [==============================] - 3s 10ms/step - loss: 0.2857 - accuracy: 0.8894 - val_loss: 0.3978 - val_accuracy: 0.8162\n",
      "Epoch 12/50\n",
      "263/263 [==============================] - 2s 9ms/step - loss: 0.2934 - accuracy: 0.8851 - val_loss: 0.3952 - val_accuracy: 0.8675\n",
      "Epoch 13/50\n",
      "263/263 [==============================] - 2s 9ms/step - loss: 0.2757 - accuracy: 0.8932 - val_loss: 0.2831 - val_accuracy: 0.8889\n",
      "Epoch 14/50\n",
      "263/263 [==============================] - 2s 8ms/step - loss: 0.2822 - accuracy: 0.8827 - val_loss: 0.5095 - val_accuracy: 0.7009\n",
      "Epoch 15/50\n",
      "263/263 [==============================] - 2s 9ms/step - loss: 0.2605 - accuracy: 0.8956 - val_loss: 0.2827 - val_accuracy: 0.8718\n",
      "Epoch 16/50\n",
      "263/263 [==============================] - 3s 10ms/step - loss: 0.2658 - accuracy: 0.8994 - val_loss: 0.2882 - val_accuracy: 0.8632\n",
      "Epoch 17/50\n",
      "263/263 [==============================] - 2s 8ms/step - loss: 0.2509 - accuracy: 0.9042 - val_loss: 0.3129 - val_accuracy: 0.8889\n",
      "Epoch 18/50\n",
      "263/263 [==============================] - 2s 8ms/step - loss: 0.2488 - accuracy: 0.9028 - val_loss: 0.2629 - val_accuracy: 0.8932\n",
      "Epoch 19/50\n",
      "263/263 [==============================] - 3s 10ms/step - loss: 0.2490 - accuracy: 0.9028 - val_loss: 0.3372 - val_accuracy: 0.8675\n",
      "Epoch 20/50\n",
      "263/263 [==============================] - 2s 9ms/step - loss: 0.2462 - accuracy: 0.9037 - val_loss: 0.2677 - val_accuracy: 0.9060\n",
      "Epoch 21/50\n",
      "263/263 [==============================] - 2s 9ms/step - loss: 0.2340 - accuracy: 0.9080 - val_loss: 0.3050 - val_accuracy: 0.8419\n",
      "Epoch 22/50\n",
      "263/263 [==============================] - 2s 9ms/step - loss: 0.2305 - accuracy: 0.9037 - val_loss: 0.2768 - val_accuracy: 0.8675\n",
      "Epoch 23/50\n",
      "263/263 [==============================] - 3s 10ms/step - loss: 0.2548 - accuracy: 0.9013 - val_loss: 0.3011 - val_accuracy: 0.8718\n",
      "Epoch 24/50\n",
      "263/263 [==============================] - 3s 10ms/step - loss: 0.2412 - accuracy: 0.9061 - val_loss: 0.2980 - val_accuracy: 0.8803\n",
      "Epoch 25/50\n",
      "263/263 [==============================] - 3s 10ms/step - loss: 0.2166 - accuracy: 0.9152 - val_loss: 0.5040 - val_accuracy: 0.7821\n",
      "Epoch 26/50\n",
      "263/263 [==============================] - 3s 11ms/step - loss: 0.2150 - accuracy: 0.9161 - val_loss: 0.2964 - val_accuracy: 0.8718\n",
      "Epoch 27/50\n",
      "263/263 [==============================] - 3s 10ms/step - loss: 0.2223 - accuracy: 0.9180 - val_loss: 0.2951 - val_accuracy: 0.9017\n",
      "Epoch 28/50\n",
      "263/263 [==============================] - 2s 8ms/step - loss: 0.2142 - accuracy: 0.9180 - val_loss: 0.2547 - val_accuracy: 0.9017\n",
      "Epoch 29/50\n",
      "263/263 [==============================] - 3s 10ms/step - loss: 0.2051 - accuracy: 0.9337 - val_loss: 0.3349 - val_accuracy: 0.8504\n",
      "Epoch 30/50\n",
      "263/263 [==============================] - 2s 9ms/step - loss: 0.1983 - accuracy: 0.9318 - val_loss: 0.2455 - val_accuracy: 0.8846\n",
      "Epoch 31/50\n",
      "263/263 [==============================] - 3s 10ms/step - loss: 0.1817 - accuracy: 0.9314 - val_loss: 0.2596 - val_accuracy: 0.8718\n",
      "Epoch 32/50\n",
      "263/263 [==============================] - 3s 10ms/step - loss: 0.1885 - accuracy: 0.9280 - val_loss: 0.3036 - val_accuracy: 0.8846\n",
      "Epoch 33/50\n",
      "263/263 [==============================] - 2s 9ms/step - loss: 0.1844 - accuracy: 0.9285 - val_loss: 0.4348 - val_accuracy: 0.8120\n",
      "Epoch 34/50\n",
      "263/263 [==============================] - 3s 10ms/step - loss: 0.1950 - accuracy: 0.9247 - val_loss: 0.4548 - val_accuracy: 0.8205\n",
      "Epoch 35/50\n",
      "263/263 [==============================] - 3s 10ms/step - loss: 0.1869 - accuracy: 0.9252 - val_loss: 0.2652 - val_accuracy: 0.8932\n",
      "Epoch 36/50\n",
      "263/263 [==============================] - 2s 9ms/step - loss: 0.1848 - accuracy: 0.9285 - val_loss: 0.2532 - val_accuracy: 0.9017\n",
      "Epoch 37/50\n",
      "263/263 [==============================] - 2s 9ms/step - loss: 0.1799 - accuracy: 0.9295 - val_loss: 0.2990 - val_accuracy: 0.8803\n",
      "Epoch 38/50\n",
      "263/263 [==============================] - 2s 10ms/step - loss: 0.1820 - accuracy: 0.9276 - val_loss: 0.3313 - val_accuracy: 0.8803\n",
      "Epoch 39/50\n",
      "263/263 [==============================] - 2s 8ms/step - loss: 0.1682 - accuracy: 0.9385 - val_loss: 0.2765 - val_accuracy: 0.8932\n",
      "Epoch 40/50\n",
      "263/263 [==============================] - 2s 7ms/step - loss: 0.1675 - accuracy: 0.9347 - val_loss: 0.4569 - val_accuracy: 0.8504\n",
      "Epoch 41/50\n",
      "263/263 [==============================] - 2s 7ms/step - loss: 0.1582 - accuracy: 0.9438 - val_loss: 0.3674 - val_accuracy: 0.8675\n",
      "Epoch 42/50\n",
      "263/263 [==============================] - 2s 9ms/step - loss: 0.1664 - accuracy: 0.9342 - val_loss: 0.2724 - val_accuracy: 0.8889\n",
      "Epoch 43/50\n",
      "263/263 [==============================] - 2s 9ms/step - loss: 0.1450 - accuracy: 0.9466 - val_loss: 0.3629 - val_accuracy: 0.8632\n",
      "Epoch 44/50\n",
      "263/263 [==============================] - 2s 9ms/step - loss: 0.1497 - accuracy: 0.9461 - val_loss: 0.2721 - val_accuracy: 0.8761\n",
      "Epoch 45/50\n",
      "263/263 [==============================] - 2s 8ms/step - loss: 0.1357 - accuracy: 0.9490 - val_loss: 0.3162 - val_accuracy: 0.8761\n",
      "Epoch 46/50\n",
      "263/263 [==============================] - 2s 9ms/step - loss: 0.1398 - accuracy: 0.9485 - val_loss: 0.2712 - val_accuracy: 0.8974\n",
      "Epoch 47/50\n",
      "263/263 [==============================] - 3s 11ms/step - loss: 0.1397 - accuracy: 0.9523 - val_loss: 0.3499 - val_accuracy: 0.8718\n",
      "Epoch 48/50\n",
      "263/263 [==============================] - 2s 9ms/step - loss: 0.1362 - accuracy: 0.9500 - val_loss: 0.2357 - val_accuracy: 0.8974\n",
      "Epoch 49/50\n",
      "263/263 [==============================] - 3s 10ms/step - loss: 0.1293 - accuracy: 0.9542 - val_loss: 0.2713 - val_accuracy: 0.8974\n",
      "Epoch 50/50\n",
      "263/263 [==============================] - 2s 8ms/step - loss: 0.1316 - accuracy: 0.9519 - val_loss: 0.3203 - val_accuracy: 0.8632\n"
     ]
    }
   ],
   "source": [
    "history = model.fit(X_train, Y_train, \n",
    "              epochs = 50, \n",
    "              validation_split=0.1, \n",
    "              verbose=1, \n",
    "              batch_size = 8)\n",
    "\n",
    "history_info = history.history"
   ]
  },
  {
   "cell_type": "markdown",
   "metadata": {},
   "source": [
    "<h2>Evaluation (Basic)</h2>"
   ]
  },
  {
   "cell_type": "code",
   "execution_count": 20,
   "metadata": {},
   "outputs": [],
   "source": [
    "def generate_actual_predicted(Y_pred, X_test, Y_test): \n",
    "    predicted = list()\n",
    "    for i in range(len(Y_pred)):\n",
    "        predicted.append(np.argmax(Y_pred[i]))\n",
    "        \n",
    "    actual = list()\n",
    "    for i in range(len(Y_test)):\n",
    "        actual.append(np.argmax(Y_test[i]))\n",
    "        \n",
    "    return actual, predicted\n",
    "\n",
    "Y_pred = model.predict(X_test)\n",
    "actual, predicted = generate_actual_predicted(Y_pred, X_test, Y_test)\n",
    "actual_labeled = list()\n",
    "predict_labeled = list()\n",
    "for x,y in zip(actual,predicted):\n",
    "    actual_labeled.append(getEmotion(x))\n",
    "    predict_labeled.append(getEmotion(y))\n",
    "labels = ['ANG','OTH']\n"
   ]
  },
  {
   "cell_type": "code",
   "execution_count": 21,
   "metadata": {},
   "outputs": [
    {
     "name": "stdout",
     "output_type": "stream",
     "text": [
      "              precision    recall  f1-score   support\n",
      "\n",
      "         ANG       0.57      0.66      0.61        77\n",
      "         OTH       0.95      0.92      0.94       506\n",
      "\n",
      "    accuracy                           0.89       583\n",
      "   macro avg       0.76      0.79      0.78       583\n",
      "weighted avg       0.90      0.89      0.89       583\n",
      "\n"
     ]
    }
   ],
   "source": [
    "## Precision, Recall, F1, Support\n",
    "from sklearn.metrics import classification_report\n",
    "print(classification_report(actual_labeled, predict_labeled,labels=labels))"
   ]
  },
  {
   "cell_type": "code",
   "execution_count": 22,
   "metadata": {
    "scrolled": true
   },
   "outputs": [
    {
     "data": {
      "text/plain": [
       "<AxesSubplot:ylabel='accuracy'>"
      ]
     },
     "execution_count": 22,
     "metadata": {},
     "output_type": "execute_result"
    },
    {
     "data": {
      "image/png": "[encoded data removed]",
      "text/plain": [
       "<Figure size 432x288 with 2 Axes>"
      ]
     },
     "metadata": {
      "needs_background": "light"
     },
     "output_type": "display_data"
    }
   ],
   "source": [
    "## Loss and accuracy history\n",
    "_, axs = plt.subplots(ncols=2)\n",
    "df_history_info = pd.DataFrame(history_info) \n",
    "\n",
    "\n",
    "sns.lineplot(data=df_history_info['loss'],ax=axs[0], label='Training Loss', legend='brief')\n",
    "sns.lineplot(data=df_history_info['val_loss'],ax=axs[0], label='Validation Loss', legend='brief')\n",
    "\n",
    "sns.lineplot(data=df_history_info['accuracy'],ax=axs[1], label='Training Accuracy', legend='brief')\n",
    "sns.lineplot(data=df_history_info['val_accuracy'],ax=axs[1], label='Validation Accuracy', legend='brief')"
   ]
  },
  {
   "cell_type": "code",
   "execution_count": 23,
   "metadata": {},
   "outputs": [
    {
     "name": "stdout",
     "output_type": "stream",
     "text": [
      "[[ 51  26]\n",
      " [ 38 468]]\n"
     ]
    },
    {
     "data": {
      "image/png": "[encoded data removed]",
      "text/plain": [
       "<Figure size 432x288 with 2 Axes>"
      ]
     },
     "metadata": {
      "needs_background": "light"
     },
     "output_type": "display_data"
    }
   ],
   "source": [
    "\n",
    "##Confusion Matrix\n",
    "from sklearn.metrics import confusion_matrix\n",
    "cm=confusion_matrix(actual_labeled,predict_labeled,labels=labels)\n",
    "print(cm)\n",
    "\n",
    "ax= plt.subplot()\n",
    "sns.heatmap(cm, annot=True, ax = ax); #annot=True to annotate cells\n",
    "\n",
    "# labels, title and ticks\n",
    "ax.set_xlabel('Predicted labels');ax.set_ylabel('True labels'); \n",
    "ax.set_title('Confusion Matrix'); \n",
    "ax.xaxis.set_ticklabels(labels); ax.yaxis.set_ticklabels(labels);"
   ]
  },
  {
   "cell_type": "code",
   "execution_count": 24,
   "metadata": {},
   "outputs": [
    {
     "name": "stdout",
     "output_type": "stream",
     "text": [
      "accuracy 0.8902229845626072\n"
     ]
    }
   ],
   "source": [
    "## Test accuracy\n",
    "from sklearn.metrics import accuracy_score\n",
    "print('accuracy', accuracy_score(actual, predicted))\n"
   ]
  },
  {
   "cell_type": "code",
   "execution_count": 25,
   "metadata": {},
   "outputs": [
    {
     "data": {
      "text/plain": [
       "[<matplotlib.lines.Line2D at 0x7feb603319a0>]"
      ]
     },
     "execution_count": 25,
     "metadata": {},
     "output_type": "execute_result"
    },
    {
     "data": {
      "image/png": "[encoded data removed]",
      "text/plain": [
       "<Figure size 432x288 with 1 Axes>"
      ]
     },
     "metadata": {
      "needs_background": "light"
     },
     "output_type": "display_data"
    }
   ],
   "source": [
    "## ROC Curves\n",
    "from sklearn.metrics import roc_curve, auc\n",
    "import seaborn as sns\n",
    "from scipy import interp\n",
    "\n",
    "### The following curves are generated s.t each point is a model from differing thresholds\n",
    "\n",
    "_, axs = plt.subplots(ncols=1)\n",
    "axs.set(xlabel='False Positive Rate',ylabel='True Positive Rate', title='ROC Curve for Female Anger vs. Others')\n",
    "\n",
    "\n",
    "fpr, tpr, _ = roc_curve(Y_test[:,0], Y_pred[:,0])\n",
    "auc_val = auc(fpr, tpr)\n",
    "sns.lineplot(x=fpr,y=tpr,ax=axs, label='Area = ' + str(auc_val) + '', legend='brief')\n",
    "\n",
    "\n",
    "plt.plot([0, 1], [0, 1], 'k--', lw=2)"
   ]
  },
  {
   "cell_type": "code",
   "execution_count": 26,
   "metadata": {},
   "outputs": [
    {
     "data": {
      "text/plain": [
       "[<matplotlib.lines.Line2D at 0x7feb600fbd00>]"
      ]
     },
     "execution_count": 26,
     "metadata": {},
     "output_type": "execute_result"
    },
    {
     "data": {
      "image/png": "[encoded data removed]",
      "text/plain": [
       "<Figure size 432x288 with 1 Axes>"
      ]
     },
     "metadata": {
      "needs_background": "light"
     },
     "output_type": "display_data"
    }
   ],
   "source": [
    "## Precision/Recall Curves per class\n",
    "### The following curves are generated s.t each point is a model from differing thresholds\n",
    "from sklearn.metrics import precision_recall_curve\n",
    "\n",
    "_, axs = plt.subplots(ncols=1)\n",
    "axs.set(xlabel='Recall',ylabel='Precision', title='Precision/Recall Curve for Female Anger vs. Others')\n",
    "\n",
    "prec, rec, _ = precision_recall_curve(Y_test[:,0], Y_pred[:,0])\n",
    "sns.lineplot(x=rec,y=prec,ax=axs)\n",
    "\n",
    "# Diagonal line for comparison\n",
    "plt.plot([1, 0], [0, 1], 'k--', lw=2)"
   ]
  },
  {
   "cell_type": "markdown",
   "metadata": {},
   "source": [
    "<h2>Storing/Loading history and model to file</h2>"
   ]
  },
  {
   "cell_type": "code",
   "execution_count": 28,
   "metadata": {},
   "outputs": [],
   "source": [
    "import tensorflowjs as tfjs\n",
    "\n",
    "tfjs_target_dir = r\"tfjs_models/essentia_v1\"\n",
    "tfjs.converters.save_keras_model(model, tfjs_target_dir)\n"
   ]
  },
  {
   "cell_type": "code",
   "execution_count": null,
   "metadata": {},
   "outputs": [],
   "source": []
  },
  {
   "cell_type": "code",
   "execution_count": null,
   "metadata": {},
   "outputs": [],
   "source": []
  },
  {
   "cell_type": "code",
   "execution_count": null,
   "metadata": {},
   "outputs": [],
   "source": []
  }
 ],
 "metadata": {
  "kernelspec": {
   "display_name": "Python 3",
   "language": "python",
   "name": "python3"
  },
  "language_info": {
   "codemirror_mode": {
    "name": "ipython",
    "version": 3
   },
   "file_extension": ".py",
   "mimetype": "text/x-python",
   "name": "python",
   "nbconvert_exporter": "python",
   "pygments_lexer": "ipython3",
   "version": "3.8.5"
  }
 },
 "nbformat": 4,
 "nbformat_minor": 4
}

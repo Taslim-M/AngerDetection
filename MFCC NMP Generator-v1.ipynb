{
 "cells": [
  {
   "cell_type": "code",
   "execution_count": 1,
   "metadata": {},
   "outputs": [
    {
     "name": "stderr",
     "output_type": "stream",
     "text": [
      "C:\\Users\\azada\\Anaconda3\\envs\\py37\\lib\\site-packages\\librosa\\util\\decorators.py:9: NumbaDeprecationWarning: \u001b[1mAn import was requested from a module that has moved location.\n",
      "Import requested from: 'numba.decorators', please update to use 'numba.core.decorators' or pin to Numba version 0.48.0. This alias will not be present in Numba version 0.50.0.\u001b[0m\n",
      "  from numba.decorators import jit as optional_jit\n",
      "C:\\Users\\azada\\Anaconda3\\envs\\py37\\lib\\site-packages\\librosa\\util\\decorators.py:9: NumbaDeprecationWarning: \u001b[1mAn import was requested from a module that has moved location.\n",
      "Import of 'jit' requested from: 'numba.decorators', please update to use 'numba.core.decorators' or pin to Numba version 0.48.0. This alias will not be present in Numba version 0.50.0.\u001b[0m\n",
      "  from numba.decorators import jit as optional_jit\n"
     ]
    }
   ],
   "source": [
    "import librosa\n",
    "import librosa.display\n",
    "import matplotlib.pyplot as plt\n",
    "import numpy as np\n",
    "from os import listdir\n",
    "from os.path import isfile, join\n",
    "import os\n",
    "import scipy \n",
    "import pandas as pd\n",
    "import shutil"
   ]
  },
  {
   "cell_type": "markdown",
   "metadata": {},
   "source": [
    "# To Numpy Arrays"
   ]
  },
  {
   "cell_type": "code",
   "execution_count": 7,
   "metadata": {},
   "outputs": [],
   "source": [
    "def convert_single_audio_to_arr(audio_path, emotion_code):\n",
    "    data, sr = librosa.load(audio_path, sr = 22050)\n",
    "    a_mfcc = librosa.feature.mfcc(data, n_fft=1000, hop_length=20,win_length=50, n_mfcc=13)\n",
    "    return a_mfcc\n",
    "    "
   ]
  },
  {
   "cell_type": "markdown",
   "metadata": {},
   "source": [
    "# RAVEDESS"
   ]
  },
  {
   "cell_type": "code",
   "execution_count": 10,
   "metadata": {},
   "outputs": [
    {
     "name": "stdout",
     "output_type": "stream",
     "text": [
      "Done with: X size:  (2915, 13, 1654)  Y size:  (2915,)\n"
     ]
    }
   ],
   "source": [
    "audio_folder_name= r\"data/RAVEDESS/Audio1_5WAV\"\n",
    "\n",
    "\n",
    "X = list()\n",
    "Y = list()\n",
    "\n",
    "curr_file_names = listdir(audio_folder_name)\n",
    "for f in curr_file_names:\n",
    "    if f.endswith('.WAV') or f.endswith('.wav'):\n",
    "        audio_path = join(audio_folder_name,f)\n",
    "        label = f[:5]\n",
    "        X.append(convert_single_audio_to_arr(audio_path, label))\n",
    "        Y.append(label)\n",
    "        \n",
    "print(\"Done with: X size: \",np.array(X).shape, \" Y size: \", np.array(Y).shape)"
   ]
  },
  {
   "cell_type": "code",
   "execution_count": 14,
   "metadata": {},
   "outputs": [],
   "source": [
    "X = np.array(X)\n",
    "Y= np.array(Y)\n",
    "np.save(r\"data/RAVEDESS/MFCC1_5NMP/MFCC1_5NMP_X\",X)\n",
    "np.save(r\"data/RAVEDESS/MFCC1_5NMP/MFCC1_5NMP_Y\",Y)"
   ]
  }
 ],
 "metadata": {
  "kernelspec": {
   "display_name": "Python 3",
   "language": "python",
   "name": "python3"
  },
  "language_info": {
   "codemirror_mode": {
    "name": "ipython",
    "version": 3
   },
   "file_extension": ".py",
   "mimetype": "text/x-python",
   "name": "python",
   "nbconvert_exporter": "python",
   "pygments_lexer": "ipython3",
   "version": "3.7.7"
  }
 },
 "nbformat": 4,
 "nbformat_minor": 2
}

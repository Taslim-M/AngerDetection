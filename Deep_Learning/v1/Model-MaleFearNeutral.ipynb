{
 "cells": [
  {
   "cell_type": "markdown",
   "metadata": {},
   "source": [
    "<h1>Model: Male Fear vs. Neutral</h1>"
   ]
  },
  {
   "cell_type": "code",
   "execution_count": 24,
   "metadata": {},
   "outputs": [],
   "source": [
    "import tensorflow as tf\n",
    "config = tf.ConfigProto()\n",
    "config.gpu_options.allow_growth = True\n",
    "session = tf.Session(config=config)"
   ]
  },
  {
   "cell_type": "code",
   "execution_count": 25,
   "metadata": {},
   "outputs": [],
   "source": [
    "import keras\n",
    "import pandas as pd\n",
    "import tensorflow as tf\n",
    "\n",
    "import numpy as np\n",
    "# from keras.models import Sequential, Model\n",
    "# from keras.layers import Dense, Dropout, Activation, Flatten, Convolution2D, MaxPooling2D, GlobalAveragePooling2D\n",
    "from keras.utils import np_utils\n",
    "\n",
    "from tensorflow.keras.models import Sequential, Model\n",
    "from tensorflow.keras.layers import Dense, Dropout, Activation, Flatten, Convolution2D, MaxPooling2D, GlobalAveragePooling2D, Input,AveragePooling2D, BatchNormalization, LeakyReLU, SpatialDropout2D\n",
    "\n",
    "# from keras.applications import MobileNet\n",
    "# from keras.optimizers import Adam\n",
    "from tensorflow.keras.applications import MobileNetV2, InceptionV3\n",
    "from tensorflow.keras.optimizers import Adam\n",
    "\n",
    "from matplotlib import pyplot as plt\n",
    "import os\n",
    "from sklearn.model_selection import train_test_split\n",
    "\n",
    "import seaborn as sns\n",
    "from sklearn.metrics import recall_score\n",
    "from sklearn.metrics import precision_score\n",
    "from sklearn.model_selection import KFold\n",
    "\n",
    "from collections import defaultdict\n",
    "from PIL import Image"
   ]
  },
  {
   "cell_type": "markdown",
   "metadata": {},
   "source": [
    "<h2>Data Loading and Preparation</h2>"
   ]
  },
  {
   "cell_type": "code",
   "execution_count": 26,
   "metadata": {},
   "outputs": [],
   "source": [
    "def getEmotionCode(x):\n",
    "    part = x.split('_')\n",
    "    if part[3] == 'FEA':\n",
    "        return 1\n",
    "    else:\n",
    "        return 0\n",
    "\n",
    "def getEmotion(x):\n",
    "    if x == 1:\n",
    "        return 'FEA'\n",
    "    else:\n",
    "        return 'NEU'"
   ]
  },
  {
   "cell_type": "code",
   "execution_count": 27,
   "metadata": {},
   "outputs": [],
   "source": [
    "X_all = []\n",
    "Y_all = []\n",
    "\n",
    "image_folder_path = 'cremad/SpectogramInitial'\n",
    "file_paths = [f for f in os.listdir(image_folder_path)]\n",
    "\n",
    "for file_name in file_paths:\n",
    "    split_file_name = file_name.split('_')\n",
    "    if split_file_name[0] == 'M' and (split_file_name[3] in ['FEA','NEU']):\n",
    "        spectrogram = Image.open(image_folder_path + '/' + file_name)\n",
    "        spectrogram = spectrogram.convert('L')\n",
    "        spectrogram = spectrogram.resize((167, 109))\n",
    "        spectrogram = np.array(spectrogram)\n",
    "        spectrogram = np.expand_dims(spectrogram, axis=2)\n",
    "        X_all.append(spectrogram)\n",
    "        Y_all.append(getEmotionCode(file_name))\n",
    "    \n",
    "#print(X_all)\n",
    "#print(Y_all)\n"
   ]
  },
  {
   "cell_type": "code",
   "execution_count": 28,
   "metadata": {},
   "outputs": [
    {
     "name": "stdout",
     "output_type": "stream",
     "text": [
      "(1246, 109, 167, 1)\n",
      "(1246,)\n"
     ]
    }
   ],
   "source": [
    "X_all = np.array(X_all)\n",
    "Y_all = np.array(Y_all)\n",
    "\n",
    "print(X_all.shape)\n",
    "print(Y_all.shape)\n",
    "\n",
    "X_all = X_all.astype('float32')\n",
    "X_all /= 255\n",
    "\n",
    "Y_all = np_utils.to_categorical(Y_all, num_classes=2)\n",
    "\n",
    "#print(X_all)\n",
    "#print(Y_all)"
   ]
  },
  {
   "cell_type": "code",
   "execution_count": 29,
   "metadata": {},
   "outputs": [],
   "source": [
    "# train /test= 80/20% split\n",
    "# stratified\n",
    "X_train, X_test, Y_train, Y_test = train_test_split(X_all, Y_all, test_size=0.2, random_state = 123, stratify=Y_all)\n",
    "\n"
   ]
  },
  {
   "cell_type": "markdown",
   "metadata": {},
   "source": [
    "<h2>Model Building</h2>"
   ]
  },
  {
   "cell_type": "code",
   "execution_count": 30,
   "metadata": {},
   "outputs": [],
   "source": [
    "def build_current_model():\n",
    "    inp = Input(shape=(109, 167,1))\n",
    "    \n",
    "    c1 = Convolution2D(filters=128,kernel_size=(5,5),strides=(2,2),padding='same')(inp)\n",
    "    bt = BatchNormalization()(c1)\n",
    "    bt = Activation('relu')(bt)\n",
    "    mpool = SpatialDropout2D(0.2)(bt)\n",
    "    mpool = MaxPooling2D(pool_size=(2,2),strides=2,padding='same')(mpool)\n",
    "   \n",
    "\n",
    "    \n",
    "    c2 = Convolution2D(filters=256,kernel_size=(4,4),strides=(2,2),padding='same')(mpool)\n",
    "    bt = BatchNormalization()(c2)\n",
    "    bt = Activation('relu')(bt)\n",
    "    #bt = LeakyReLU(alpha=0.01)(bt)\n",
    "    mpool = SpatialDropout2D(0.3)(bt)\n",
    "    mpool = AveragePooling2D(pool_size=(2,2),strides=2,padding='same')(mpool)\n",
    "    \n",
    "    \n",
    "    c2 = Convolution2D(filters=512,kernel_size=(3,3),strides=(1,1),padding='same')(mpool)\n",
    "    bt = BatchNormalization()(c2)\n",
    "    bt = Activation('relu')(bt)\n",
    "    #bt = LeakyReLU(alpha=0.01)(bt)\n",
    "    mpool = SpatialDropout2D(0.3)(bt)\n",
    "    mpool = AveragePooling2D(pool_size=(2,2),strides=2,padding='same')(mpool)\n",
    "    \n",
    "    \n",
    "    c3 = Convolution2D(filters=512,kernel_size=(3,3),strides=(1,1),padding='same')(mpool)\n",
    "    bt = BatchNormalization()(c3)\n",
    "    bt = Activation('relu')(bt)\n",
    "    #bt = LeakyReLU(alpha=0.01)(bt)\n",
    "    mpool = AveragePooling2D(pool_size=(2,2),strides=2,padding='same')(bt)\n",
    "    mpool = SpatialDropout2D(0.4)(mpool)\n",
    "    \n",
    "    f = Flatten()(mpool)\n",
    "    \n",
    "    x_dense = Dense(2048)(f)\n",
    "    bt = BatchNormalization()(x_dense)\n",
    "    bt = Activation('relu')(bt)\n",
    "    bt = Dropout(0.4)(bt)\n",
    "\n",
    "    \n",
    "    x_dense = Dense(2048)(bt)\n",
    "    bt = BatchNormalization()(x_dense)\n",
    "    bt = Activation('relu')(bt)\n",
    "    bt = Dropout(0.3)(bt)\n",
    "    \n",
    "    x_dense = Dense(512)(bt)\n",
    "    bt = BatchNormalization()(x_dense)\n",
    "    bt = Activation('relu')(bt)\n",
    "    bt = Dropout(0.2)(bt)\n",
    "\n",
    "    x_out = Dense(2, name='output', activation='softmax')(bt)\n",
    "    \n",
    "    model = Model(inputs=inp, outputs=x_out)\n",
    "    model.compile(optimizer=Adam(lr=0.0005), \n",
    "                  loss='categorical_crossentropy', \n",
    "                  metrics = ['accuracy'])\n",
    "    return model\n"
   ]
  },
  {
   "cell_type": "code",
   "execution_count": 31,
   "metadata": {},
   "outputs": [
    {
     "name": "stdout",
     "output_type": "stream",
     "text": [
      "Model: \"model_1\"\n",
      "_________________________________________________________________\n",
      "Layer (type)                 Output Shape              Param #   \n",
      "=================================================================\n",
      "input_3 (InputLayer)         [(None, 109, 167, 1)]     0         \n",
      "_________________________________________________________________\n",
      "conv2d_5 (Conv2D)            (None, 55, 84, 128)       3328      \n",
      "_________________________________________________________________\n",
      "batch_normalization_8 (Batch (None, 55, 84, 128)       512       \n",
      "_________________________________________________________________\n",
      "activation_8 (Activation)    (None, 55, 84, 128)       0         \n",
      "_________________________________________________________________\n",
      "spatial_dropout2d_4 (Spatial (None, 55, 84, 128)       0         \n",
      "_________________________________________________________________\n",
      "max_pooling2d_1 (MaxPooling2 (None, 28, 42, 128)       0         \n",
      "_________________________________________________________________\n",
      "conv2d_6 (Conv2D)            (None, 14, 21, 256)       524544    \n",
      "_________________________________________________________________\n",
      "batch_normalization_9 (Batch (None, 14, 21, 256)       1024      \n",
      "_________________________________________________________________\n",
      "activation_9 (Activation)    (None, 14, 21, 256)       0         \n",
      "_________________________________________________________________\n",
      "spatial_dropout2d_5 (Spatial (None, 14, 21, 256)       0         \n",
      "_________________________________________________________________\n",
      "average_pooling2d_3 (Average (None, 7, 11, 256)        0         \n",
      "_________________________________________________________________\n",
      "conv2d_7 (Conv2D)            (None, 7, 11, 512)        1180160   \n",
      "_________________________________________________________________\n",
      "batch_normalization_10 (Batc (None, 7, 11, 512)        2048      \n",
      "_________________________________________________________________\n",
      "activation_10 (Activation)   (None, 7, 11, 512)        0         \n",
      "_________________________________________________________________\n",
      "spatial_dropout2d_6 (Spatial (None, 7, 11, 512)        0         \n",
      "_________________________________________________________________\n",
      "average_pooling2d_4 (Average (None, 4, 6, 512)         0         \n",
      "_________________________________________________________________\n",
      "conv2d_8 (Conv2D)            (None, 4, 6, 512)         2359808   \n",
      "_________________________________________________________________\n",
      "batch_normalization_11 (Batc (None, 4, 6, 512)         2048      \n",
      "_________________________________________________________________\n",
      "activation_11 (Activation)   (None, 4, 6, 512)         0         \n",
      "_________________________________________________________________\n",
      "average_pooling2d_5 (Average (None, 2, 3, 512)         0         \n",
      "_________________________________________________________________\n",
      "spatial_dropout2d_7 (Spatial (None, 2, 3, 512)         0         \n",
      "_________________________________________________________________\n",
      "flatten_1 (Flatten)          (None, 3072)              0         \n",
      "_________________________________________________________________\n",
      "dense_3 (Dense)              (None, 2048)              6293504   \n",
      "_________________________________________________________________\n",
      "batch_normalization_12 (Batc (None, 2048)              8192      \n",
      "_________________________________________________________________\n",
      "activation_12 (Activation)   (None, 2048)              0         \n",
      "_________________________________________________________________\n",
      "dropout_3 (Dropout)          (None, 2048)              0         \n",
      "_________________________________________________________________\n",
      "dense_4 (Dense)              (None, 2048)              4196352   \n",
      "_________________________________________________________________\n",
      "batch_normalization_13 (Batc (None, 2048)              8192      \n",
      "_________________________________________________________________\n",
      "activation_13 (Activation)   (None, 2048)              0         \n",
      "_________________________________________________________________\n",
      "dropout_4 (Dropout)          (None, 2048)              0         \n",
      "_________________________________________________________________\n",
      "dense_5 (Dense)              (None, 512)               1049088   \n",
      "_________________________________________________________________\n",
      "batch_normalization_14 (Batc (None, 512)               2048      \n",
      "_________________________________________________________________\n",
      "activation_14 (Activation)   (None, 512)               0         \n",
      "_________________________________________________________________\n",
      "dropout_5 (Dropout)          (None, 512)               0         \n",
      "_________________________________________________________________\n",
      "output (Dense)               (None, 2)                 1026      \n",
      "=================================================================\n",
      "Total params: 15,631,874\n",
      "Trainable params: 15,619,842\n",
      "Non-trainable params: 12,032\n",
      "_________________________________________________________________\n"
     ]
    }
   ],
   "source": [
    "model = build_current_model()\n",
    "model.summary()"
   ]
  },
  {
   "cell_type": "code",
   "execution_count": 32,
   "metadata": {},
   "outputs": [],
   "source": [
    "#tf.keras.utils.plot_model(model, \"Model-Ref7Var.png\", show_shapes=True)"
   ]
  },
  {
   "cell_type": "code",
   "execution_count": 33,
   "metadata": {},
   "outputs": [
    {
     "name": "stdout",
     "output_type": "stream",
     "text": [
      "MaleFeaNeu-1591036656\n",
      "Train on 896 samples, validate on 100 samples\n",
      "Epoch 1/500\n",
      "896/896 [==============================] - 2s 3ms/sample - loss: 1.1157 - acc: 0.5725 - val_loss: 1.6856 - val_acc: 0.3800\n",
      "Epoch 2/500\n",
      "896/896 [==============================] - 2s 2ms/sample - loss: 0.8336 - acc: 0.6105 - val_loss: 0.8054 - val_acc: 0.6200\n",
      "Epoch 3/500\n",
      "896/896 [==============================] - 2s 2ms/sample - loss: 0.7529 - acc: 0.6283 - val_loss: 0.7135 - val_acc: 0.5000\n",
      "Epoch 4/500\n",
      "896/896 [==============================] - 2s 2ms/sample - loss: 0.6944 - acc: 0.6016 - val_loss: 0.6263 - val_acc: 0.5800\n",
      "Epoch 5/500\n",
      "896/896 [==============================] - 2s 2ms/sample - loss: 0.6944 - acc: 0.6283 - val_loss: 0.6940 - val_acc: 0.6200\n",
      "Epoch 6/500\n",
      "896/896 [==============================] - 2s 2ms/sample - loss: 0.6750 - acc: 0.6462 - val_loss: 0.9830 - val_acc: 0.4600\n",
      "Epoch 7/500\n",
      "896/896 [==============================] - 2s 2ms/sample - loss: 0.6536 - acc: 0.6562 - val_loss: 0.7198 - val_acc: 0.6300\n",
      "Epoch 8/500\n",
      "896/896 [==============================] - 2s 2ms/sample - loss: 0.6654 - acc: 0.6239 - val_loss: 1.4819 - val_acc: 0.5000\n",
      "Epoch 9/500\n",
      "896/896 [==============================] - 2s 2ms/sample - loss: 0.6229 - acc: 0.6696 - val_loss: 0.5966 - val_acc: 0.6800\n",
      "Epoch 10/500\n",
      "896/896 [==============================] - 2s 2ms/sample - loss: 0.6284 - acc: 0.6786 - val_loss: 0.6377 - val_acc: 0.6400\n",
      "Epoch 11/500\n",
      "896/896 [==============================] - 2s 2ms/sample - loss: 0.6129 - acc: 0.6853 - val_loss: 0.6472 - val_acc: 0.6500\n",
      "Epoch 12/500\n",
      "896/896 [==============================] - 2s 2ms/sample - loss: 0.5897 - acc: 0.6953 - val_loss: 1.2886 - val_acc: 0.6500\n",
      "Epoch 13/500\n",
      "896/896 [==============================] - 2s 2ms/sample - loss: 0.6039 - acc: 0.6674 - val_loss: 0.6969 - val_acc: 0.6200\n",
      "Epoch 14/500\n",
      "896/896 [==============================] - 2s 2ms/sample - loss: 0.5869 - acc: 0.6908 - val_loss: 0.8908 - val_acc: 0.6100\n",
      "Epoch 15/500\n",
      "896/896 [==============================] - 2s 2ms/sample - loss: 0.5930 - acc: 0.6853 - val_loss: 0.6318 - val_acc: 0.5900\n",
      "Epoch 16/500\n",
      "896/896 [==============================] - 2s 2ms/sample - loss: 0.5747 - acc: 0.7020 - val_loss: 1.1045 - val_acc: 0.6200\n",
      "Epoch 17/500\n",
      "896/896 [==============================] - 2s 2ms/sample - loss: 0.5516 - acc: 0.7076 - val_loss: 1.5161 - val_acc: 0.6200\n",
      "Epoch 18/500\n",
      "896/896 [==============================] - 2s 2ms/sample - loss: 0.5943 - acc: 0.6864 - val_loss: 0.7552 - val_acc: 0.5200\n",
      "Epoch 19/500\n",
      "896/896 [==============================] - 2s 2ms/sample - loss: 0.5576 - acc: 0.7221 - val_loss: 0.5163 - val_acc: 0.7400\n",
      "Epoch 20/500\n",
      "896/896 [==============================] - 2s 2ms/sample - loss: 0.5553 - acc: 0.7132 - val_loss: 0.5278 - val_acc: 0.6800\n",
      "Epoch 21/500\n",
      "896/896 [==============================] - 2s 2ms/sample - loss: 0.5213 - acc: 0.7355 - val_loss: 0.6783 - val_acc: 0.5800\n",
      "Epoch 22/500\n",
      "896/896 [==============================] - 2s 2ms/sample - loss: 0.5317 - acc: 0.7455 - val_loss: 0.7236 - val_acc: 0.6400\n",
      "Epoch 23/500\n",
      "896/896 [==============================] - 2s 2ms/sample - loss: 0.5196 - acc: 0.7567 - val_loss: 0.6243 - val_acc: 0.6900\n",
      "Epoch 24/500\n",
      "896/896 [==============================] - 2s 2ms/sample - loss: 0.5051 - acc: 0.7545 - val_loss: 0.4629 - val_acc: 0.7400\n",
      "Epoch 25/500\n",
      "896/896 [==============================] - 2s 2ms/sample - loss: 0.5106 - acc: 0.7478 - val_loss: 0.4800 - val_acc: 0.7600\n",
      "Epoch 26/500\n",
      "896/896 [==============================] - 2s 2ms/sample - loss: 0.5352 - acc: 0.7377 - val_loss: 0.6592 - val_acc: 0.7200\n",
      "Epoch 27/500\n",
      "896/896 [==============================] - 2s 2ms/sample - loss: 0.4770 - acc: 0.7545 - val_loss: 0.4228 - val_acc: 0.8400\n",
      "Epoch 28/500\n",
      "896/896 [==============================] - 2s 2ms/sample - loss: 0.4933 - acc: 0.7701 - val_loss: 0.4231 - val_acc: 0.8300\n",
      "Epoch 29/500\n",
      "896/896 [==============================] - 2s 2ms/sample - loss: 0.4985 - acc: 0.7589 - val_loss: 0.4699 - val_acc: 0.7700\n",
      "Epoch 30/500\n",
      "896/896 [==============================] - 2s 2ms/sample - loss: 0.4799 - acc: 0.7924 - val_loss: 0.7777 - val_acc: 0.6300\n",
      "Epoch 31/500\n",
      "896/896 [==============================] - 2s 2ms/sample - loss: 0.4677 - acc: 0.7801 - val_loss: 0.5565 - val_acc: 0.7700\n",
      "Epoch 32/500\n",
      "896/896 [==============================] - 2s 2ms/sample - loss: 0.5096 - acc: 0.7567 - val_loss: 0.4208 - val_acc: 0.8100\n",
      "Epoch 33/500\n",
      "896/896 [==============================] - 2s 2ms/sample - loss: 0.4997 - acc: 0.7634 - val_loss: 0.5940 - val_acc: 0.6400\n",
      "Epoch 34/500\n",
      "896/896 [==============================] - 2s 2ms/sample - loss: 0.4755 - acc: 0.7690 - val_loss: 0.5659 - val_acc: 0.6900\n",
      "Epoch 35/500\n",
      "896/896 [==============================] - 2s 2ms/sample - loss: 0.4562 - acc: 0.7812 - val_loss: 0.4234 - val_acc: 0.8100\n",
      "Epoch 36/500\n",
      "896/896 [==============================] - 2s 2ms/sample - loss: 0.4448 - acc: 0.7924 - val_loss: 0.4222 - val_acc: 0.8200\n",
      "Epoch 37/500\n",
      "896/896 [==============================] - 2s 2ms/sample - loss: 0.4748 - acc: 0.7946 - val_loss: 0.4796 - val_acc: 0.8200\n",
      "Epoch 38/500\n",
      "896/896 [==============================] - 2s 2ms/sample - loss: 0.4637 - acc: 0.7757 - val_loss: 0.4609 - val_acc: 0.7600\n",
      "Epoch 39/500\n",
      "896/896 [==============================] - 2s 2ms/sample - loss: 0.4513 - acc: 0.7868 - val_loss: 0.5692 - val_acc: 0.6900\n",
      "Epoch 40/500\n",
      "896/896 [==============================] - 2s 2ms/sample - loss: 0.4712 - acc: 0.7812 - val_loss: 0.4586 - val_acc: 0.8300\n",
      "Epoch 41/500\n",
      "896/896 [==============================] - 2s 2ms/sample - loss: 0.4440 - acc: 0.8114 - val_loss: 0.3896 - val_acc: 0.7800\n",
      "Epoch 42/500\n",
      "896/896 [==============================] - 2s 2ms/sample - loss: 0.4594 - acc: 0.7991 - val_loss: 0.5341 - val_acc: 0.7200\n",
      "Epoch 43/500\n",
      "896/896 [==============================] - 2s 2ms/sample - loss: 0.4342 - acc: 0.7969 - val_loss: 0.4603 - val_acc: 0.7600\n",
      "Epoch 44/500\n",
      "896/896 [==============================] - 2s 2ms/sample - loss: 0.4262 - acc: 0.8069 - val_loss: 0.4482 - val_acc: 0.8000\n",
      "Epoch 45/500\n",
      "896/896 [==============================] - 2s 2ms/sample - loss: 0.4670 - acc: 0.7946 - val_loss: 0.5304 - val_acc: 0.7000\n",
      "Epoch 46/500\n",
      "896/896 [==============================] - 2s 2ms/sample - loss: 0.4134 - acc: 0.8248 - val_loss: 0.4607 - val_acc: 0.7800\n",
      "Epoch 47/500\n",
      "896/896 [==============================] - 2s 2ms/sample - loss: 0.4158 - acc: 0.8292 - val_loss: 0.4195 - val_acc: 0.8300\n",
      "Epoch 48/500\n",
      "896/896 [==============================] - 2s 2ms/sample - loss: 0.4252 - acc: 0.8025 - val_loss: 0.4168 - val_acc: 0.8500\n",
      "Epoch 49/500\n",
      "896/896 [==============================] - 2s 2ms/sample - loss: 0.4322 - acc: 0.8136 - val_loss: 0.3955 - val_acc: 0.8100\n",
      "Epoch 50/500\n",
      "896/896 [==============================] - 2s 2ms/sample - loss: 0.4328 - acc: 0.8036 - val_loss: 0.4563 - val_acc: 0.8000\n",
      "Epoch 51/500\n",
      "896/896 [==============================] - 2s 2ms/sample - loss: 0.4192 - acc: 0.8114 - val_loss: 0.4043 - val_acc: 0.7900\n",
      "Epoch 52/500\n",
      "896/896 [==============================] - 2s 2ms/sample - loss: 0.4336 - acc: 0.8237 - val_loss: 0.7109 - val_acc: 0.6400\n",
      "Epoch 53/500\n",
      "896/896 [==============================] - 2s 2ms/sample - loss: 0.4215 - acc: 0.8125 - val_loss: 0.5585 - val_acc: 0.6700\n",
      "Epoch 54/500\n",
      "896/896 [==============================] - 2s 2ms/sample - loss: 0.4158 - acc: 0.8192 - val_loss: 0.4652 - val_acc: 0.7600\n",
      "Epoch 55/500\n",
      "896/896 [==============================] - 2s 2ms/sample - loss: 0.4374 - acc: 0.8047 - val_loss: 0.4319 - val_acc: 0.8000\n",
      "Epoch 56/500\n",
      "896/896 [==============================] - 2s 2ms/sample - loss: 0.3965 - acc: 0.8181 - val_loss: 0.4832 - val_acc: 0.7700\n",
      "Epoch 57/500\n",
      "896/896 [==============================] - 2s 2ms/sample - loss: 0.4369 - acc: 0.8080 - val_loss: 0.3851 - val_acc: 0.8200\n",
      "Epoch 58/500\n",
      "896/896 [==============================] - 2s 2ms/sample - loss: 0.4346 - acc: 0.7924 - val_loss: 0.5502 - val_acc: 0.7100\n",
      "Epoch 59/500\n",
      "896/896 [==============================] - 2s 2ms/sample - loss: 0.4520 - acc: 0.7902 - val_loss: 0.7953 - val_acc: 0.6300\n",
      "Epoch 60/500\n",
      "896/896 [==============================] - 2s 2ms/sample - loss: 0.3903 - acc: 0.8270 - val_loss: 0.4186 - val_acc: 0.8000\n"
     ]
    },
    {
     "name": "stdout",
     "output_type": "stream",
     "text": [
      "Epoch 61/500\n",
      "896/896 [==============================] - 2s 2ms/sample - loss: 0.4134 - acc: 0.8158 - val_loss: 0.4860 - val_acc: 0.7800\n",
      "Epoch 62/500\n",
      "896/896 [==============================] - 2s 2ms/sample - loss: 0.4444 - acc: 0.8069 - val_loss: 0.4225 - val_acc: 0.7500\n",
      "Epoch 63/500\n",
      "896/896 [==============================] - 2s 2ms/sample - loss: 0.4234 - acc: 0.8058 - val_loss: 0.3907 - val_acc: 0.8100\n",
      "Epoch 64/500\n",
      "896/896 [==============================] - 2s 2ms/sample - loss: 0.4121 - acc: 0.8237 - val_loss: 0.4021 - val_acc: 0.8400\n",
      "Epoch 65/500\n",
      "896/896 [==============================] - 2s 2ms/sample - loss: 0.3907 - acc: 0.8326 - val_loss: 0.5335 - val_acc: 0.7300\n",
      "Epoch 66/500\n",
      "896/896 [==============================] - 2s 2ms/sample - loss: 0.3864 - acc: 0.8326 - val_loss: 0.4893 - val_acc: 0.8000\n",
      "Epoch 67/500\n",
      "896/896 [==============================] - 2s 2ms/sample - loss: 0.4004 - acc: 0.8270 - val_loss: 0.4132 - val_acc: 0.8100\n",
      "Epoch 68/500\n",
      "896/896 [==============================] - 2s 2ms/sample - loss: 0.3932 - acc: 0.8393 - val_loss: 0.3598 - val_acc: 0.8600\n",
      "Epoch 69/500\n",
      "896/896 [==============================] - 2s 2ms/sample - loss: 0.4055 - acc: 0.8315 - val_loss: 0.4179 - val_acc: 0.8100\n",
      "Epoch 70/500\n",
      "896/896 [==============================] - 2s 2ms/sample - loss: 0.3527 - acc: 0.8482 - val_loss: 0.3862 - val_acc: 0.8000\n",
      "Epoch 71/500\n",
      "896/896 [==============================] - 2s 2ms/sample - loss: 0.3699 - acc: 0.8415 - val_loss: 0.4083 - val_acc: 0.8200\n",
      "Epoch 72/500\n",
      "896/896 [==============================] - 2s 2ms/sample - loss: 0.3537 - acc: 0.8583 - val_loss: 0.3804 - val_acc: 0.8300\n",
      "Epoch 73/500\n",
      "896/896 [==============================] - 2s 2ms/sample - loss: 0.3670 - acc: 0.8426 - val_loss: 0.3993 - val_acc: 0.8300\n",
      "Epoch 74/500\n",
      "896/896 [==============================] - 2s 2ms/sample - loss: 0.3683 - acc: 0.8504 - val_loss: 0.3941 - val_acc: 0.8400\n",
      "Epoch 75/500\n",
      "896/896 [==============================] - 2s 2ms/sample - loss: 0.3678 - acc: 0.8516 - val_loss: 0.4111 - val_acc: 0.7700\n",
      "Epoch 76/500\n",
      "896/896 [==============================] - 2s 2ms/sample - loss: 0.3646 - acc: 0.8449 - val_loss: 0.4051 - val_acc: 0.7900\n",
      "Epoch 77/500\n",
      "896/896 [==============================] - 2s 2ms/sample - loss: 0.3536 - acc: 0.8438 - val_loss: 0.4087 - val_acc: 0.8300\n",
      "Epoch 78/500\n",
      "896/896 [==============================] - 2s 2ms/sample - loss: 0.3246 - acc: 0.8549 - val_loss: 0.6015 - val_acc: 0.7300\n",
      "Epoch 79/500\n",
      "896/896 [==============================] - 2s 2ms/sample - loss: 0.3743 - acc: 0.8482 - val_loss: 0.4272 - val_acc: 0.8400\n",
      "Epoch 80/500\n",
      "896/896 [==============================] - 2s 2ms/sample - loss: 0.3608 - acc: 0.8304 - val_loss: 0.4753 - val_acc: 0.7900\n",
      "Epoch 81/500\n",
      "896/896 [==============================] - 2s 2ms/sample - loss: 0.3397 - acc: 0.8571 - val_loss: 0.3821 - val_acc: 0.8200\n",
      "Epoch 82/500\n",
      "896/896 [==============================] - 2s 2ms/sample - loss: 0.3461 - acc: 0.8426 - val_loss: 0.3724 - val_acc: 0.8500\n",
      "Epoch 83/500\n",
      "896/896 [==============================] - 2s 2ms/sample - loss: 0.3322 - acc: 0.8583 - val_loss: 0.4029 - val_acc: 0.8300\n",
      "Epoch 84/500\n",
      "896/896 [==============================] - 2s 2ms/sample - loss: 0.3399 - acc: 0.8616 - val_loss: 0.4684 - val_acc: 0.7500\n",
      "Epoch 85/500\n",
      "896/896 [==============================] - 2s 2ms/sample - loss: 0.3572 - acc: 0.8527 - val_loss: 0.4114 - val_acc: 0.8100\n",
      "Epoch 86/500\n",
      "896/896 [==============================] - 2s 2ms/sample - loss: 0.3306 - acc: 0.8672 - val_loss: 0.3902 - val_acc: 0.8000\n",
      "Epoch 87/500\n",
      "896/896 [==============================] - 2s 2ms/sample - loss: 0.3202 - acc: 0.8772 - val_loss: 0.5434 - val_acc: 0.7000\n",
      "Epoch 88/500\n",
      "896/896 [==============================] - 2s 2ms/sample - loss: 0.2876 - acc: 0.8929 - val_loss: 0.6975 - val_acc: 0.7100\n",
      "Epoch 89/500\n",
      "896/896 [==============================] - 2s 2ms/sample - loss: 0.3225 - acc: 0.8761 - val_loss: 0.4534 - val_acc: 0.8100\n",
      "Epoch 90/500\n",
      "896/896 [==============================] - 2s 2ms/sample - loss: 0.2876 - acc: 0.8783 - val_loss: 0.4093 - val_acc: 0.8200\n",
      "Epoch 91/500\n",
      "896/896 [==============================] - 2s 2ms/sample - loss: 0.2787 - acc: 0.8817 - val_loss: 0.4878 - val_acc: 0.7600\n",
      "Epoch 92/500\n",
      "896/896 [==============================] - 2s 2ms/sample - loss: 0.2756 - acc: 0.8839 - val_loss: 0.5802 - val_acc: 0.7300\n",
      "Epoch 93/500\n",
      "896/896 [==============================] - 2s 2ms/sample - loss: 0.3435 - acc: 0.8650 - val_loss: 0.4457 - val_acc: 0.8100\n",
      "Epoch 94/500\n",
      "896/896 [==============================] - 2s 2ms/sample - loss: 0.2794 - acc: 0.8884 - val_loss: 0.6887 - val_acc: 0.7000\n",
      "Epoch 95/500\n",
      "896/896 [==============================] - 2s 2ms/sample - loss: 0.2744 - acc: 0.9018 - val_loss: 0.3733 - val_acc: 0.8200\n",
      "Epoch 96/500\n",
      "896/896 [==============================] - 2s 2ms/sample - loss: 0.2283 - acc: 0.9174 - val_loss: 0.4342 - val_acc: 0.8100\n",
      "Epoch 97/500\n",
      "896/896 [==============================] - 2s 2ms/sample - loss: 0.3008 - acc: 0.8783 - val_loss: 0.4245 - val_acc: 0.8200\n",
      "Epoch 98/500\n",
      "896/896 [==============================] - 2s 2ms/sample - loss: 0.2816 - acc: 0.9040 - val_loss: 0.6194 - val_acc: 0.7500\n",
      "Epoch 99/500\n",
      "896/896 [==============================] - 2s 2ms/sample - loss: 0.2833 - acc: 0.8873 - val_loss: 0.6493 - val_acc: 0.7100\n",
      "Epoch 100/500\n",
      "896/896 [==============================] - 2s 2ms/sample - loss: 0.2484 - acc: 0.9074 - val_loss: 0.4751 - val_acc: 0.7900\n",
      "Epoch 101/500\n",
      "896/896 [==============================] - 2s 2ms/sample - loss: 0.2430 - acc: 0.9040 - val_loss: 0.8178 - val_acc: 0.7000\n",
      "Epoch 102/500\n",
      "896/896 [==============================] - 2s 2ms/sample - loss: 0.2631 - acc: 0.8996 - val_loss: 0.4903 - val_acc: 0.8300\n",
      "Epoch 103/500\n",
      "896/896 [==============================] - 2s 2ms/sample - loss: 0.2582 - acc: 0.8906 - val_loss: 0.4819 - val_acc: 0.7600\n",
      "Epoch 104/500\n",
      "896/896 [==============================] - 2s 2ms/sample - loss: 0.2958 - acc: 0.9018 - val_loss: 0.4199 - val_acc: 0.8000\n",
      "Epoch 105/500\n",
      "896/896 [==============================] - 2s 2ms/sample - loss: 0.2578 - acc: 0.9018 - val_loss: 0.4791 - val_acc: 0.7900\n",
      "Epoch 106/500\n",
      "896/896 [==============================] - 2s 2ms/sample - loss: 0.2352 - acc: 0.9074 - val_loss: 0.6576 - val_acc: 0.7500\n",
      "Epoch 107/500\n",
      "896/896 [==============================] - 2s 2ms/sample - loss: 0.2573 - acc: 0.9085 - val_loss: 0.6219 - val_acc: 0.7000\n",
      "Epoch 108/500\n",
      "896/896 [==============================] - 2s 2ms/sample - loss: 0.1897 - acc: 0.9263 - val_loss: 0.5400 - val_acc: 0.7800\n",
      "Epoch 109/500\n",
      "896/896 [==============================] - 2s 2ms/sample - loss: 0.1987 - acc: 0.9286 - val_loss: 0.5369 - val_acc: 0.7700\n",
      "Epoch 110/500\n",
      "896/896 [==============================] - 2s 2ms/sample - loss: 0.2255 - acc: 0.9118 - val_loss: 0.5833 - val_acc: 0.8200\n",
      "Epoch 111/500\n",
      "896/896 [==============================] - 2s 2ms/sample - loss: 0.2082 - acc: 0.9308 - val_loss: 0.4745 - val_acc: 0.7800\n",
      "Epoch 112/500\n",
      "896/896 [==============================] - 2s 2ms/sample - loss: 0.2113 - acc: 0.9107 - val_loss: 0.5291 - val_acc: 0.7700\n",
      "Epoch 113/500\n",
      "896/896 [==============================] - 2s 2ms/sample - loss: 0.1810 - acc: 0.9408 - val_loss: 0.4763 - val_acc: 0.8100\n",
      "Epoch 114/500\n",
      "896/896 [==============================] - 2s 2ms/sample - loss: 0.2022 - acc: 0.9196 - val_loss: 0.5059 - val_acc: 0.8100\n",
      "Epoch 115/500\n",
      "896/896 [==============================] - 2s 2ms/sample - loss: 0.2291 - acc: 0.9107 - val_loss: 0.3641 - val_acc: 0.8200\n",
      "Epoch 116/500\n",
      "896/896 [==============================] - 2s 2ms/sample - loss: 0.1642 - acc: 0.9408 - val_loss: 0.7197 - val_acc: 0.7400\n",
      "Epoch 117/500\n",
      "896/896 [==============================] - 2s 2ms/sample - loss: 0.2326 - acc: 0.9141 - val_loss: 0.5905 - val_acc: 0.7500\n",
      "Epoch 118/500\n",
      "896/896 [==============================] - 2s 2ms/sample - loss: 0.1810 - acc: 0.9342 - val_loss: 0.4653 - val_acc: 0.7900\n",
      "Epoch 119/500\n",
      "896/896 [==============================] - 2s 2ms/sample - loss: 0.1148 - acc: 0.9676 - val_loss: 0.6094 - val_acc: 0.7800\n",
      "Epoch 120/500\n",
      "896/896 [==============================] - 2s 2ms/sample - loss: 0.2011 - acc: 0.9364 - val_loss: 0.6157 - val_acc: 0.7900\n",
      "Epoch 121/500\n"
     ]
    },
    {
     "name": "stdout",
     "output_type": "stream",
     "text": [
      "896/896 [==============================] - 2s 2ms/sample - loss: 0.1957 - acc: 0.9275 - val_loss: 0.8389 - val_acc: 0.7400\n",
      "Epoch 122/500\n",
      "896/896 [==============================] - 2s 2ms/sample - loss: 0.1789 - acc: 0.9286 - val_loss: 0.4852 - val_acc: 0.8000\n",
      "Epoch 123/500\n",
      "896/896 [==============================] - 2s 2ms/sample - loss: 0.1812 - acc: 0.9308 - val_loss: 0.4458 - val_acc: 0.7900\n",
      "Epoch 124/500\n",
      "896/896 [==============================] - 2s 2ms/sample - loss: 0.1702 - acc: 0.9375 - val_loss: 0.4612 - val_acc: 0.8300\n",
      "Epoch 125/500\n",
      "896/896 [==============================] - 2s 2ms/sample - loss: 0.1326 - acc: 0.9542 - val_loss: 0.5003 - val_acc: 0.7900\n",
      "Epoch 126/500\n",
      "896/896 [==============================] - 2s 2ms/sample - loss: 0.1596 - acc: 0.9475 - val_loss: 0.5325 - val_acc: 0.7900\n",
      "Epoch 127/500\n",
      "896/896 [==============================] - 2s 2ms/sample - loss: 0.1354 - acc: 0.9542 - val_loss: 0.4219 - val_acc: 0.8200\n",
      "Epoch 128/500\n",
      "896/896 [==============================] - 2s 2ms/sample - loss: 0.1549 - acc: 0.9509 - val_loss: 0.6052 - val_acc: 0.8000\n",
      "Epoch 129/500\n",
      "896/896 [==============================] - 2s 2ms/sample - loss: 0.2269 - acc: 0.9297 - val_loss: 0.8342 - val_acc: 0.7200\n",
      "Epoch 130/500\n",
      "896/896 [==============================] - 2s 2ms/sample - loss: 0.1455 - acc: 0.9453 - val_loss: 0.6724 - val_acc: 0.7700\n",
      "Epoch 131/500\n",
      "896/896 [==============================] - 2s 2ms/sample - loss: 0.1655 - acc: 0.9520 - val_loss: 0.5889 - val_acc: 0.8000\n",
      "Epoch 132/500\n",
      "896/896 [==============================] - 2s 2ms/sample - loss: 0.1163 - acc: 0.9632 - val_loss: 0.5855 - val_acc: 0.7900\n",
      "Epoch 133/500\n",
      "896/896 [==============================] - 2s 2ms/sample - loss: 0.0731 - acc: 0.9732 - val_loss: 0.6141 - val_acc: 0.8000\n",
      "Epoch 134/500\n",
      "896/896 [==============================] - 2s 2ms/sample - loss: 0.1053 - acc: 0.9654 - val_loss: 0.9244 - val_acc: 0.7300\n",
      "Epoch 135/500\n",
      "896/896 [==============================] - 2s 2ms/sample - loss: 0.1158 - acc: 0.9688 - val_loss: 0.9595 - val_acc: 0.7500\n",
      "Epoch 136/500\n",
      "896/896 [==============================] - 2s 2ms/sample - loss: 0.1394 - acc: 0.9509 - val_loss: 0.6447 - val_acc: 0.7800\n",
      "Epoch 137/500\n",
      "896/896 [==============================] - 2s 2ms/sample - loss: 0.1160 - acc: 0.9576 - val_loss: 0.6108 - val_acc: 0.8200\n",
      "Epoch 138/500\n",
      "896/896 [==============================] - 2s 2ms/sample - loss: 0.1276 - acc: 0.9554 - val_loss: 0.5462 - val_acc: 0.8400\n",
      "Epoch 139/500\n",
      "896/896 [==============================] - 2s 2ms/sample - loss: 0.1579 - acc: 0.9487 - val_loss: 0.4583 - val_acc: 0.8300\n",
      "Epoch 140/500\n",
      "896/896 [==============================] - 2s 2ms/sample - loss: 0.0935 - acc: 0.9676 - val_loss: 0.4406 - val_acc: 0.8400\n",
      "Epoch 141/500\n",
      "896/896 [==============================] - 2s 2ms/sample - loss: 0.1089 - acc: 0.9621 - val_loss: 0.6245 - val_acc: 0.8100\n",
      "Epoch 142/500\n",
      "896/896 [==============================] - 2s 2ms/sample - loss: 0.1219 - acc: 0.9587 - val_loss: 0.7150 - val_acc: 0.7900\n",
      "Epoch 143/500\n",
      "896/896 [==============================] - 2s 2ms/sample - loss: 0.0967 - acc: 0.9710 - val_loss: 0.5102 - val_acc: 0.8000\n",
      "Epoch 144/500\n",
      "896/896 [==============================] - 2s 2ms/sample - loss: 0.1396 - acc: 0.9632 - val_loss: 0.5932 - val_acc: 0.7900\n",
      "Epoch 145/500\n",
      "896/896 [==============================] - 2s 2ms/sample - loss: 0.0658 - acc: 0.9821 - val_loss: 0.7300 - val_acc: 0.7600\n",
      "Epoch 146/500\n",
      "896/896 [==============================] - 2s 2ms/sample - loss: 0.1024 - acc: 0.9643 - val_loss: 0.7087 - val_acc: 0.7000\n",
      "Epoch 147/500\n",
      "896/896 [==============================] - 2s 2ms/sample - loss: 0.0807 - acc: 0.9743 - val_loss: 0.8117 - val_acc: 0.7500\n",
      "Epoch 148/500\n",
      "896/896 [==============================] - 2s 2ms/sample - loss: 0.1101 - acc: 0.9665 - val_loss: 0.7658 - val_acc: 0.7500\n",
      "Epoch 149/500\n",
      "896/896 [==============================] - 2s 2ms/sample - loss: 0.0942 - acc: 0.9699 - val_loss: 0.7872 - val_acc: 0.7800\n",
      "Epoch 150/500\n",
      "896/896 [==============================] - 2s 2ms/sample - loss: 0.0835 - acc: 0.9699 - val_loss: 0.5384 - val_acc: 0.7800\n",
      "Epoch 151/500\n",
      "896/896 [==============================] - 2s 2ms/sample - loss: 0.1386 - acc: 0.9554 - val_loss: 0.7441 - val_acc: 0.7800\n",
      "Epoch 152/500\n",
      "896/896 [==============================] - 2s 2ms/sample - loss: 0.1359 - acc: 0.9643 - val_loss: 0.6962 - val_acc: 0.7800\n",
      "Epoch 153/500\n",
      "896/896 [==============================] - 2s 2ms/sample - loss: 0.0907 - acc: 0.9732 - val_loss: 0.4822 - val_acc: 0.8100\n",
      "Epoch 154/500\n",
      "896/896 [==============================] - 2s 2ms/sample - loss: 0.1190 - acc: 0.9665 - val_loss: 0.6203 - val_acc: 0.8000\n",
      "Epoch 155/500\n",
      "896/896 [==============================] - 2s 2ms/sample - loss: 0.0788 - acc: 0.9732 - val_loss: 0.6802 - val_acc: 0.8100\n",
      "Epoch 156/500\n",
      "896/896 [==============================] - 2s 2ms/sample - loss: 0.1060 - acc: 0.9699 - val_loss: 0.7095 - val_acc: 0.8000\n",
      "Epoch 157/500\n",
      "896/896 [==============================] - 2s 2ms/sample - loss: 0.1353 - acc: 0.9665 - val_loss: 0.7240 - val_acc: 0.7800\n",
      "Epoch 158/500\n",
      "896/896 [==============================] - 2s 2ms/sample - loss: 0.1229 - acc: 0.9688 - val_loss: 0.6327 - val_acc: 0.7600\n",
      "Epoch 159/500\n",
      "896/896 [==============================] - 2s 2ms/sample - loss: 0.0691 - acc: 0.9743 - val_loss: 0.5986 - val_acc: 0.8300\n",
      "Epoch 160/500\n",
      "896/896 [==============================] - 2s 2ms/sample - loss: 0.0985 - acc: 0.9587 - val_loss: 0.6429 - val_acc: 0.8200\n",
      "Epoch 161/500\n",
      "896/896 [==============================] - 2s 2ms/sample - loss: 0.1040 - acc: 0.9654 - val_loss: 0.6725 - val_acc: 0.8200\n",
      "Epoch 162/500\n",
      "896/896 [==============================] - 2s 2ms/sample - loss: 0.0855 - acc: 0.9777 - val_loss: 0.6142 - val_acc: 0.8000\n",
      "Epoch 163/500\n",
      "896/896 [==============================] - 2s 2ms/sample - loss: 0.0698 - acc: 0.9743 - val_loss: 0.6558 - val_acc: 0.8300\n",
      "Epoch 164/500\n",
      "896/896 [==============================] - 2s 2ms/sample - loss: 0.1067 - acc: 0.9654 - val_loss: 0.7113 - val_acc: 0.7900\n",
      "Epoch 165/500\n",
      "896/896 [==============================] - 2s 2ms/sample - loss: 0.0648 - acc: 0.9833 - val_loss: 0.6913 - val_acc: 0.7900\n",
      "Epoch 166/500\n",
      "896/896 [==============================] - 2s 2ms/sample - loss: 0.0602 - acc: 0.9777 - val_loss: 0.7216 - val_acc: 0.8100\n",
      "Epoch 167/500\n",
      "896/896 [==============================] - 2s 2ms/sample - loss: 0.0405 - acc: 0.9900 - val_loss: 0.5632 - val_acc: 0.8000\n",
      "Epoch 168/500\n",
      "872/896 [============================>.] - ETA: 0s - loss: 0.0538 - acc: 0.9828Restoring model weights from the end of the best epoch.\n",
      "896/896 [==============================] - 2s 2ms/sample - loss: 0.0552 - acc: 0.9821 - val_loss: 0.5514 - val_acc: 0.8200\n",
      "Epoch 00168: early stopping\n"
     ]
    }
   ],
   "source": [
    "from tensorflow.keras.callbacks import TensorBoard\n",
    "import time\n",
    "\n",
    "name = \"MaleFeaNeu-{}\".format(int(time.time()))\n",
    "print(name)\n",
    "tensorboard = TensorBoard(log_dir=\"logs/{}\".format(name))\n",
    "\n",
    "early_stop = tf.keras.callbacks.EarlyStopping(monitor='val_loss',\n",
    "                                                 patience=100,\n",
    "                                                 verbose=1, \n",
    "                                                 mode='min',\n",
    "                                                 restore_best_weights=True)\n",
    "\n",
    "my_callbacks = [early_stop]\n",
    "\n",
    "history = model.fit(X_train, Y_train, \n",
    "              epochs = 500, \n",
    "              validation_split=0.1, \n",
    "              verbose=1, \n",
    "              batch_size = 8,\n",
    "              callbacks=my_callbacks)\n",
    "\n",
    "history_info = history.history"
   ]
  },
  {
   "cell_type": "markdown",
   "metadata": {},
   "source": [
    "<h2>Evaluation (Basic)</h2>"
   ]
  },
  {
   "cell_type": "code",
   "execution_count": 34,
   "metadata": {
    "scrolled": true
   },
   "outputs": [
    {
     "data": {
      "text/plain": [
       "<matplotlib.axes._subplots.AxesSubplot at 0x7f701184d310>"
      ]
     },
     "execution_count": 34,
     "metadata": {},
     "output_type": "execute_result"
    },
    {
     "data": {
      "image/png": "[encoded data removed]",
      "text/plain": [
       "<Figure size 432x288 with 2 Axes>"
      ]
     },
     "metadata": {
      "needs_background": "light"
     },
     "output_type": "display_data"
    }
   ],
   "source": [
    "## Loss and accuracy history\n",
    "_, axs = plt.subplots(ncols=2)\n",
    "df_history_info = pd.DataFrame(history_info) \n",
    "\n",
    "\n",
    "sns.lineplot(data=df_history_info['loss'],ax=axs[0], label='Training Loss', legend='brief')\n",
    "sns.lineplot(data=df_history_info['val_loss'],ax=axs[0], label='Validation Loss', legend='brief')\n",
    "\n",
    "sns.lineplot(data=df_history_info['acc'],ax=axs[1], label='Training Accuracy', legend='brief')\n",
    "sns.lineplot(data=df_history_info['val_acc'],ax=axs[1], label='Validation Accuracy', legend='brief')"
   ]
  },
  {
   "cell_type": "code",
   "execution_count": 35,
   "metadata": {},
   "outputs": [],
   "source": [
    "def generate_actual_predicted(Y_pred, X_test, Y_test): \n",
    "    predicted = list()\n",
    "    for i in range(len(Y_pred)):\n",
    "        predicted.append(np.argmax(Y_pred[i]))\n",
    "        \n",
    "    actual = list()\n",
    "    for i in range(len(Y_test)):\n",
    "        actual.append(np.argmax(Y_test[i]))\n",
    "        \n",
    "    return actual, predicted"
   ]
  },
  {
   "cell_type": "code",
   "execution_count": 36,
   "metadata": {},
   "outputs": [
    {
     "name": "stdout",
     "output_type": "stream",
     "text": [
      "[[119  16]\n",
      " [ 20  95]]\n"
     ]
    },
    {
     "data": {
      "image/png": "[encoded data removed]",
      "text/plain": [
       "<Figure size 432x288 with 2 Axes>"
      ]
     },
     "metadata": {
      "needs_background": "light"
     },
     "output_type": "display_data"
    }
   ],
   "source": [
    "Y_pred = model.predict(X_test)\n",
    "actual, predicted = generate_actual_predicted(Y_pred, X_test, Y_test)\n",
    "\n",
    "##Confusion Matrix\n",
    "from sklearn.metrics import confusion_matrix\n",
    "actual_labeled = list()\n",
    "predict_labeled = list()\n",
    "for x,y in zip(actual,predicted):\n",
    "    actual_labeled.append(getEmotion(x))\n",
    "    predict_labeled.append(getEmotion(y))\n",
    "\n",
    "labels = ['FEA','NEU']\n",
    "cm=confusion_matrix(actual_labeled,predict_labeled,labels=labels)\n",
    "print(cm)\n",
    "\n",
    "ax= plt.subplot()\n",
    "sns.heatmap(cm, annot=True, ax = ax); #annot=True to annotate cells\n",
    "\n",
    "# labels, title and ticks\n",
    "ax.set_xlabel('Predicted labels');ax.set_ylabel('True labels'); \n",
    "ax.set_title('Confusion Matrix'); \n",
    "ax.xaxis.set_ticklabels(labels); ax.yaxis.set_ticklabels(labels);"
   ]
  },
  {
   "cell_type": "code",
   "execution_count": 37,
   "metadata": {},
   "outputs": [
    {
     "name": "stdout",
     "output_type": "stream",
     "text": [
      "accuracy 0.856\n"
     ]
    }
   ],
   "source": [
    "## Test accuracy\n",
    "from sklearn.metrics import accuracy_score\n",
    "print('accuracy', accuracy_score(actual, predicted))\n"
   ]
  },
  {
   "cell_type": "code",
   "execution_count": 38,
   "metadata": {},
   "outputs": [
    {
     "name": "stdout",
     "output_type": "stream",
     "text": [
      "              precision    recall  f1-score   support\n",
      "\n",
      "         FEA       0.86      0.88      0.87       135\n",
      "         NEU       0.86      0.83      0.84       115\n",
      "\n",
      "    accuracy                           0.86       250\n",
      "   macro avg       0.86      0.85      0.85       250\n",
      "weighted avg       0.86      0.86      0.86       250\n",
      "\n"
     ]
    }
   ],
   "source": [
    "## Precision, Recall, F1, Support\n",
    "from sklearn.metrics import classification_report\n",
    "print(classification_report(actual_labeled, predict_labeled,labels=labels))"
   ]
  },
  {
   "cell_type": "code",
   "execution_count": 16,
   "metadata": {},
   "outputs": [],
   "source": [
    "##ROC AUC Scores\n",
    "#from sklearn.metrics import roc_auc_score\n",
    "#print('One-vs-One ROC AUC scores:')\n",
    "#print(roc_auc_score(actual, Y_pred, average='macro', multi_class='ovo'), '(macro)')\n",
    "#print(roc_auc_score(actual, Y_pred, average='weighted', multi_class='ovo'), '(weighted by prevalence)')\n",
    "\n",
    "\n",
    "#print()\n",
    "#print('One-vs-Rest ROC AUC scores:')\n",
    "#print(roc_auc_score(actual, Y_pred, average='macro', multi_class='ovr'), '(macro)')\n",
    "#print(roc_auc_score(actual, Y_pred, average='weighted', multi_class='ovr'), '(weighted by prevalence)')"
   ]
  },
  {
   "cell_type": "code",
   "execution_count": 17,
   "metadata": {},
   "outputs": [
    {
     "data": {
      "text/plain": [
       "[<matplotlib.lines.Line2D at 0x7faa0047dad0>]"
      ]
     },
     "execution_count": 17,
     "metadata": {},
     "output_type": "execute_result"
    },
    {
     "data": {
      "image/png": "[encoded data removed]",
      "text/plain": [
       "<Figure size 432x288 with 1 Axes>"
      ]
     },
     "metadata": {
      "needs_background": "light"
     },
     "output_type": "display_data"
    }
   ],
   "source": [
    "## ROC Curves\n",
    "from sklearn.metrics import roc_curve, auc\n",
    "import seaborn as sns\n",
    "from scipy import interp\n",
    "\n",
    "### The following curves are generated s.t each point is a model from differing thresholds\n",
    "\n",
    "_, axs = plt.subplots(ncols=1)\n",
    "axs.set(xlabel='False Positive Rate',ylabel='True Positive Rate', title='ROC Curve for Female Fear vs. Neutral')\n",
    "\n",
    "\n",
    "fpr, tpr, _ = roc_curve(Y_test[:,0], Y_pred[:,0])\n",
    "auc_val = auc(fpr, tpr)\n",
    "sns.lineplot(x=fpr,y=tpr,ax=axs, label='Area = ' + str(auc_val) + '', legend='brief')\n",
    "\n",
    "\n",
    "plt.plot([0, 1], [0, 1], 'k--', lw=2)"
   ]
  },
  {
   "cell_type": "code",
   "execution_count": 18,
   "metadata": {},
   "outputs": [
    {
     "data": {
      "text/plain": [
       "[<matplotlib.lines.Line2D at 0x7faa00444490>]"
      ]
     },
     "execution_count": 18,
     "metadata": {},
     "output_type": "execute_result"
    },
    {
     "data": {
      "image/png": "[encoded data removed]",
      "text/plain": [
       "<Figure size 432x288 with 1 Axes>"
      ]
     },
     "metadata": {
      "needs_background": "light"
     },
     "output_type": "display_data"
    }
   ],
   "source": [
    "## Precision/Recall Curves per class\n",
    "### The following curves are generated s.t each point is a model from differing thresholds\n",
    "from sklearn.metrics import precision_recall_curve\n",
    "\n",
    "_, axs = plt.subplots(ncols=1)\n",
    "axs.set(xlabel='Recall',ylabel='Precision', title='Precision/Recall Curve for Female Fear vs. Neutral')\n",
    "\n",
    "prec, rec, _ = precision_recall_curve(Y_test[:,0], Y_pred[:,0])\n",
    "sns.lineplot(x=rec,y=prec,ax=axs)\n",
    "\n",
    "# Diagonal line for comparison\n",
    "plt.plot([1, 0], [0, 1], 'k--', lw=2)"
   ]
  },
  {
   "cell_type": "markdown",
   "metadata": {},
   "source": [
    "<h2>K-Fold Training and Evaluation</h2>"
   ]
  },
  {
   "cell_type": "code",
   "execution_count": null,
   "metadata": {},
   "outputs": [],
   "source": [
    "#Precision Mean and Standard Deviation\n",
    "#Recall Mean and Standard Deviation\n",
    "#F1 Measure Mean and Standard Deviation\n",
    "#True Positive Rate. Mean and Standard Deviation\n",
    "#False Negative Rate Mean and Standard Deviation\n",
    "#Best/Worst ROC\n",
    "#Best/Worst Precision/Recall\n",
    "#Accuracy Mean and Standard Deviation"
   ]
  },
  {
   "cell_type": "code",
   "execution_count": null,
   "metadata": {},
   "outputs": [],
   "source": [
    "from sklearn.metrics import precision_recall_fscore_support\n",
    "from sklearn.model_selection import KFold\n",
    "from sklearn.metrics import accuracy_score, precision_score, recall_score, f1_score, roc_auc_score, roc_curve, auc, precision_recall_curve\n",
    "\n",
    "all_base_precision = list()\n",
    "all_base_recall = list()\n",
    "all_macro_precision = list()\n",
    "all_macro_recall = list()\n",
    "all_f1 = list()\n",
    "all_macro_f1 = list()\n",
    "\n",
    "\n",
    "all_tpr = list()\n",
    "all_fpr = list()\n",
    "all_precision = list()\n",
    "all_recall = list()\n",
    "\n",
    "all_accuracy = list()\n",
    "\n",
    "\n",
    "n_split=3\n",
    "for train_index,test_index in KFold(n_split).split(X_all):  \n",
    "    # use the index to generate training an testing sets\n",
    "    x_train,x_test=X_all[train_index],X_all[test_index]\n",
    "    y_train,y_test=Y_all[train_index],Y_all[test_index]\n",
    "\n",
    "    # create and fit the model\n",
    "    cv_model=build_current_model()\n",
    "    history = cv_model.fit(x_train, y_train,\n",
    "              batch_size=8,\n",
    "              epochs=30,\n",
    "              validation_split=0.1,\n",
    "              verbose=1)\n",
    "    \n",
    "    #generate predictions\n",
    "    y_pred = cv_model.predict(x_test)\n",
    "    actual, predicted = generate_actual_predicted(y_pred, x_test, y_test)\n",
    "    \n",
    "    #calc metrics\n",
    "    curr_base_prec, curr_base_rec, curr_f1, _ = precision_recall_fscore_support(actual, predicted)\n",
    "    curr_macro_prec = precision_score(actual, predicted,average='macro')\n",
    "    curr_macro_rec = recall_score(actual, predicted,average='macro')\n",
    "    curr_macro_f1 = f1_score(actual, predicted,average='macro')\n",
    "\n",
    "    \n",
    "    curr_fpr = [0] * 6\n",
    "    curr_tpr = [0] * 6\n",
    "    for i in range(6):\n",
    "        curr_fpr[i], curr_tpr[i], _ = roc_curve(y_test[:,i], y_pred[:,i])\n",
    "        \n",
    "    curr_prec = [0] * 6\n",
    "    curr_rec = [0] * 6\n",
    "    for i in range(6):\n",
    "        curr_prec[i], curr_rec[i], _ = precision_recall_curve(y_test[:,i], y_pred[:,i])\n",
    "\n",
    "        \n",
    "    curr_accuracy = accuracy_score(actual, predicted)\n",
    "    \n",
    "    #add to lists\n",
    "    all_base_precision.append(curr_base_prec)\n",
    "    all_base_recall.append(curr_base_rec)\n",
    "    all_macro_precision.append(curr_macro_prec)\n",
    "    all_macro_recall.append(curr_macro_rec)\n",
    "    \n",
    "    all_f1.append(curr_f1)\n",
    "    all_macro_f1.append(curr_macro_f1)\n",
    "    \n",
    "    all_accuracy.append(curr_accuracy)\n",
    "\n",
    "    \n",
    "    all_fpr.append(curr_fpr)\n",
    "    all_tpr.append(curr_tpr)\n",
    "    all_precision.append(curr_prec)\n",
    "    all_recall.append(curr_rec)\n",
    "    \n",
    "    \n"
   ]
  },
  {
   "cell_type": "code",
   "execution_count": null,
   "metadata": {},
   "outputs": [],
   "source": [
    "print('precision mean by class', np.array(all_base_precision).mean(axis=0))\n",
    "print('precision sdev by class', np.array(all_base_precision).std(axis=0))\n",
    "\n",
    "print('macro precision mean', np.array(all_macro_precision).mean())\n",
    "print('macro precision sdev', np.array(all_macro_precision).std())\n",
    "\n",
    "\n",
    "print('recall mean', np.array(all_base_recall).mean(axis=0))\n",
    "print('recall sdev', np.array(all_base_recall).std(axis=0))\n",
    "\n",
    "print('macro recall mean', np.array(all_macro_recall).mean())\n",
    "print('macro recall sdev', np.array(all_macro_recall).std())\n",
    "\n",
    "print('f1 mean', np.array(all_f1).mean(axis=0))\n",
    "print('f1 sdev', np.array(all_f1).std(axis=0))\n",
    "\n",
    "print('macro f1 mean', np.array(all_macro_f1).mean())\n",
    "print('macro f1 sdev', np.array(all_macro_f1).std())\n",
    "\n",
    "print('accuracy mean', np.array(all_accuracy).mean())\n",
    "print('accuracy sdev', np.array(all_accuracy).std())\n",
    "\n"
   ]
  },
  {
   "cell_type": "code",
   "execution_count": null,
   "metadata": {},
   "outputs": [],
   "source": [
    "# Plot all K-Fold ROC curves\n",
    "for i in range(3):\n",
    "    _, axs = plt.subplots(ncols=1)\n",
    "    axs.set(xlabel='False Positive Rate',ylabel='True Positive Rate', title='ROC Curve K-Fold#'+str(i+1))\n",
    "    for j in range(6):\n",
    "        auc_val = auc(all_fpr[i][j], all_tpr[i][j])\n",
    "        sns.lineplot(x=all_fpr[i][j],y=all_tpr[i][j],ax=axs, label='Class '+ getEmotion(j) +' (area = ' + str(auc_val) + ')', legend='brief')\n",
    "        "
   ]
  },
  {
   "cell_type": "code",
   "execution_count": null,
   "metadata": {},
   "outputs": [],
   "source": [
    "#Plot all K-Fold Precision/Recall curves\n",
    "for i in range(3):\n",
    "    _, axs = plt.subplots(ncols=1)\n",
    "    axs.set(xlabel='Recall',ylabel='Precision', title='Precision/Recall Curve K-Fold#'+str(i+1))\n",
    "    for j in range(6):\n",
    "        sns.lineplot(x=all_recall[i][j],y=all_precision[i][j],ax=axs, label='Class '+ getEmotion(j), legend='brief')"
   ]
  },
  {
   "cell_type": "markdown",
   "metadata": {},
   "source": [
    "<h2>Storing/Loading history and model to file</h2>"
   ]
  },
  {
   "cell_type": "code",
   "execution_count": null,
   "metadata": {},
   "outputs": [],
   "source": [
    "#Store History\n",
    "hist_df = pd.DataFrame(history.history) \n",
    "hist_json_file = 'ref7varhistory.json' \n",
    "with open(hist_json_file, mode='w') as f:\n",
    "    hist_df.to_json(f)"
   ]
  },
  {
   "cell_type": "code",
   "execution_count": null,
   "metadata": {},
   "outputs": [],
   "source": [
    "#Load History \n",
    "history_info = pd.read_json('history.json')"
   ]
  },
  {
   "cell_type": "code",
   "execution_count": null,
   "metadata": {},
   "outputs": [],
   "source": [
    "##Save Model\n",
    "model.save('ref7var_trained.model') #Save the model"
   ]
  },
  {
   "cell_type": "code",
   "execution_count": null,
   "metadata": {},
   "outputs": [],
   "source": [
    "## Load Model\n",
    "model = tf.keras.models.load_model('mobile_net_trained.model') #Re load model"
   ]
  }
 ],
 "metadata": {
  "kernelspec": {
   "display_name": "Python 3",
   "language": "python",
   "name": "python3"
  },
  "language_info": {
   "codemirror_mode": {
    "name": "ipython",
    "version": 3
   },
   "file_extension": ".py",
   "mimetype": "text/x-python",
   "name": "python",
   "nbconvert_exporter": "python",
   "pygments_lexer": "ipython3",
   "version": "3.7.7"
  }
 },
 "nbformat": 4,
 "nbformat_minor": 4
}

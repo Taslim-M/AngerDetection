{
 "cells": [
  {
   "cell_type": "code",
   "execution_count": 1,
   "metadata": {},
   "outputs": [],
   "source": [
    "import librosa\n",
    "import librosa.display\n",
    "import matplotlib.pyplot as plt\n",
    "import numpy as np\n",
    "from os import listdir\n",
    "from os.path import isfile, join\n",
    "import os\n",
    "import scipy \n",
    "import pandas as pd\n",
    "import shutil"
   ]
  },
  {
   "cell_type": "code",
   "execution_count": 2,
   "metadata": {},
   "outputs": [],
   "source": [
    "root = r\"../data/\""
   ]
  },
  {
   "cell_type": "code",
   "execution_count": 3,
   "metadata": {},
   "outputs": [
    {
     "data": {
      "text/plain": [
       "4"
      ]
     },
     "execution_count": 3,
     "metadata": {},
     "output_type": "execute_result"
    }
   ],
   "source": [
    "audio_dbs = listdir(root)\n",
    "len(audio_dbs)"
   ]
  },
  {
   "cell_type": "code",
   "execution_count": 6,
   "metadata": {},
   "outputs": [
    {
     "name": "stdout",
     "output_type": "stream",
     "text": [
      "cremad 4499\n",
      "RAVEDESS 2915\n",
      "SAVEE 284\n",
      "TESS 2694\n"
     ]
    }
   ],
   "source": [
    "folder_with_audio = 'Audio1_5WAV'\n",
    "emotion = []\n",
    "gender = []\n",
    "for folder in audio_dbs:\n",
    "    audio_folder = join(root,folder,'Audio1_5WAV')\n",
    "    files = listdir(audio_folder)\n",
    "    print(folder,len(files))\n",
    "    for file in files:\n",
    "        split_file_name = file.split(\"_\")\n",
    "        gender.append(split_file_name[0])\n",
    "        emotion.append(split_file_name[1])"
   ]
  },
  {
   "cell_type": "code",
   "execution_count": 14,
   "metadata": {},
   "outputs": [
    {
     "name": "stdout",
     "output_type": "stream",
     "text": [
      "Frequency of unique values of the said array:\n",
      "[['ANG' 'CAL' 'DIS' 'FEA' 'HAP' 'NEU' 'SAD' 'SUR']\n",
      " ['1575' '393' '1706' '1500' '1527' '1264' '1607' '820']]\n"
     ]
    }
   ],
   "source": [
    "unique_elements, counts_elements = np.unique(np.array(emotion), return_counts=True)\n",
    "print(\"Frequency of unique values of the said array:\")\n",
    "print(np.asarray((unique_elements, counts_elements)))\n"
   ]
  },
  {
   "cell_type": "code",
   "execution_count": 15,
   "metadata": {},
   "outputs": [
    {
     "name": "stdout",
     "output_type": "stream",
     "text": [
      "Frequency of unique values of the said array:\n",
      "[['F' 'M']\n",
      " ['4150' '6242']]\n"
     ]
    }
   ],
   "source": [
    "unique_elements, counts_elements = np.unique(np.array(gender), return_counts=True)\n",
    "print(\"Frequency of unique values of the said array:\")\n",
    "print(np.asarray((unique_elements, counts_elements)))"
   ]
  },
  {
   "cell_type": "code",
   "execution_count": null,
   "metadata": {},
   "outputs": [],
   "source": []
  }
 ],
 "metadata": {
  "kernelspec": {
   "display_name": "Python 3",
   "language": "python",
   "name": "python3"
  },
  "language_info": {
   "codemirror_mode": {
    "name": "ipython",
    "version": 3
   },
   "file_extension": ".py",
   "mimetype": "text/x-python",
   "name": "python",
   "nbconvert_exporter": "python",
   "pygments_lexer": "ipython3",
   "version": "3.6.10"
  }
 },
 "nbformat": 4,
 "nbformat_minor": 2
}

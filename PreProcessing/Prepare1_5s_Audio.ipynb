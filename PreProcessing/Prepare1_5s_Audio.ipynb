{
 "cells": [
  {
   "cell_type": "code",
   "execution_count": 1,
   "metadata": {},
   "outputs": [
    {
     "name": "stderr",
     "output_type": "stream",
     "text": [
      "C:\\Users\\azada\\Anaconda3\\envs\\py37\\lib\\site-packages\\librosa\\util\\decorators.py:9: NumbaDeprecationWarning: \u001b[1mAn import was requested from a module that has moved location.\n",
      "Import requested from: 'numba.decorators', please update to use 'numba.core.decorators' or pin to Numba version 0.48.0. This alias will not be present in Numba version 0.50.0.\u001b[0m\n",
      "  from numba.decorators import jit as optional_jit\n",
      "C:\\Users\\azada\\Anaconda3\\envs\\py37\\lib\\site-packages\\librosa\\util\\decorators.py:9: NumbaDeprecationWarning: \u001b[1mAn import was requested from a module that has moved location.\n",
      "Import of 'jit' requested from: 'numba.decorators', please update to use 'numba.core.decorators' or pin to Numba version 0.48.0. This alias will not be present in Numba version 0.50.0.\u001b[0m\n",
      "  from numba.decorators import jit as optional_jit\n"
     ]
    }
   ],
   "source": [
    "import librosa\n",
    "import librosa.display\n",
    "import matplotlib.pyplot as plt\n",
    "import numpy as np\n",
    "from os import listdir\n",
    "from os.path import isfile, join\n",
    "import os\n",
    "import scipy \n",
    "import pandas as pd\n",
    "import shutil"
   ]
  },
  {
   "cell_type": "markdown",
   "metadata": {},
   "source": [
    "# CremaD "
   ]
  },
  {
   "cell_type": "code",
   "execution_count": 2,
   "metadata": {},
   "outputs": [],
   "source": [
    "def getEmotionFileNameCrema(x):\n",
    "    part = x.split('_')\n",
    "    if part[2] == 'SAD':\n",
    "        return 'SAD'\n",
    "    elif part[2] == 'ANG':\n",
    "        return 'ANG'\n",
    "    elif part[2] == 'DIS':\n",
    "        return 'DIS'\n",
    "    elif part[2] == 'FEA':\n",
    "        return 'FEA'\n",
    "    elif part[2] == 'HAP':\n",
    "        return 'HAP'\n",
    "    elif part[2] == 'NEU':\n",
    "        return 'NEU'\n",
    "    else:\n",
    "        return 'Unknown'"
   ]
  },
  {
   "cell_type": "code",
   "execution_count": 3,
   "metadata": {},
   "outputs": [],
   "source": [
    "root = r\"../data/cremad/AudioWAV\""
   ]
  },
  {
   "cell_type": "code",
   "execution_count": 4,
   "metadata": {},
   "outputs": [
    {
     "data": {
      "text/html": [
       "<div>\n",
       "<style scoped>\n",
       "    .dataframe tbody tr th:only-of-type {\n",
       "        vertical-align: middle;\n",
       "    }\n",
       "\n",
       "    .dataframe tbody tr th {\n",
       "        vertical-align: top;\n",
       "    }\n",
       "\n",
       "    .dataframe thead th {\n",
       "        text-align: right;\n",
       "    }\n",
       "</style>\n",
       "<table border=\"1\" class=\"dataframe\">\n",
       "  <thead>\n",
       "    <tr style=\"text-align: right;\">\n",
       "      <th></th>\n",
       "      <th>ActorID</th>\n",
       "      <th>Age</th>\n",
       "      <th>Sex</th>\n",
       "      <th>Race</th>\n",
       "      <th>Ethnicity</th>\n",
       "    </tr>\n",
       "  </thead>\n",
       "  <tbody>\n",
       "    <tr>\n",
       "      <th>0</th>\n",
       "      <td>1001</td>\n",
       "      <td>51</td>\n",
       "      <td>Male</td>\n",
       "      <td>Caucasian</td>\n",
       "      <td>Not Hispanic</td>\n",
       "    </tr>\n",
       "    <tr>\n",
       "      <th>1</th>\n",
       "      <td>1002</td>\n",
       "      <td>21</td>\n",
       "      <td>Female</td>\n",
       "      <td>Caucasian</td>\n",
       "      <td>Not Hispanic</td>\n",
       "    </tr>\n",
       "    <tr>\n",
       "      <th>2</th>\n",
       "      <td>1003</td>\n",
       "      <td>21</td>\n",
       "      <td>Female</td>\n",
       "      <td>Caucasian</td>\n",
       "      <td>Not Hispanic</td>\n",
       "    </tr>\n",
       "  </tbody>\n",
       "</table>\n",
       "</div>"
      ],
      "text/plain": [
       "   ActorID  Age     Sex       Race     Ethnicity\n",
       "0     1001   51    Male  Caucasian  Not Hispanic\n",
       "1     1002   21  Female  Caucasian  Not Hispanic\n",
       "2     1003   21  Female  Caucasian  Not Hispanic"
      ]
     },
     "execution_count": 4,
     "metadata": {},
     "output_type": "execute_result"
    }
   ],
   "source": [
    "df=pd.read_csv(r\"../data/cremad/VideoDemographics.csv\")\n",
    "df.head(3)"
   ]
  },
  {
   "cell_type": "code",
   "execution_count": 5,
   "metadata": {},
   "outputs": [
    {
     "data": {
      "text/plain": [
       "7442"
      ]
     },
     "execution_count": 5,
     "metadata": {},
     "output_type": "execute_result"
    }
   ],
   "source": [
    "files = listdir(root)\n",
    "len(files)"
   ]
  },
  {
   "cell_type": "code",
   "execution_count": 6,
   "metadata": {},
   "outputs": [],
   "source": [
    "female_ids=[str(df.loc[i].iat[0]) for i in df.index if df.loc[i].iat[2]==\"Female\"]"
   ]
  },
  {
   "cell_type": "code",
   "execution_count": 7,
   "metadata": {},
   "outputs": [],
   "source": [
    "def split(load_path,path_to_save, split_time = 1.5):\n",
    "    data, sr = librosa.load(load_path, sr = 22050)\n",
    "    split_data_length = int(split_time * sr)\n",
    "    split_count = int(len(data)/split_data_length)\n",
    "    for i in range(split_count):\n",
    "        start_index = int(i*split_data_length)\n",
    "        data_split = data[start_index: start_index +split_data_length]\n",
    "        file_ending = '_' +str(i+1) +'.wav'\n",
    "        final_path = path_to_save.replace('.wav', file_ending)\n",
    "        librosa.output.write_wav(final_path, data_split, sr)"
   ]
  },
  {
   "cell_type": "code",
   "execution_count": 9,
   "metadata": {},
   "outputs": [],
   "source": [
    "folder_to_save = r\"../data/cremad/Audio1_5WAV\"\n",
    "file_names = []\n",
    "\n",
    "files = listdir(root)\n",
    "for file in files:\n",
    "    emot = getEmotionFileNameCrema(file)\n",
    "    split_file_name = file.split(\"_\")\n",
    "    if split_file_name[0] in female_ids:\n",
    "        gendered_file_name = \"F_\" + emot+ \"_\"+ file\n",
    "    else:\n",
    "        gendered_file_name = \"M_\" +emot+ \"_\"+  file\n",
    "    split(join(root,file),join(folder_to_save,gendered_file_name))"
   ]
  },
  {
   "cell_type": "markdown",
   "metadata": {},
   "source": [
    "## RAVDESS"
   ]
  },
  {
   "cell_type": "code",
   "execution_count": 10,
   "metadata": {},
   "outputs": [],
   "source": [
    "# Modality (01 = full-AV, 02 = video-only, 03 = audio-only).\n",
    "# Vocal channel (01 = speech, 02 = song).\n",
    "# Emotion (01 = neutral, 02 = calm, 03 = happy, 04 = sad, 05 = angry, 06 = fearful, 07 = disgust, 08 = surprised).\n",
    "# Emotional intensity (01 = normal, 02 = strong). NOTE: There is no strong intensity for the 'neutral' emotion.\n",
    "# Statement (01 = \"Kids are talking by the door\", 02 = \"Dogs are sitting by the door\").\n",
    "# Repetition (01 = 1st repetition, 02 = 2nd repetition).\n",
    "# Actor (01 to 24. Odd numbered actors are male, even numbered actors are female)."
   ]
  },
  {
   "cell_type": "code",
   "execution_count": 11,
   "metadata": {},
   "outputs": [],
   "source": [
    "def getEmotionFileNameRAV(x):\n",
    "    part = x.split('-')\n",
    "    if part[2] == '01':\n",
    "        return 'NEU'\n",
    "    elif part[2] == '02':\n",
    "        return 'CAL'\n",
    "    elif part[2] == '03':\n",
    "        return 'HAP'\n",
    "    elif part[2] == '04':\n",
    "        return 'SAD'\n",
    "    elif part[2] == '05':\n",
    "        return 'ANG'\n",
    "    elif part[2] == '06':\n",
    "        return 'FEA'\n",
    "    elif part[2] == '07':\n",
    "        return 'DIS'\n",
    "    elif part[2] == '08':\n",
    "        return 'SUR'\n",
    "    else:\n",
    "        return 'Unknown'"
   ]
  },
  {
   "cell_type": "code",
   "execution_count": 12,
   "metadata": {},
   "outputs": [
    {
     "data": {
      "text/plain": [
       "24"
      ]
     },
     "execution_count": 12,
     "metadata": {},
     "output_type": "execute_result"
    }
   ],
   "source": [
    "root = r\"../data/RAVEDESS/Audio_Speech_Actors_01-24\"\n",
    "folders = listdir(root)\n",
    "len(folders)"
   ]
  },
  {
   "cell_type": "code",
   "execution_count": 13,
   "metadata": {},
   "outputs": [],
   "source": [
    "folder_to_save = r\"../data/RAVEDESS/Audio1_5WAV\"\n",
    "file_names = []\n",
    "lenghts = []\n",
    "for folder in folders:\n",
    "    curr_dir = join(root,folder)\n",
    "    files = listdir(curr_dir)\n",
    "    for file in files:\n",
    "        emot = getEmotionFileNameRAV(file)\n",
    "        split_file_name = file.split(\"-\")\n",
    "        #Female are EVEN\n",
    "        if(int(split_file_name[-1][:-4])%2 == 0):\n",
    "            gendered_file_name = \"F_\" +emot+ \"_\"+  file\n",
    "        else:\n",
    "            gendered_file_name = \"M_\" +emot+ \"_\"+  file\n",
    "        split(join(root, folder, file),join(folder_to_save,gendered_file_name))\n"
   ]
  },
  {
   "cell_type": "markdown",
   "metadata": {},
   "source": [
    "# SAVEE"
   ]
  },
  {
   "cell_type": "code",
   "execution_count": 14,
   "metadata": {},
   "outputs": [],
   "source": [
    "# 'DC', 'JE', 'JK' and 'KL' are four male speakers recorded for the SAVEE database\n",
    "\n",
    "\n",
    "# --------------------------------------\n",
    "# Audio data \n",
    "# --------------------------------------\n",
    "# Audio files consist of audio WAV files sampled at 44.1 kHz\n",
    "\n",
    "# There are 15 sentences for each of the 7 emotion categories.\n",
    "# The initial letter(s) of the file name represents the emotion class, and the following digits represent the sentence number.\n",
    "# The letters 'a', 'd', 'f', 'h', 'n', 'sa' and 'su' represent 'anger', 'disgust', 'fear', 'happiness', 'neutral', 'sadness' and 'surprise' emotion classes respectively. \n",
    "# E.g., 'd03.wav' is the 3rd disgust sentence. \n"
   ]
  },
  {
   "cell_type": "code",
   "execution_count": 15,
   "metadata": {},
   "outputs": [],
   "source": [
    "def getEmotionFileNameSAVEE(str):\n",
    "    if str.startswith( 'a' ):\n",
    "        return 'ANG'\n",
    "    elif str.startswith( 'd' ):\n",
    "        return 'DIS'\n",
    "    elif str.startswith( 'f' ):\n",
    "        return 'FEA'\n",
    "    elif str.startswith( 'h' ):\n",
    "        return 'HAP'\n",
    "    elif str.startswith( 'n' ):\n",
    "        return 'NEU'\n",
    "    elif str.startswith( 'sa' ):\n",
    "        return 'SAD'\n",
    "    elif str.startswith( 'su' ):\n",
    "        return 'SUR'\n",
    "    else:\n",
    "        return 'Unknown'\n"
   ]
  },
  {
   "cell_type": "code",
   "execution_count": 22,
   "metadata": {},
   "outputs": [
    {
     "data": {
      "text/plain": [
       "4"
      ]
     },
     "execution_count": 22,
     "metadata": {},
     "output_type": "execute_result"
    }
   ],
   "source": [
    "root = r\"../data/SAVEE/AudioData\"\n",
    "folders = listdir(root)\n",
    "len(folders)"
   ]
  },
  {
   "cell_type": "code",
   "execution_count": 23,
   "metadata": {},
   "outputs": [
    {
     "name": "stdout",
     "output_type": "stream",
     "text": [
      "DC 120\n",
      "JE 120\n",
      "JK 120\n",
      "KL 120\n"
     ]
    }
   ],
   "source": [
    "folder_to_save = r\"../data/SAVEE/Audio1_5WAV\"\n",
    "for folder in folders:\n",
    "    curr_dir = join(root,folder)\n",
    "    files = listdir(curr_dir)\n",
    "    print(folder,len(files))\n",
    "    for file in files:\n",
    "        emot = getEmotionFileNameSAVEE(file)\n",
    "        gendered_file_name = \"M_\" +emot+ \"_\"+  file\n",
    "        split(join(root, folder, file),join(folder_to_save,gendered_file_name))\n"
   ]
  },
  {
   "cell_type": "markdown",
   "metadata": {},
   "source": [
    "# Tess"
   ]
  },
  {
   "cell_type": "code",
   "execution_count": 24,
   "metadata": {},
   "outputs": [],
   "source": [
    "# There are a set of 200 target words were spoken in the carrier phrase \"Say the word _' by two actresses (aged 26 and 64 years) and recordings were made of the set portraying each of seven emotions (anger, disgust, fear, happiness, pleasant surprise, sadness, and neutral). There are 2800 data points (audio files) in total.\n",
    "\n",
    "# The dataset is organised such that each of the two female actor and their emotions are contain within its own folder. And within that, all 200 target words audio file can be found. The format of the audio file is a WAV format"
   ]
  },
  {
   "cell_type": "code",
   "execution_count": 25,
   "metadata": {},
   "outputs": [],
   "source": [
    "def getEmotionFileNameTESS(x):\n",
    "    part = x.split('_')\n",
    "    part[2] = part[2][:-4]\n",
    "    if part[2] == 'angry':\n",
    "        return 'ANG'\n",
    "    elif part[2] == 'disgust':\n",
    "        return 'DIS'\n",
    "    elif part[2] == 'fear':\n",
    "        return 'FEA'\n",
    "    elif part[2] == 'happy':\n",
    "        return 'HAP'\n",
    "    elif part[2] == 'neutral':\n",
    "        return 'NEU'\n",
    "    elif part[2] == 'ps':\n",
    "        return 'SUR'\n",
    "    elif part[2] == 'sad':\n",
    "        return 'SAD'\n",
    "    else:\n",
    "        return 'Unknown'"
   ]
  },
  {
   "cell_type": "code",
   "execution_count": 26,
   "metadata": {},
   "outputs": [
    {
     "data": {
      "text/plain": [
       "14"
      ]
     },
     "execution_count": 26,
     "metadata": {},
     "output_type": "execute_result"
    }
   ],
   "source": [
    "root = r\"../data/TESS/speech_data\"\n",
    "folders = listdir(root)\n",
    "len(folders)"
   ]
  },
  {
   "cell_type": "code",
   "execution_count": 27,
   "metadata": {},
   "outputs": [],
   "source": [
    "folder_to_save = r\"../data/TESS/Audio1_5WAV\"\n",
    "for folder in folders:\n",
    "    curr_dir = join(root,folder)\n",
    "    files = listdir(curr_dir)\n",
    "    for file in files:\n",
    "        emot = getEmotionFileNameTESS(file)\n",
    "        gendered_file_name = \"F_\" +emot+ \"_\"+  file\n",
    "        split(join(root, folder, file),join(folder_to_save,gendered_file_name))"
   ]
  },
  {
   "cell_type": "code",
   "execution_count": null,
   "metadata": {},
   "outputs": [],
   "source": []
  }
 ],
 "metadata": {
  "kernelspec": {
   "display_name": "Python 3",
   "language": "python",
   "name": "python3"
  },
  "language_info": {
   "codemirror_mode": {
    "name": "ipython",
    "version": 3
   },
   "file_extension": ".py",
   "mimetype": "text/x-python",
   "name": "python",
   "nbconvert_exporter": "python",
   "pygments_lexer": "ipython3",
   "version": "3.7.7"
  }
 },
 "nbformat": 4,
 "nbformat_minor": 2
}

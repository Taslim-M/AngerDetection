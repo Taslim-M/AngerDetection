{
 "cells": [
  {
   "cell_type": "markdown",
   "metadata": {},
   "source": [
    "<h1>Model: Female Anger vs. Others</h1>"
   ]
  },
  {
   "cell_type": "code",
   "execution_count": 35,
   "metadata": {},
   "outputs": [],
   "source": [
    "import tensorflow as tf\n",
    "config = tf.ConfigProto()\n",
    "config.gpu_options.allow_growth = True\n",
    "session = tf.Session(config=config)"
   ]
  },
  {
   "cell_type": "code",
   "execution_count": 36,
   "metadata": {},
   "outputs": [],
   "source": [
    "import keras\n",
    "import pandas as pd\n",
    "import tensorflow as tf\n",
    "\n",
    "import numpy as np\n",
    "# from keras.models import Sequential, Model\n",
    "# from keras.layers import Dense, Dropout, Activation, Flatten, Convolution2D, MaxPooling2D, GlobalAveragePooling2D\n",
    "from keras.utils import np_utils\n",
    "\n",
    "from tensorflow.keras.models import Sequential, Model\n",
    "from tensorflow.keras.layers import Dense, Dropout, Activation, Flatten, Convolution2D, MaxPooling2D, GlobalAveragePooling2D, Input,AveragePooling2D, BatchNormalization, LeakyReLU\n",
    "\n",
    "# from keras.applications import MobileNet\n",
    "# from keras.optimizers import Adam\n",
    "from tensorflow.keras.applications import MobileNetV2, InceptionV3\n",
    "from tensorflow.keras.optimizers import Adam\n",
    "\n",
    "from matplotlib import pyplot as plt\n",
    "import os\n",
    "from sklearn.model_selection import train_test_split\n",
    "\n",
    "import seaborn as sns\n",
    "from sklearn.metrics import recall_score\n",
    "from sklearn.metrics import precision_score\n",
    "from sklearn.model_selection import KFold\n",
    "\n",
    "from collections import defaultdict\n",
    "from PIL import Image"
   ]
  },
  {
   "cell_type": "markdown",
   "metadata": {},
   "source": [
    "<h2>Data Loading and Preparation</h2>"
   ]
  },
  {
   "cell_type": "code",
   "execution_count": 37,
   "metadata": {},
   "outputs": [],
   "source": [
    "def getEmotionCode(x):\n",
    "    part = x.split('_')\n",
    "    if part[3] == 'ANG':\n",
    "        return 1\n",
    "    else:\n",
    "        return 0\n",
    "\n",
    "def getEmotion(x):\n",
    "    if x == 1:\n",
    "        return 'ANG'\n",
    "    else:\n",
    "        return 'NEU'"
   ]
  },
  {
   "cell_type": "code",
   "execution_count": 38,
   "metadata": {},
   "outputs": [],
   "source": [
    "X_all = []\n",
    "Y_all = []\n",
    "\n",
    "image_folder_path = 'cremad/SpectogramInitial'\n",
    "file_paths = [f for f in os.listdir(image_folder_path)]\n",
    "\n",
    "for file_name in file_paths:\n",
    "    split_file_name = file_name.split('_')\n",
    "    if split_file_name[0] == 'M' and (split_file_name[3] in ['ANG','NEU']):\n",
    "        spectrogram = Image.open(image_folder_path + '/' + file_name)\n",
    "        spectrogram = spectrogram.convert('L')\n",
    "        spectrogram = spectrogram.resize((167, 109))\n",
    "        spectrogram = np.array(spectrogram)\n",
    "        spectrogram = np.expand_dims(spectrogram, axis=2)\n",
    "        X_all.append(spectrogram)\n",
    "        Y_all.append(getEmotionCode(file_name))\n",
    "    \n",
    "#print(X_all)\n",
    "#print(Y_all)\n"
   ]
  },
  {
   "cell_type": "code",
   "execution_count": 39,
   "metadata": {},
   "outputs": [
    {
     "name": "stdout",
     "output_type": "stream",
     "text": [
      "(1246, 109, 167, 1)\n",
      "(1246,)\n"
     ]
    }
   ],
   "source": [
    "X_all = np.array(X_all)\n",
    "Y_all = np.array(Y_all)\n",
    "\n",
    "print(X_all.shape)\n",
    "print(Y_all.shape)\n",
    "\n",
    "X_all = X_all.astype('float32')\n",
    "X_all /= 255\n",
    "\n",
    "Y_all = np_utils.to_categorical(Y_all, num_classes=2)\n",
    "\n",
    "#print(X_all)\n",
    "#print(Y_all)"
   ]
  },
  {
   "cell_type": "code",
   "execution_count": 40,
   "metadata": {},
   "outputs": [],
   "source": [
    "# train /test= 80/20% split\n",
    "# stratified\n",
    "X_train, X_test, Y_train, Y_test = train_test_split(X_all, Y_all, test_size=0.2, random_state = 123, stratify=Y_all)\n",
    "\n"
   ]
  },
  {
   "cell_type": "markdown",
   "metadata": {},
   "source": [
    "<h2>Model Building</h2>"
   ]
  },
  {
   "cell_type": "code",
   "execution_count": 41,
   "metadata": {},
   "outputs": [],
   "source": [
    "def build_current_model():\n",
    "    inp = Input(shape=(109, 167,1))\n",
    "    \n",
    "    c1 = Convolution2D(filters=128,kernel_size=(5,5),strides=(2,2),padding='same')(inp)\n",
    "    bt = BatchNormalization()(c1)\n",
    "    bt = Activation('relu')(bt)\n",
    "    #bt = LeakyReLU(alpha=0.01)(bt)\n",
    "    mpool = MaxPooling2D(pool_size=(2,2),strides=2,padding='same')(bt)\n",
    "    mpool = Dropout(0.2)(mpool)\n",
    "\n",
    "    \n",
    "    c2 = Convolution2D(filters=256,kernel_size=(4,4),strides=(2,2),padding='same')(mpool)\n",
    "    bt = BatchNormalization()(c2)\n",
    "    bt = Activation('relu')(bt)\n",
    "    #bt = LeakyReLU(alpha=0.01)(bt)\n",
    "    mpool = AveragePooling2D(pool_size=(2,2),strides=2,padding='same')(bt)\n",
    "    mpool = Dropout(0.3)(mpool)\n",
    "    \n",
    "    c2 = Convolution2D(filters=512,kernel_size=(3,3),strides=(1,1),padding='same')(mpool)\n",
    "    bt = BatchNormalization()(c2)\n",
    "    bt = Activation('relu')(bt)\n",
    "    #bt = LeakyReLU(alpha=0.01)(bt)\n",
    "    mpool = AveragePooling2D(pool_size=(2,2),strides=2,padding='same')(bt)\n",
    "    mpool = Dropout(0.3)(mpool)\n",
    "    \n",
    "    c3 = Convolution2D(filters=512,kernel_size=(3,3),strides=(1,1),padding='same')(mpool)\n",
    "    bt = BatchNormalization()(c3)\n",
    "    bt = Activation('relu')(bt)\n",
    "    #bt = LeakyReLU(alpha=0.01)(bt)\n",
    "    mpool = AveragePooling2D(pool_size=(2,2),strides=2,padding='same')(bt)\n",
    "    mpool = Dropout(0.4)(mpool)\n",
    "    \n",
    "    f = Flatten()(mpool)\n",
    "    \n",
    "    x_dense = Dense(2048)(f)\n",
    "    bt = BatchNormalization()(x_dense)\n",
    "    bt = Activation('relu')(bt)\n",
    "    bt = Dropout(0.4)(bt)\n",
    "\n",
    "    \n",
    "    x_dense = Dense(2048)(bt)\n",
    "    bt = BatchNormalization()(x_dense)\n",
    "    bt = Activation('relu')(bt)\n",
    "    bt = Dropout(0.3)(bt)\n",
    "    \n",
    "    x_dense = Dense(512)(bt)\n",
    "    bt = BatchNormalization()(x_dense)\n",
    "    bt = Activation('relu')(bt)\n",
    "    bt = Dropout(0.2)(bt)\n",
    "\n",
    "    x_out = Dense(2, name='output', activation='softmax')(bt)\n",
    "    \n",
    "    model = Model(inputs=inp, outputs=x_out)\n",
    "    model.compile(optimizer=Adam(lr=0.0005), \n",
    "                  loss='categorical_crossentropy', \n",
    "                  metrics = ['accuracy'])\n",
    "    return model\n"
   ]
  },
  {
   "cell_type": "code",
   "execution_count": 42,
   "metadata": {},
   "outputs": [
    {
     "name": "stdout",
     "output_type": "stream",
     "text": [
      "Model: \"model_2\"\n",
      "_________________________________________________________________\n",
      "Layer (type)                 Output Shape              Param #   \n",
      "=================================================================\n",
      "input_3 (InputLayer)         [(None, 109, 167, 1)]     0         \n",
      "_________________________________________________________________\n",
      "conv2d_8 (Conv2D)            (None, 55, 84, 128)       3328      \n",
      "_________________________________________________________________\n",
      "batch_normalization_14 (Batc (None, 55, 84, 128)       512       \n",
      "_________________________________________________________________\n",
      "activation_14 (Activation)   (None, 55, 84, 128)       0         \n",
      "_________________________________________________________________\n",
      "max_pooling2d_2 (MaxPooling2 (None, 28, 42, 128)       0         \n",
      "_________________________________________________________________\n",
      "dropout_14 (Dropout)         (None, 28, 42, 128)       0         \n",
      "_________________________________________________________________\n",
      "conv2d_9 (Conv2D)            (None, 14, 21, 256)       524544    \n",
      "_________________________________________________________________\n",
      "batch_normalization_15 (Batc (None, 14, 21, 256)       1024      \n",
      "_________________________________________________________________\n",
      "activation_15 (Activation)   (None, 14, 21, 256)       0         \n",
      "_________________________________________________________________\n",
      "average_pooling2d_6 (Average (None, 7, 11, 256)        0         \n",
      "_________________________________________________________________\n",
      "dropout_15 (Dropout)         (None, 7, 11, 256)        0         \n",
      "_________________________________________________________________\n",
      "conv2d_10 (Conv2D)           (None, 7, 11, 512)        1180160   \n",
      "_________________________________________________________________\n",
      "batch_normalization_16 (Batc (None, 7, 11, 512)        2048      \n",
      "_________________________________________________________________\n",
      "activation_16 (Activation)   (None, 7, 11, 512)        0         \n",
      "_________________________________________________________________\n",
      "average_pooling2d_7 (Average (None, 4, 6, 512)         0         \n",
      "_________________________________________________________________\n",
      "dropout_16 (Dropout)         (None, 4, 6, 512)         0         \n",
      "_________________________________________________________________\n",
      "conv2d_11 (Conv2D)           (None, 4, 6, 512)         2359808   \n",
      "_________________________________________________________________\n",
      "batch_normalization_17 (Batc (None, 4, 6, 512)         2048      \n",
      "_________________________________________________________________\n",
      "activation_17 (Activation)   (None, 4, 6, 512)         0         \n",
      "_________________________________________________________________\n",
      "average_pooling2d_8 (Average (None, 2, 3, 512)         0         \n",
      "_________________________________________________________________\n",
      "dropout_17 (Dropout)         (None, 2, 3, 512)         0         \n",
      "_________________________________________________________________\n",
      "flatten_2 (Flatten)          (None, 3072)              0         \n",
      "_________________________________________________________________\n",
      "dense_6 (Dense)              (None, 2048)              6293504   \n",
      "_________________________________________________________________\n",
      "batch_normalization_18 (Batc (None, 2048)              8192      \n",
      "_________________________________________________________________\n",
      "activation_18 (Activation)   (None, 2048)              0         \n",
      "_________________________________________________________________\n",
      "dropout_18 (Dropout)         (None, 2048)              0         \n",
      "_________________________________________________________________\n",
      "dense_7 (Dense)              (None, 2048)              4196352   \n",
      "_________________________________________________________________\n",
      "batch_normalization_19 (Batc (None, 2048)              8192      \n",
      "_________________________________________________________________\n",
      "activation_19 (Activation)   (None, 2048)              0         \n",
      "_________________________________________________________________\n",
      "dropout_19 (Dropout)         (None, 2048)              0         \n",
      "_________________________________________________________________\n",
      "dense_8 (Dense)              (None, 512)               1049088   \n",
      "_________________________________________________________________\n",
      "batch_normalization_20 (Batc (None, 512)               2048      \n",
      "_________________________________________________________________\n",
      "activation_20 (Activation)   (None, 512)               0         \n",
      "_________________________________________________________________\n",
      "dropout_20 (Dropout)         (None, 512)               0         \n",
      "_________________________________________________________________\n",
      "output (Dense)               (None, 2)                 1026      \n",
      "=================================================================\n",
      "Total params: 15,631,874\n",
      "Trainable params: 15,619,842\n",
      "Non-trainable params: 12,032\n",
      "_________________________________________________________________\n"
     ]
    }
   ],
   "source": [
    "model = build_current_model()\n",
    "model.summary()"
   ]
  },
  {
   "cell_type": "code",
   "execution_count": 43,
   "metadata": {},
   "outputs": [],
   "source": [
    "#tf.keras.utils.plot_model(model, \"Model-Ref7Var.png\", show_shapes=True)"
   ]
  },
  {
   "cell_type": "code",
   "execution_count": 44,
   "metadata": {},
   "outputs": [
    {
     "name": "stdout",
     "output_type": "stream",
     "text": [
      "MaleAngerNeu-1590786884.3911152\n",
      "Train on 896 samples, validate on 100 samples\n",
      "Epoch 1/500\n",
      "896/896 [==============================] - 2s 3ms/sample - loss: 0.6640 - acc: 0.7623 - val_loss: 1.8432 - val_acc: 0.6200\n",
      "Epoch 2/500\n",
      "896/896 [==============================] - 2s 2ms/sample - loss: 0.4730 - acc: 0.8170 - val_loss: 1.4890 - val_acc: 0.3800\n",
      "Epoch 3/500\n",
      "896/896 [==============================] - 2s 2ms/sample - loss: 0.3915 - acc: 0.8259 - val_loss: 0.3758 - val_acc: 0.8600\n",
      "Epoch 4/500\n",
      "896/896 [==============================] - 2s 2ms/sample - loss: 0.3588 - acc: 0.8460 - val_loss: 0.5051 - val_acc: 0.7300\n",
      "Epoch 5/500\n",
      "896/896 [==============================] - 2s 2ms/sample - loss: 0.3500 - acc: 0.8627 - val_loss: 0.5534 - val_acc: 0.6500\n",
      "Epoch 6/500\n",
      "896/896 [==============================] - 2s 2ms/sample - loss: 0.3112 - acc: 0.8739 - val_loss: 1.4407 - val_acc: 0.5800\n",
      "Epoch 7/500\n",
      "896/896 [==============================] - 2s 2ms/sample - loss: 0.3458 - acc: 0.8705 - val_loss: 0.5769 - val_acc: 0.7200\n",
      "Epoch 8/500\n",
      "896/896 [==============================] - 2s 2ms/sample - loss: 0.3343 - acc: 0.8672 - val_loss: 0.8994 - val_acc: 0.6900\n",
      "Epoch 9/500\n",
      "896/896 [==============================] - 2s 2ms/sample - loss: 0.3404 - acc: 0.8683 - val_loss: 1.0936 - val_acc: 0.6200\n",
      "Epoch 10/500\n",
      "896/896 [==============================] - 2s 2ms/sample - loss: 0.3209 - acc: 0.8951 - val_loss: 0.6623 - val_acc: 0.7200\n",
      "Epoch 11/500\n",
      "896/896 [==============================] - 2s 2ms/sample - loss: 0.2900 - acc: 0.8951 - val_loss: 0.4098 - val_acc: 0.8100\n",
      "Epoch 12/500\n",
      "896/896 [==============================] - 2s 2ms/sample - loss: 0.2957 - acc: 0.8906 - val_loss: 1.3391 - val_acc: 0.6200\n",
      "Epoch 13/500\n",
      "896/896 [==============================] - 2s 2ms/sample - loss: 0.2817 - acc: 0.8962 - val_loss: 1.5255 - val_acc: 0.7500\n",
      "Epoch 14/500\n",
      "896/896 [==============================] - 2s 2ms/sample - loss: 0.2847 - acc: 0.8951 - val_loss: 0.9887 - val_acc: 0.7600\n",
      "Epoch 15/500\n",
      "896/896 [==============================] - 2s 2ms/sample - loss: 0.2889 - acc: 0.8951 - val_loss: 0.8904 - val_acc: 0.7800\n",
      "Epoch 16/500\n",
      "896/896 [==============================] - 2s 2ms/sample - loss: 0.2637 - acc: 0.9018 - val_loss: 0.4969 - val_acc: 0.7700\n",
      "Epoch 17/500\n",
      "896/896 [==============================] - 2s 2ms/sample - loss: 0.2775 - acc: 0.8850 - val_loss: 0.9984 - val_acc: 0.7900\n",
      "Epoch 18/500\n",
      "896/896 [==============================] - 2s 2ms/sample - loss: 0.2799 - acc: 0.9040 - val_loss: 1.3156 - val_acc: 0.5800\n",
      "Epoch 19/500\n",
      "896/896 [==============================] - 2s 2ms/sample - loss: 0.2597 - acc: 0.8984 - val_loss: 2.6303 - val_acc: 0.6200\n",
      "Epoch 20/500\n",
      "896/896 [==============================] - 2s 2ms/sample - loss: 0.2615 - acc: 0.9107 - val_loss: 0.3492 - val_acc: 0.8400\n",
      "Epoch 21/500\n",
      "896/896 [==============================] - 2s 2ms/sample - loss: 0.2546 - acc: 0.9107 - val_loss: 1.8596 - val_acc: 0.6500\n",
      "Epoch 22/500\n",
      "896/896 [==============================] - 2s 2ms/sample - loss: 0.2714 - acc: 0.8973 - val_loss: 2.1209 - val_acc: 0.6200\n",
      "Epoch 23/500\n",
      "896/896 [==============================] - 2s 2ms/sample - loss: 0.2029 - acc: 0.9196 - val_loss: 0.3621 - val_acc: 0.8300\n",
      "Epoch 24/500\n",
      "896/896 [==============================] - 2s 2ms/sample - loss: 0.1895 - acc: 0.9297 - val_loss: 1.5752 - val_acc: 0.6600\n",
      "Epoch 25/500\n",
      "896/896 [==============================] - 2s 2ms/sample - loss: 0.2322 - acc: 0.9141 - val_loss: 1.9288 - val_acc: 0.6200\n",
      "Epoch 26/500\n",
      "896/896 [==============================] - 2s 2ms/sample - loss: 0.2478 - acc: 0.9129 - val_loss: 0.3095 - val_acc: 0.8700\n",
      "Epoch 27/500\n",
      "896/896 [==============================] - 2s 2ms/sample - loss: 0.2231 - acc: 0.9297 - val_loss: 0.9380 - val_acc: 0.7800\n",
      "Epoch 28/500\n",
      "896/896 [==============================] - 2s 2ms/sample - loss: 0.1834 - acc: 0.9286 - val_loss: 1.2932 - val_acc: 0.6200\n",
      "Epoch 29/500\n",
      "896/896 [==============================] - 2s 2ms/sample - loss: 0.1935 - acc: 0.9263 - val_loss: 4.0500 - val_acc: 0.6200\n",
      "Epoch 30/500\n",
      "896/896 [==============================] - 2s 2ms/sample - loss: 0.2198 - acc: 0.9275 - val_loss: 0.3194 - val_acc: 0.8700\n",
      "Epoch 31/500\n",
      "896/896 [==============================] - 2s 2ms/sample - loss: 0.1933 - acc: 0.9342 - val_loss: 0.7292 - val_acc: 0.7200\n",
      "Epoch 32/500\n",
      "896/896 [==============================] - 2s 2ms/sample - loss: 0.1546 - acc: 0.9453 - val_loss: 1.0850 - val_acc: 0.8000\n",
      "Epoch 33/500\n",
      "896/896 [==============================] - 2s 2ms/sample - loss: 0.2144 - acc: 0.9241 - val_loss: 0.4213 - val_acc: 0.8600\n",
      "Epoch 34/500\n",
      "896/896 [==============================] - 2s 2ms/sample - loss: 0.1867 - acc: 0.9308 - val_loss: 0.8491 - val_acc: 0.7200\n",
      "Epoch 35/500\n",
      "896/896 [==============================] - 2s 2ms/sample - loss: 0.1922 - acc: 0.9230 - val_loss: 3.7888 - val_acc: 0.6200\n",
      "Epoch 36/500\n",
      "896/896 [==============================] - 2s 2ms/sample - loss: 0.1690 - acc: 0.9364 - val_loss: 0.2857 - val_acc: 0.8800\n",
      "Epoch 37/500\n",
      "896/896 [==============================] - 2s 2ms/sample - loss: 0.1968 - acc: 0.9364 - val_loss: 0.7254 - val_acc: 0.7700\n",
      "Epoch 38/500\n",
      "896/896 [==============================] - 2s 2ms/sample - loss: 0.1936 - acc: 0.9330 - val_loss: 1.4965 - val_acc: 0.6200\n",
      "Epoch 39/500\n",
      "896/896 [==============================] - 2s 2ms/sample - loss: 0.1597 - acc: 0.9487 - val_loss: 0.3548 - val_acc: 0.8600\n",
      "Epoch 40/500\n",
      "896/896 [==============================] - 2s 2ms/sample - loss: 0.1840 - acc: 0.9263 - val_loss: 0.3328 - val_acc: 0.8700\n",
      "Epoch 41/500\n",
      "896/896 [==============================] - 2s 2ms/sample - loss: 0.1638 - acc: 0.9487 - val_loss: 1.1510 - val_acc: 0.7800\n",
      "Epoch 42/500\n",
      "896/896 [==============================] - 2s 2ms/sample - loss: 0.1805 - acc: 0.9408 - val_loss: 0.3247 - val_acc: 0.8500\n",
      "Epoch 43/500\n",
      "896/896 [==============================] - 2s 2ms/sample - loss: 0.1050 - acc: 0.9665 - val_loss: 0.7011 - val_acc: 0.7600\n",
      "Epoch 44/500\n",
      "896/896 [==============================] - 2s 2ms/sample - loss: 0.1553 - acc: 0.9487 - val_loss: 1.2858 - val_acc: 0.6200\n",
      "Epoch 45/500\n",
      "896/896 [==============================] - 2s 2ms/sample - loss: 0.1322 - acc: 0.9453 - val_loss: 0.5110 - val_acc: 0.8900\n",
      "Epoch 46/500\n",
      "896/896 [==============================] - 2s 2ms/sample - loss: 0.1406 - acc: 0.9509 - val_loss: 2.7804 - val_acc: 0.5500\n",
      "Epoch 47/500\n",
      "896/896 [==============================] - 2s 2ms/sample - loss: 0.1893 - acc: 0.9386 - val_loss: 0.3240 - val_acc: 0.8400\n",
      "Epoch 48/500\n",
      "896/896 [==============================] - 2s 2ms/sample - loss: 0.0983 - acc: 0.9632 - val_loss: 1.8857 - val_acc: 0.7300\n",
      "Epoch 49/500\n",
      "896/896 [==============================] - 2s 2ms/sample - loss: 0.1487 - acc: 0.9554 - val_loss: 1.9316 - val_acc: 0.6400\n",
      "Epoch 50/500\n",
      "896/896 [==============================] - 2s 2ms/sample - loss: 0.1566 - acc: 0.9453 - val_loss: 0.4377 - val_acc: 0.8700\n",
      "Epoch 51/500\n",
      "896/896 [==============================] - 2s 2ms/sample - loss: 0.1277 - acc: 0.9609 - val_loss: 1.3601 - val_acc: 0.6200\n",
      "Epoch 52/500\n",
      "896/896 [==============================] - 2s 2ms/sample - loss: 0.1174 - acc: 0.9565 - val_loss: 0.2720 - val_acc: 0.8700\n",
      "Epoch 53/500\n",
      "896/896 [==============================] - 2s 2ms/sample - loss: 0.1078 - acc: 0.9542 - val_loss: 1.9422 - val_acc: 0.7600\n",
      "Epoch 54/500\n",
      "896/896 [==============================] - 2s 2ms/sample - loss: 0.1228 - acc: 0.9576 - val_loss: 0.6706 - val_acc: 0.8200\n",
      "Epoch 55/500\n",
      "896/896 [==============================] - 2s 2ms/sample - loss: 0.1500 - acc: 0.9598 - val_loss: 1.0512 - val_acc: 0.7800\n",
      "Epoch 56/500\n",
      "896/896 [==============================] - 2s 2ms/sample - loss: 0.1156 - acc: 0.9643 - val_loss: 1.5410 - val_acc: 0.7900\n",
      "Epoch 57/500\n",
      "896/896 [==============================] - 2s 2ms/sample - loss: 0.1035 - acc: 0.9643 - val_loss: 0.6327 - val_acc: 0.7600\n",
      "Epoch 58/500\n",
      "896/896 [==============================] - 2s 2ms/sample - loss: 0.0791 - acc: 0.9732 - val_loss: 0.3825 - val_acc: 0.8500\n",
      "Epoch 59/500\n",
      "896/896 [==============================] - 2s 2ms/sample - loss: 0.0936 - acc: 0.9766 - val_loss: 1.7542 - val_acc: 0.7600\n",
      "Epoch 60/500\n",
      "896/896 [==============================] - 2s 2ms/sample - loss: 0.1086 - acc: 0.9542 - val_loss: 0.3702 - val_acc: 0.8400\n"
     ]
    },
    {
     "name": "stdout",
     "output_type": "stream",
     "text": [
      "Epoch 61/500\n",
      "896/896 [==============================] - 2s 2ms/sample - loss: 0.1411 - acc: 0.9598 - val_loss: 2.0050 - val_acc: 0.7800\n",
      "Epoch 62/500\n",
      "896/896 [==============================] - 2s 2ms/sample - loss: 0.1273 - acc: 0.9643 - val_loss: 0.4465 - val_acc: 0.8400\n",
      "Epoch 63/500\n",
      "896/896 [==============================] - 2s 2ms/sample - loss: 0.0888 - acc: 0.9754 - val_loss: 0.4030 - val_acc: 0.8500\n",
      "Epoch 64/500\n",
      "896/896 [==============================] - 2s 2ms/sample - loss: 0.1106 - acc: 0.9699 - val_loss: 2.8152 - val_acc: 0.5100\n",
      "Epoch 65/500\n",
      "896/896 [==============================] - 2s 2ms/sample - loss: 0.0859 - acc: 0.9721 - val_loss: 0.3683 - val_acc: 0.8800\n",
      "Epoch 66/500\n",
      "896/896 [==============================] - 2s 2ms/sample - loss: 0.0779 - acc: 0.9732 - val_loss: 0.3535 - val_acc: 0.8500\n",
      "Epoch 67/500\n",
      "896/896 [==============================] - 2s 2ms/sample - loss: 0.0610 - acc: 0.9855 - val_loss: 0.3928 - val_acc: 0.8200\n",
      "Epoch 68/500\n",
      "896/896 [==============================] - 2s 2ms/sample - loss: 0.0951 - acc: 0.9710 - val_loss: 0.2897 - val_acc: 0.8900\n",
      "Epoch 69/500\n",
      "896/896 [==============================] - 2s 2ms/sample - loss: 0.0385 - acc: 0.9888 - val_loss: 2.0694 - val_acc: 0.6700\n",
      "Epoch 70/500\n",
      "896/896 [==============================] - 2s 2ms/sample - loss: 0.0849 - acc: 0.9844 - val_loss: 0.8587 - val_acc: 0.6300\n",
      "Epoch 71/500\n",
      "896/896 [==============================] - 2s 2ms/sample - loss: 0.1653 - acc: 0.9609 - val_loss: 2.0055 - val_acc: 0.5200\n",
      "Epoch 72/500\n",
      "896/896 [==============================] - 2s 2ms/sample - loss: 0.0678 - acc: 0.9766 - val_loss: 0.4496 - val_acc: 0.8200\n",
      "Epoch 73/500\n",
      "896/896 [==============================] - 2s 2ms/sample - loss: 0.0774 - acc: 0.9821 - val_loss: 0.2515 - val_acc: 0.8900\n",
      "Epoch 74/500\n",
      "896/896 [==============================] - 2s 2ms/sample - loss: 0.1701 - acc: 0.9621 - val_loss: 0.3001 - val_acc: 0.9200\n",
      "Epoch 75/500\n",
      "896/896 [==============================] - 2s 2ms/sample - loss: 0.0746 - acc: 0.9788 - val_loss: 1.1140 - val_acc: 0.7600\n",
      "Epoch 76/500\n",
      "896/896 [==============================] - 2s 2ms/sample - loss: 0.0560 - acc: 0.9810 - val_loss: 1.2854 - val_acc: 0.8000\n",
      "Epoch 77/500\n",
      "896/896 [==============================] - 2s 2ms/sample - loss: 0.0834 - acc: 0.9754 - val_loss: 0.7927 - val_acc: 0.7800\n",
      "Epoch 78/500\n",
      "896/896 [==============================] - 2s 2ms/sample - loss: 0.1251 - acc: 0.9844 - val_loss: 0.3267 - val_acc: 0.8200\n",
      "Epoch 79/500\n",
      "896/896 [==============================] - 2s 2ms/sample - loss: 0.0912 - acc: 0.9766 - val_loss: 0.6083 - val_acc: 0.8700\n",
      "Epoch 80/500\n",
      "896/896 [==============================] - 2s 2ms/sample - loss: 0.1651 - acc: 0.9688 - val_loss: 0.6968 - val_acc: 0.7000\n",
      "Epoch 81/500\n",
      "896/896 [==============================] - 2s 2ms/sample - loss: 0.1177 - acc: 0.9676 - val_loss: 1.6257 - val_acc: 0.7400\n",
      "Epoch 82/500\n",
      "896/896 [==============================] - 2s 2ms/sample - loss: 0.0778 - acc: 0.9799 - val_loss: 0.3661 - val_acc: 0.8800\n",
      "Epoch 83/500\n",
      "896/896 [==============================] - 2s 2ms/sample - loss: 0.0528 - acc: 0.9821 - val_loss: 1.9423 - val_acc: 0.7500\n",
      "Epoch 84/500\n",
      "896/896 [==============================] - 2s 2ms/sample - loss: 0.0225 - acc: 0.9933 - val_loss: 0.4207 - val_acc: 0.8700\n",
      "Epoch 85/500\n",
      "896/896 [==============================] - 2s 2ms/sample - loss: 0.0467 - acc: 0.9955 - val_loss: 0.3912 - val_acc: 0.8900\n",
      "Epoch 86/500\n",
      "896/896 [==============================] - 2s 2ms/sample - loss: 0.0859 - acc: 0.9855 - val_loss: 0.9140 - val_acc: 0.6300\n",
      "Epoch 87/500\n",
      "896/896 [==============================] - 2s 2ms/sample - loss: 0.0490 - acc: 0.9833 - val_loss: 0.3813 - val_acc: 0.8500\n",
      "Epoch 88/500\n",
      "896/896 [==============================] - 2s 2ms/sample - loss: 0.0448 - acc: 0.9833 - val_loss: 1.4424 - val_acc: 0.7500\n",
      "Epoch 89/500\n",
      "896/896 [==============================] - 2s 2ms/sample - loss: 0.0268 - acc: 0.9911 - val_loss: 0.3266 - val_acc: 0.8800\n",
      "Epoch 90/500\n",
      "896/896 [==============================] - 2s 2ms/sample - loss: 0.0963 - acc: 0.9754 - val_loss: 0.7505 - val_acc: 0.8100\n",
      "Epoch 91/500\n",
      "896/896 [==============================] - 2s 2ms/sample - loss: 0.0475 - acc: 0.9922 - val_loss: 0.2438 - val_acc: 0.9100\n",
      "Epoch 92/500\n",
      "896/896 [==============================] - 2s 2ms/sample - loss: 0.0577 - acc: 0.9833 - val_loss: 0.6465 - val_acc: 0.8400\n",
      "Epoch 93/500\n",
      "896/896 [==============================] - 2s 2ms/sample - loss: 0.0488 - acc: 0.9888 - val_loss: 0.9250 - val_acc: 0.7600\n",
      "Epoch 94/500\n",
      "896/896 [==============================] - 2s 2ms/sample - loss: 0.1404 - acc: 0.9699 - val_loss: 0.3969 - val_acc: 0.8800\n",
      "Epoch 95/500\n",
      "896/896 [==============================] - 2s 2ms/sample - loss: 0.1067 - acc: 0.9688 - val_loss: 0.2587 - val_acc: 0.9100\n",
      "Epoch 96/500\n",
      "896/896 [==============================] - 2s 2ms/sample - loss: 0.0401 - acc: 0.9855 - val_loss: 1.3820 - val_acc: 0.6900\n",
      "Epoch 97/500\n",
      "896/896 [==============================] - 2s 2ms/sample - loss: 0.0247 - acc: 0.9900 - val_loss: 0.3560 - val_acc: 0.8700\n",
      "Epoch 98/500\n",
      "896/896 [==============================] - 2s 2ms/sample - loss: 0.0471 - acc: 0.9877 - val_loss: 2.2744 - val_acc: 0.5100\n",
      "Epoch 99/500\n",
      "896/896 [==============================] - 2s 2ms/sample - loss: 0.0265 - acc: 0.9922 - val_loss: 3.7591 - val_acc: 0.4900\n",
      "Epoch 100/500\n",
      "896/896 [==============================] - 2s 2ms/sample - loss: 0.0581 - acc: 0.9900 - val_loss: 0.9138 - val_acc: 0.7400\n",
      "Epoch 101/500\n",
      "896/896 [==============================] - 2s 2ms/sample - loss: 0.0444 - acc: 0.9833 - val_loss: 0.6620 - val_acc: 0.8800\n",
      "Epoch 102/500\n",
      "896/896 [==============================] - 2s 2ms/sample - loss: 0.0656 - acc: 0.9855 - val_loss: 0.8329 - val_acc: 0.8000\n",
      "Epoch 103/500\n",
      "896/896 [==============================] - 2s 2ms/sample - loss: 0.0849 - acc: 0.9810 - val_loss: 3.2236 - val_acc: 0.5900\n",
      "Epoch 104/500\n",
      "896/896 [==============================] - 2s 2ms/sample - loss: 0.0807 - acc: 0.9844 - val_loss: 0.7135 - val_acc: 0.8700\n",
      "Epoch 105/500\n",
      "896/896 [==============================] - 2s 2ms/sample - loss: 0.0818 - acc: 0.9665 - val_loss: 1.6732 - val_acc: 0.8000\n",
      "Epoch 106/500\n",
      "896/896 [==============================] - 2s 2ms/sample - loss: 0.0882 - acc: 0.9844 - val_loss: 0.3947 - val_acc: 0.8700\n",
      "Epoch 107/500\n",
      "896/896 [==============================] - 2s 2ms/sample - loss: 0.0288 - acc: 0.9900 - val_loss: 1.7261 - val_acc: 0.7800\n",
      "Epoch 108/500\n",
      "896/896 [==============================] - 2s 2ms/sample - loss: 0.0480 - acc: 0.9911 - val_loss: 0.4400 - val_acc: 0.8900\n",
      "Epoch 109/500\n",
      "896/896 [==============================] - 2s 2ms/sample - loss: 0.0543 - acc: 0.9877 - val_loss: 0.4844 - val_acc: 0.8300\n",
      "Epoch 110/500\n",
      "896/896 [==============================] - 2s 2ms/sample - loss: 0.0802 - acc: 0.9877 - val_loss: 1.1085 - val_acc: 0.7900\n",
      "Epoch 111/500\n",
      "896/896 [==============================] - 2s 2ms/sample - loss: 0.0303 - acc: 0.9922 - val_loss: 0.5839 - val_acc: 0.8500\n",
      "Epoch 112/500\n",
      "896/896 [==============================] - 2s 2ms/sample - loss: 0.1338 - acc: 0.9665 - val_loss: 1.2582 - val_acc: 0.7700\n",
      "Epoch 113/500\n",
      "896/896 [==============================] - 2s 2ms/sample - loss: 0.0433 - acc: 0.9833 - val_loss: 1.3588 - val_acc: 0.6200\n",
      "Epoch 114/500\n",
      "896/896 [==============================] - 2s 2ms/sample - loss: 0.0267 - acc: 0.9911 - val_loss: 1.8348 - val_acc: 0.7600\n",
      "Epoch 115/500\n",
      "896/896 [==============================] - 2s 2ms/sample - loss: 0.1327 - acc: 0.9766 - val_loss: 1.5655 - val_acc: 0.6800\n",
      "Epoch 116/500\n",
      "896/896 [==============================] - 2s 2ms/sample - loss: 0.0246 - acc: 0.9933 - val_loss: 0.3555 - val_acc: 0.8800\n",
      "Epoch 117/500\n",
      "896/896 [==============================] - 2s 2ms/sample - loss: 0.0622 - acc: 0.9777 - val_loss: 1.4056 - val_acc: 0.8200\n",
      "Epoch 118/500\n",
      "896/896 [==============================] - 2s 2ms/sample - loss: 0.0471 - acc: 0.9933 - val_loss: 0.4079 - val_acc: 0.8700\n",
      "Epoch 119/500\n",
      "896/896 [==============================] - 2s 2ms/sample - loss: 0.0539 - acc: 0.9911 - val_loss: 0.5775 - val_acc: 0.8800\n",
      "Epoch 120/500\n",
      "896/896 [==============================] - 2s 2ms/sample - loss: 0.0397 - acc: 0.9955 - val_loss: 0.4773 - val_acc: 0.8500\n",
      "Epoch 121/500\n"
     ]
    },
    {
     "name": "stdout",
     "output_type": "stream",
     "text": [
      "896/896 [==============================] - 2s 2ms/sample - loss: 0.0844 - acc: 0.9855 - val_loss: 0.7764 - val_acc: 0.8500\n",
      "Epoch 122/500\n",
      "896/896 [==============================] - 2s 2ms/sample - loss: 0.0169 - acc: 0.9967 - val_loss: 0.4367 - val_acc: 0.8900\n",
      "Epoch 123/500\n",
      "896/896 [==============================] - 2s 2ms/sample - loss: 0.0358 - acc: 0.9933 - val_loss: 0.4518 - val_acc: 0.8900\n",
      "Epoch 124/500\n",
      "896/896 [==============================] - 2s 2ms/sample - loss: 0.0427 - acc: 0.9888 - val_loss: 1.1292 - val_acc: 0.8100\n",
      "Epoch 125/500\n",
      "896/896 [==============================] - 2s 2ms/sample - loss: 0.0340 - acc: 0.9900 - val_loss: 0.5425 - val_acc: 0.8900\n",
      "Epoch 126/500\n",
      "896/896 [==============================] - 2s 2ms/sample - loss: 0.0899 - acc: 0.9833 - val_loss: 0.4202 - val_acc: 0.8900\n",
      "Epoch 127/500\n",
      "896/896 [==============================] - 2s 2ms/sample - loss: 0.0287 - acc: 0.9911 - val_loss: 0.4319 - val_acc: 0.9200\n",
      "Epoch 128/500\n",
      "896/896 [==============================] - 2s 2ms/sample - loss: 0.0305 - acc: 0.9922 - val_loss: 0.3882 - val_acc: 0.8500\n",
      "Epoch 129/500\n",
      "896/896 [==============================] - 2s 2ms/sample - loss: 0.0177 - acc: 0.9944 - val_loss: 0.5820 - val_acc: 0.8700\n",
      "Epoch 130/500\n",
      "896/896 [==============================] - 2s 2ms/sample - loss: 0.0162 - acc: 0.9955 - val_loss: 4.3128 - val_acc: 0.6200\n",
      "Epoch 131/500\n",
      "896/896 [==============================] - 2s 2ms/sample - loss: 0.0639 - acc: 0.9810 - val_loss: 0.6104 - val_acc: 0.8700\n",
      "Epoch 132/500\n",
      "896/896 [==============================] - 2s 2ms/sample - loss: 0.0433 - acc: 0.9888 - val_loss: 1.6916 - val_acc: 0.7800\n",
      "Epoch 133/500\n",
      "896/896 [==============================] - 2s 2ms/sample - loss: 0.0362 - acc: 0.9933 - val_loss: 0.6714 - val_acc: 0.8600\n",
      "Epoch 134/500\n",
      "896/896 [==============================] - 2s 2ms/sample - loss: 0.0876 - acc: 0.9844 - val_loss: 0.4054 - val_acc: 0.8800\n",
      "Epoch 135/500\n",
      "896/896 [==============================] - 2s 2ms/sample - loss: 0.0342 - acc: 0.9933 - val_loss: 0.4914 - val_acc: 0.8200\n",
      "Epoch 136/500\n",
      "896/896 [==============================] - 2s 2ms/sample - loss: 0.0106 - acc: 0.9967 - val_loss: 0.4058 - val_acc: 0.8800\n",
      "Epoch 137/500\n",
      "896/896 [==============================] - 2s 2ms/sample - loss: 0.0248 - acc: 0.9911 - val_loss: 0.4731 - val_acc: 0.8600\n",
      "Epoch 138/500\n",
      "896/896 [==============================] - 2s 2ms/sample - loss: 0.0665 - acc: 0.9821 - val_loss: 0.4606 - val_acc: 0.8800\n",
      "Epoch 139/500\n",
      "896/896 [==============================] - 2s 2ms/sample - loss: 0.1343 - acc: 0.9766 - val_loss: 0.8947 - val_acc: 0.7400\n",
      "Epoch 140/500\n",
      "896/896 [==============================] - 2s 2ms/sample - loss: 0.0490 - acc: 0.9855 - val_loss: 0.5203 - val_acc: 0.8100\n",
      "Epoch 141/500\n",
      "864/896 [===========================>..] - ETA: 0s - loss: 0.0693 - acc: 0.9838Restoring model weights from the end of the best epoch.\n",
      "896/896 [==============================] - 2s 2ms/sample - loss: 0.0669 - acc: 0.9844 - val_loss: 0.5717 - val_acc: 0.8700\n",
      "Epoch 00141: early stopping\n"
     ]
    }
   ],
   "source": [
    "from tensorflow.keras.callbacks import TensorBoard\n",
    "import time\n",
    "\n",
    "name = \"MaleAngerNeu-{}\".format(time.time())\n",
    "print(name)\n",
    "tensorboard = TensorBoard(log_dir=\"logs/{}\".format(name))\n",
    "\n",
    "early_stop = tf.keras.callbacks.EarlyStopping(monitor='val_loss',\n",
    "                                                 patience=50,\n",
    "                                                 verbose=1, \n",
    "                                                 mode='min',\n",
    "                                                 restore_best_weights=True)\n",
    "\n",
    "my_callbacks = [early_stop, tensorboard]\n",
    "\n",
    "history = model.fit(X_train, Y_train, \n",
    "              epochs = 500, \n",
    "              validation_split=0.1, \n",
    "              verbose=1, \n",
    "              batch_size = 8,\n",
    "              callbacks=my_callbacks)\n",
    "\n",
    "history_info = history.history"
   ]
  },
  {
   "cell_type": "markdown",
   "metadata": {},
   "source": [
    "<h2>Evaluation (Basic)</h2>"
   ]
  },
  {
   "cell_type": "code",
   "execution_count": 45,
   "metadata": {
    "scrolled": true
   },
   "outputs": [
    {
     "data": {
      "text/plain": [
       "<matplotlib.axes._subplots.AxesSubplot at 0x7f04c8d657d0>"
      ]
     },
     "execution_count": 45,
     "metadata": {},
     "output_type": "execute_result"
    },
    {
     "data": {
      "image/png": "[encoded data removed]",
      "text/plain": [
       "<Figure size 432x288 with 2 Axes>"
      ]
     },
     "metadata": {
      "needs_background": "light"
     },
     "output_type": "display_data"
    }
   ],
   "source": [
    "## Loss and accuracy history\n",
    "_, axs = plt.subplots(ncols=2)\n",
    "df_history_info = pd.DataFrame(history_info) \n",
    "\n",
    "\n",
    "sns.lineplot(data=df_history_info['loss'],ax=axs[0], label='Training Loss', legend='brief')\n",
    "sns.lineplot(data=df_history_info['val_loss'],ax=axs[0], label='Validation Loss', legend='brief')\n",
    "\n",
    "sns.lineplot(data=df_history_info['acc'],ax=axs[1], label='Training Accuracy', legend='brief')\n",
    "sns.lineplot(data=df_history_info['val_acc'],ax=axs[1], label='Validation Accuracy', legend='brief')"
   ]
  },
  {
   "cell_type": "code",
   "execution_count": 46,
   "metadata": {},
   "outputs": [],
   "source": [
    "def generate_actual_predicted(Y_pred, X_test, Y_test): \n",
    "    predicted = list()\n",
    "    for i in range(len(Y_pred)):\n",
    "        predicted.append(np.argmax(Y_pred[i]))\n",
    "        \n",
    "    actual = list()\n",
    "    for i in range(len(Y_test)):\n",
    "        actual.append(np.argmax(Y_test[i]))\n",
    "        \n",
    "    return actual, predicted"
   ]
  },
  {
   "cell_type": "code",
   "execution_count": 47,
   "metadata": {},
   "outputs": [
    {
     "name": "stdout",
     "output_type": "stream",
     "text": [
      "[[121  14]\n",
      " [ 16  99]]\n"
     ]
    },
    {
     "data": {
      "image/png": "[encoded data removed]",
      "text/plain": [
       "<Figure size 432x288 with 2 Axes>"
      ]
     },
     "metadata": {
      "needs_background": "light"
     },
     "output_type": "display_data"
    }
   ],
   "source": [
    "Y_pred = model.predict(X_test)\n",
    "actual, predicted = generate_actual_predicted(Y_pred, X_test, Y_test)\n",
    "\n",
    "##Confusion Matrix\n",
    "from sklearn.metrics import confusion_matrix\n",
    "actual_labeled = list()\n",
    "predict_labeled = list()\n",
    "for x,y in zip(actual,predicted):\n",
    "    actual_labeled.append(getEmotion(x))\n",
    "    predict_labeled.append(getEmotion(y))\n",
    "\n",
    "labels = ['ANG','NEU']\n",
    "cm=confusion_matrix(actual_labeled,predict_labeled,labels=labels)\n",
    "print(cm)\n",
    "\n",
    "ax= plt.subplot()\n",
    "sns.heatmap(cm, annot=True, ax = ax); #annot=True to annotate cells\n",
    "\n",
    "# labels, title and ticks\n",
    "ax.set_xlabel('Predicted labels');ax.set_ylabel('True labels'); \n",
    "ax.set_title('Confusion Matrix'); \n",
    "ax.xaxis.set_ticklabels(labels); ax.yaxis.set_ticklabels(labels);"
   ]
  },
  {
   "cell_type": "code",
   "execution_count": 48,
   "metadata": {},
   "outputs": [
    {
     "name": "stdout",
     "output_type": "stream",
     "text": [
      "accuracy 0.88\n"
     ]
    }
   ],
   "source": [
    "## Test accuracy\n",
    "from sklearn.metrics import accuracy_score\n",
    "print('accuracy', accuracy_score(actual, predicted))\n"
   ]
  },
  {
   "cell_type": "code",
   "execution_count": 49,
   "metadata": {},
   "outputs": [
    {
     "name": "stdout",
     "output_type": "stream",
     "text": [
      "              precision    recall  f1-score   support\n",
      "\n",
      "         ANG       0.88      0.90      0.89       135\n",
      "         NEU       0.88      0.86      0.87       115\n",
      "\n",
      "    accuracy                           0.88       250\n",
      "   macro avg       0.88      0.88      0.88       250\n",
      "weighted avg       0.88      0.88      0.88       250\n",
      "\n"
     ]
    }
   ],
   "source": [
    "## Precision, Recall, F1, Support\n",
    "from sklearn.metrics import classification_report\n",
    "print(classification_report(actual_labeled, predict_labeled,labels=labels))"
   ]
  },
  {
   "cell_type": "code",
   "execution_count": 50,
   "metadata": {},
   "outputs": [],
   "source": [
    "##ROC AUC Scores\n",
    "#from sklearn.metrics import roc_auc_score\n",
    "#print('One-vs-One ROC AUC scores:')\n",
    "#print(roc_auc_score(actual, Y_pred, average='macro', multi_class='ovo'), '(macro)')\n",
    "#print(roc_auc_score(actual, Y_pred, average='weighted', multi_class='ovo'), '(weighted by prevalence)')\n",
    "\n",
    "\n",
    "#print()\n",
    "#print('One-vs-Rest ROC AUC scores:')\n",
    "#print(roc_auc_score(actual, Y_pred, average='macro', multi_class='ovr'), '(macro)')\n",
    "#print(roc_auc_score(actual, Y_pred, average='weighted', multi_class='ovr'), '(weighted by prevalence)')"
   ]
  },
  {
   "cell_type": "code",
   "execution_count": 51,
   "metadata": {},
   "outputs": [
    {
     "data": {
      "text/plain": [
       "[<matplotlib.lines.Line2D at 0x7f04c8be2d90>]"
      ]
     },
     "execution_count": 51,
     "metadata": {},
     "output_type": "execute_result"
    },
    {
     "data": {
      "image/png": "[encoded data removed]",
      "text/plain": [
       "<Figure size 432x288 with 1 Axes>"
      ]
     },
     "metadata": {
      "needs_background": "light"
     },
     "output_type": "display_data"
    }
   ],
   "source": [
    "## ROC Curves\n",
    "from sklearn.metrics import roc_curve, auc\n",
    "import seaborn as sns\n",
    "from scipy import interp\n",
    "\n",
    "### The following curves are generated s.t each point is a model from differing thresholds\n",
    "\n",
    "_, axs = plt.subplots(ncols=1)\n",
    "axs.set(xlabel='False Positive Rate',ylabel='True Positive Rate', title='ROC Curve for Female Anger vs. Neutral')\n",
    "\n",
    "\n",
    "fpr, tpr, _ = roc_curve(Y_test[:,0], Y_pred[:,0])\n",
    "auc_val = auc(fpr, tpr)\n",
    "sns.lineplot(x=fpr,y=tpr,ax=axs, label='Area = ' + str(auc_val) + '', legend='brief')\n",
    "\n",
    "\n",
    "plt.plot([0, 1], [0, 1], 'k--', lw=2)"
   ]
  },
  {
   "cell_type": "code",
   "execution_count": 52,
   "metadata": {},
   "outputs": [
    {
     "data": {
      "text/plain": [
       "[<matplotlib.lines.Line2D at 0x7f04c8b53350>]"
      ]
     },
     "execution_count": 52,
     "metadata": {},
     "output_type": "execute_result"
    },
    {
     "data": {
      "image/png": "[encoded data removed]",
      "text/plain": [
       "<Figure size 432x288 with 1 Axes>"
      ]
     },
     "metadata": {
      "needs_background": "light"
     },
     "output_type": "display_data"
    }
   ],
   "source": [
    "## Precision/Recall Curves per class\n",
    "### The following curves are generated s.t each point is a model from differing thresholds\n",
    "from sklearn.metrics import precision_recall_curve\n",
    "\n",
    "_, axs = plt.subplots(ncols=1)\n",
    "axs.set(xlabel='Recall',ylabel='Precision', title='Precision/Recall Curve for Female Anger vs. Neutral')\n",
    "\n",
    "prec, rec, _ = precision_recall_curve(Y_test[:,0], Y_pred[:,0])\n",
    "sns.lineplot(x=rec,y=prec,ax=axs)\n",
    "\n",
    "# Diagonal line for comparison\n",
    "plt.plot([1, 0], [0, 1], 'k--', lw=2)"
   ]
  },
  {
   "cell_type": "markdown",
   "metadata": {},
   "source": [
    "<h2>K-Fold Training and Evaluation</h2>"
   ]
  },
  {
   "cell_type": "code",
   "execution_count": null,
   "metadata": {},
   "outputs": [],
   "source": [
    "#Precision Mean and Standard Deviation\n",
    "#Recall Mean and Standard Deviation\n",
    "#F1 Measure Mean and Standard Deviation\n",
    "#True Positive Rate. Mean and Standard Deviation\n",
    "#False Negative Rate Mean and Standard Deviation\n",
    "#Best/Worst ROC\n",
    "#Best/Worst Precision/Recall\n",
    "#Accuracy Mean and Standard Deviation"
   ]
  },
  {
   "cell_type": "code",
   "execution_count": null,
   "metadata": {},
   "outputs": [],
   "source": [
    "from sklearn.metrics import precision_recall_fscore_support\n",
    "from sklearn.model_selection import KFold\n",
    "from sklearn.metrics import accuracy_score, precision_score, recall_score, f1_score, roc_auc_score, roc_curve, auc, precision_recall_curve\n",
    "\n",
    "all_base_precision = list()\n",
    "all_base_recall = list()\n",
    "all_macro_precision = list()\n",
    "all_macro_recall = list()\n",
    "all_f1 = list()\n",
    "all_macro_f1 = list()\n",
    "\n",
    "\n",
    "all_tpr = list()\n",
    "all_fpr = list()\n",
    "all_precision = list()\n",
    "all_recall = list()\n",
    "\n",
    "all_accuracy = list()\n",
    "\n",
    "\n",
    "n_split=3\n",
    "for train_index,test_index in KFold(n_split).split(X_all):  \n",
    "    # use the index to generate training an testing sets\n",
    "    x_train,x_test=X_all[train_index],X_all[test_index]\n",
    "    y_train,y_test=Y_all[train_index],Y_all[test_index]\n",
    "\n",
    "    # create and fit the model\n",
    "    cv_model=build_current_model()\n",
    "    history = cv_model.fit(x_train, y_train,\n",
    "              batch_size=8,\n",
    "              epochs=30,\n",
    "              validation_split=0.1,\n",
    "              verbose=1)\n",
    "    \n",
    "    #generate predictions\n",
    "    y_pred = cv_model.predict(x_test)\n",
    "    actual, predicted = generate_actual_predicted(y_pred, x_test, y_test)\n",
    "    \n",
    "    #calc metrics\n",
    "    curr_base_prec, curr_base_rec, curr_f1, _ = precision_recall_fscore_support(actual, predicted)\n",
    "    curr_macro_prec = precision_score(actual, predicted,average='macro')\n",
    "    curr_macro_rec = recall_score(actual, predicted,average='macro')\n",
    "    curr_macro_f1 = f1_score(actual, predicted,average='macro')\n",
    "\n",
    "    \n",
    "    curr_fpr = [0] * 6\n",
    "    curr_tpr = [0] * 6\n",
    "    for i in range(6):\n",
    "        curr_fpr[i], curr_tpr[i], _ = roc_curve(y_test[:,i], y_pred[:,i])\n",
    "        \n",
    "    curr_prec = [0] * 6\n",
    "    curr_rec = [0] * 6\n",
    "    for i in range(6):\n",
    "        curr_prec[i], curr_rec[i], _ = precision_recall_curve(y_test[:,i], y_pred[:,i])\n",
    "\n",
    "        \n",
    "    curr_accuracy = accuracy_score(actual, predicted)\n",
    "    \n",
    "    #add to lists\n",
    "    all_base_precision.append(curr_base_prec)\n",
    "    all_base_recall.append(curr_base_rec)\n",
    "    all_macro_precision.append(curr_macro_prec)\n",
    "    all_macro_recall.append(curr_macro_rec)\n",
    "    \n",
    "    all_f1.append(curr_f1)\n",
    "    all_macro_f1.append(curr_macro_f1)\n",
    "    \n",
    "    all_accuracy.append(curr_accuracy)\n",
    "\n",
    "    \n",
    "    all_fpr.append(curr_fpr)\n",
    "    all_tpr.append(curr_tpr)\n",
    "    all_precision.append(curr_prec)\n",
    "    all_recall.append(curr_rec)\n",
    "    \n",
    "    \n"
   ]
  },
  {
   "cell_type": "code",
   "execution_count": null,
   "metadata": {},
   "outputs": [],
   "source": [
    "print('precision mean by class', np.array(all_base_precision).mean(axis=0))\n",
    "print('precision sdev by class', np.array(all_base_precision).std(axis=0))\n",
    "\n",
    "print('macro precision mean', np.array(all_macro_precision).mean())\n",
    "print('macro precision sdev', np.array(all_macro_precision).std())\n",
    "\n",
    "\n",
    "print('recall mean', np.array(all_base_recall).mean(axis=0))\n",
    "print('recall sdev', np.array(all_base_recall).std(axis=0))\n",
    "\n",
    "print('macro recall mean', np.array(all_macro_recall).mean())\n",
    "print('macro recall sdev', np.array(all_macro_recall).std())\n",
    "\n",
    "print('f1 mean', np.array(all_f1).mean(axis=0))\n",
    "print('f1 sdev', np.array(all_f1).std(axis=0))\n",
    "\n",
    "print('macro f1 mean', np.array(all_macro_f1).mean())\n",
    "print('macro f1 sdev', np.array(all_macro_f1).std())\n",
    "\n",
    "print('accuracy mean', np.array(all_accuracy).mean())\n",
    "print('accuracy sdev', np.array(all_accuracy).std())\n",
    "\n"
   ]
  },
  {
   "cell_type": "code",
   "execution_count": null,
   "metadata": {},
   "outputs": [],
   "source": [
    "# Plot all K-Fold ROC curves\n",
    "for i in range(3):\n",
    "    _, axs = plt.subplots(ncols=1)\n",
    "    axs.set(xlabel='False Positive Rate',ylabel='True Positive Rate', title='ROC Curve K-Fold#'+str(i+1))\n",
    "    for j in range(6):\n",
    "        auc_val = auc(all_fpr[i][j], all_tpr[i][j])\n",
    "        sns.lineplot(x=all_fpr[i][j],y=all_tpr[i][j],ax=axs, label='Class '+ getEmotion(j) +' (area = ' + str(auc_val) + ')', legend='brief')\n",
    "        "
   ]
  },
  {
   "cell_type": "code",
   "execution_count": null,
   "metadata": {},
   "outputs": [],
   "source": [
    "#Plot all K-Fold Precision/Recall curves\n",
    "for i in range(3):\n",
    "    _, axs = plt.subplots(ncols=1)\n",
    "    axs.set(xlabel='Recall',ylabel='Precision', title='Precision/Recall Curve K-Fold#'+str(i+1))\n",
    "    for j in range(6):\n",
    "        sns.lineplot(x=all_recall[i][j],y=all_precision[i][j],ax=axs, label='Class '+ getEmotion(j), legend='brief')"
   ]
  },
  {
   "cell_type": "markdown",
   "metadata": {},
   "source": [
    "<h2>Storing/Loading history and model to file</h2>"
   ]
  },
  {
   "cell_type": "code",
   "execution_count": null,
   "metadata": {},
   "outputs": [],
   "source": [
    "#Store History\n",
    "hist_df = pd.DataFrame(history.history) \n",
    "hist_json_file = 'ref7varhistory.json' \n",
    "with open(hist_json_file, mode='w') as f:\n",
    "    hist_df.to_json(f)"
   ]
  },
  {
   "cell_type": "code",
   "execution_count": null,
   "metadata": {},
   "outputs": [],
   "source": [
    "#Load History \n",
    "history_info = pd.read_json('history.json')"
   ]
  },
  {
   "cell_type": "code",
   "execution_count": null,
   "metadata": {},
   "outputs": [],
   "source": [
    "##Save Model\n",
    "model.save('ref7var_trained.model') #Save the model"
   ]
  },
  {
   "cell_type": "code",
   "execution_count": null,
   "metadata": {},
   "outputs": [],
   "source": [
    "## Load Model\n",
    "model = tf.keras.models.load_model('mobile_net_trained.model') #Re load model"
   ]
  }
 ],
 "metadata": {
  "kernelspec": {
   "display_name": "Python 3",
   "language": "python",
   "name": "python3"
  },
  "language_info": {
   "codemirror_mode": {
    "name": "ipython",
    "version": 3
   },
   "file_extension": ".py",
   "mimetype": "text/x-python",
   "name": "python",
   "nbconvert_exporter": "python",
   "pygments_lexer": "ipython3",
   "version": "3.7.7"
  }
 },
 "nbformat": 4,
 "nbformat_minor": 4
}
